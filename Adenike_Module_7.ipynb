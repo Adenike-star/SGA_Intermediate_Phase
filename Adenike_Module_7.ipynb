{
 "cells": [
  {
   "cell_type": "markdown",
   "id": "ea4f71cc-3255-4283-93c1-da83a00d1b0d",
   "metadata": {
    "id": "ea4f71cc-3255-4283-93c1-da83a00d1b0d"
   },
   "source": [
    "# Assignment 7 (Week 7)\n",
    "\n",
    ">**Note**: \n",
    "\n",
    "```\n",
    "- Late submissions are penalized.\n",
    "- Only GitHub submissions are acceptable.\n",
    "```\n",
    "\n",
    "## Name: Enter Your Name\n",
    "\n",
    "<br>\n",
    "\n",
    "## Please show and display ALL your calculations and results.\n",
    "> Remember to read the **`instructions`** carefully."
   ]
  },
  {
   "cell_type": "code",
   "execution_count": 1,
   "id": "7f659c96-b085-483c-960c-16b53a0312e3",
   "metadata": {
    "id": "7f659c96-b085-483c-960c-16b53a0312e3"
   },
   "outputs": [
    {
     "data": {
      "application/javascript": [
       "\n",
       "            setTimeout(function() {\n",
       "                var nbb_cell_id = 1;\n",
       "                var nbb_unformatted_code = \"# Built-in library\\nimport itertools\\n\\n# Standard imports\\nimport numpy as np\\nimport pandas as pd\\nimport matplotlib.pyplot as plt\\nimport seaborn as sns\\n\\n\\n# pandas settings\\npd.options.display.max_rows = 1_000\\npd.options.display.max_columns = 1_000\\npd.options.display.max_colwidth = 1_000\\n\\n\\n# Black code formatter (Optional)\\n%load_ext nb_black\";\n",
       "                var nbb_formatted_code = \"# Built-in library\\nimport itertools\\n\\n# Standard imports\\nimport numpy as np\\nimport pandas as pd\\nimport matplotlib.pyplot as plt\\nimport seaborn as sns\\n\\n\\n# pandas settings\\npd.options.display.max_rows = 1_000\\npd.options.display.max_columns = 1_000\\npd.options.display.max_colwidth = 1_000\\n\\n\\n# Black code formatter (Optional)\\n%load_ext nb_black\";\n",
       "                var nbb_cells = Jupyter.notebook.get_cells();\n",
       "                for (var i = 0; i < nbb_cells.length; ++i) {\n",
       "                    if (nbb_cells[i].input_prompt_number == nbb_cell_id) {\n",
       "                        if (nbb_cells[i].get_text() == nbb_unformatted_code) {\n",
       "                             nbb_cells[i].set_text(nbb_formatted_code);\n",
       "                        }\n",
       "                        break;\n",
       "                    }\n",
       "                }\n",
       "            }, 500);\n",
       "            "
      ],
      "text/plain": [
       "<IPython.core.display.Javascript object>"
      ]
     },
     "metadata": {},
     "output_type": "display_data"
    }
   ],
   "source": [
    "# Built-in library\n",
    "import itertools\n",
    "\n",
    "# Standard imports\n",
    "import numpy as np\n",
    "import pandas as pd\n",
    "import matplotlib.pyplot as plt\n",
    "import seaborn as sns\n",
    "\n",
    "\n",
    "# pandas settings\n",
    "pd.options.display.max_rows = 1_000\n",
    "pd.options.display.max_columns = 1_000\n",
    "pd.options.display.max_colwidth = 1_000\n",
    "\n",
    "\n",
    "# Black code formatter (Optional)\n",
    "%load_ext nb_black"
   ]
  },
  {
   "cell_type": "code",
   "execution_count": null,
   "id": "ffed0267-e8b6-4bb2-ba37-34771056f387",
   "metadata": {
    "id": "ffed0267-e8b6-4bb2-ba37-34771056f387"
   },
   "outputs": [],
   "source": []
  },
  {
   "cell_type": "code",
   "execution_count": null,
   "id": "10d6ec1e-c5a9-4fc3-b00e-aa9f3966e96f",
   "metadata": {
    "id": "10d6ec1e-c5a9-4fc3-b00e-aa9f3966e96f"
   },
   "outputs": [],
   "source": []
  },
  {
   "cell_type": "markdown",
   "id": "172f8480-1c1d-46b3-a205-87f96b140b69",
   "metadata": {
    "id": "172f8480-1c1d-46b3-a205-87f96b140b69"
   },
   "source": [
    "> The data can be found [here](https://drive.google.com/file/d/1_c3KA14xQC02K0QZ4cpi1emjdz0rqHzb/view?usp=share_link).\n",
    "\n",
    "### Data Dictionary\n",
    "\n",
    "```\n",
    "- Age: continuous.\n",
    "\n",
    "- Workclass: Private, Self-emp-not-inc, Self-emp-inc, Federal-gov, Local-gov, State-gov, Without-pay, Never-worked.\n",
    "\n",
    "- Final_weight: continuous.\n",
    "\n",
    "- Education: Bachelors, Some-college, 11th, HS-grad, Prof-school, Assoc-acdm, Assoc-voc, 9th, 7th-8th, 12th, - Masters, 1st-4th, 10th, Doctorate, 5th-6th, Preschool.\n",
    "\n",
    "- Education_num: continuous.\n",
    "\n",
    "- Marital_status: Married-civ-spouse, Divorced, Never-married, Separated, Widowed, Married-spouse-absent, - Married-AF-spouse.\n",
    "\n",
    "- Occupation: Tech-support, Craft-repair, Other-service, Sales, Exec-managerial, Prof-specialty, Handlers-cleaners, Machine-op-inspct, Adm-clerical, Farming-fishing, Transport-moving, Priv-house-serv, Protective-serv, Armed-Forces.\n",
    "\n",
    "- Relationship: Wife, Own-child, Husband, Not-in-family, Other-relative, Unmarried.\n",
    "\n",
    "- Race: White, Asian-Pac-Islander, Amer-Indian-Eskimo, Other, Black.\n",
    "\n",
    "- Genger: Female, Male.\n",
    "\n",
    "- Capital_gain: continuous.\n",
    "\n",
    "- Capital_loss: continuous.\n",
    "\n",
    "- Hours_per_week: continuous.\n",
    "\n",
    "- Country: United-States, Cambodia, England, Puerto-Rico, Canada, Germany, Outlying-US(Guam-USVI-etc), India, Japan, Greece, South, China, Cuba, Iran, Honduras, Philippines, Italy, Poland, Jamaica, Vietnam, Mexico, Portugal, Ireland, France, Dominican-Republic, Laos, Ecuador, Taiwan, Haiti, Columbia, Hungary, Guatemala, Nicaragua, Scotland, Thailand, Yugoslavia, El-Salvador, Trinadad&Tobago, Peru, Hong, Holand-Netherlands.\n",
    "\n",
    "- Salary: \n",
    "```\n",
    "\n",
    "### Objective\n",
    "\n",
    "```\n",
    "Predict whether a person makes over 50K a year.\n",
    "\n",
    "```"
   ]
  },
  {
   "cell_type": "markdown",
   "id": "35397296-515a-40b0-a7a7-04ddfdff2c4b",
   "metadata": {
    "id": "35397296-515a-40b0-a7a7-04ddfdff2c4b"
   },
   "source": [
    "\n",
    "\n",
    "###  Qs 1. Build a machine learning model that predicts the salary.\n",
    "\n",
    "###  Qs 2. Evaluate the performance of your model using at least three (3) performance metrics.\n",
    "\n",
    "<hr>\n",
    "\n",
    "## Note: \n",
    "\n",
    "- The assignment **should** be submitted through a `public` GitHub repository."
   ]
  },
  {
   "cell_type": "code",
   "execution_count": 2,
   "id": "a0038bcd-5c4a-44f9-abe7-e3887fec07aa",
   "metadata": {
    "id": "a0038bcd-5c4a-44f9-abe7-e3887fec07aa"
   },
   "outputs": [
    {
     "data": {
      "text/html": [
       "<div>\n",
       "<style scoped>\n",
       "    .dataframe tbody tr th:only-of-type {\n",
       "        vertical-align: middle;\n",
       "    }\n",
       "\n",
       "    .dataframe tbody tr th {\n",
       "        vertical-align: top;\n",
       "    }\n",
       "\n",
       "    .dataframe thead th {\n",
       "        text-align: right;\n",
       "    }\n",
       "</style>\n",
       "<table border=\"1\" class=\"dataframe\">\n",
       "  <thead>\n",
       "    <tr style=\"text-align: right;\">\n",
       "      <th></th>\n",
       "      <th>Age</th>\n",
       "      <th>Workclass</th>\n",
       "      <th>Final_weight</th>\n",
       "      <th>Education</th>\n",
       "      <th>Education_num</th>\n",
       "      <th>Marital_status</th>\n",
       "      <th>Occupation</th>\n",
       "      <th>Relationship</th>\n",
       "      <th>Race</th>\n",
       "      <th>Sex</th>\n",
       "      <th>Capital_gain</th>\n",
       "      <th>Capital_loss</th>\n",
       "      <th>Hours_per_week</th>\n",
       "      <th>Country</th>\n",
       "      <th>Salary</th>\n",
       "    </tr>\n",
       "  </thead>\n",
       "  <tbody>\n",
       "    <tr>\n",
       "      <th>0</th>\n",
       "      <td>50</td>\n",
       "      <td>Self-emp-not-inc</td>\n",
       "      <td>83311</td>\n",
       "      <td>Bachelors</td>\n",
       "      <td>13</td>\n",
       "      <td>Married-civ-spouse</td>\n",
       "      <td>Exec-managerial</td>\n",
       "      <td>Husband</td>\n",
       "      <td>White</td>\n",
       "      <td>Male</td>\n",
       "      <td>0</td>\n",
       "      <td>0</td>\n",
       "      <td>13</td>\n",
       "      <td>United-States</td>\n",
       "      <td>&lt;=50K</td>\n",
       "    </tr>\n",
       "    <tr>\n",
       "      <th>1</th>\n",
       "      <td>38</td>\n",
       "      <td>Private</td>\n",
       "      <td>215646</td>\n",
       "      <td>HS-grad</td>\n",
       "      <td>9</td>\n",
       "      <td>Divorced</td>\n",
       "      <td>Handlers-cleaners</td>\n",
       "      <td>Not-in-family</td>\n",
       "      <td>White</td>\n",
       "      <td>Male</td>\n",
       "      <td>0</td>\n",
       "      <td>0</td>\n",
       "      <td>40</td>\n",
       "      <td>United-States</td>\n",
       "      <td>&lt;=50K</td>\n",
       "    </tr>\n",
       "    <tr>\n",
       "      <th>2</th>\n",
       "      <td>53</td>\n",
       "      <td>Private</td>\n",
       "      <td>234721</td>\n",
       "      <td>11th</td>\n",
       "      <td>7</td>\n",
       "      <td>Married-civ-spouse</td>\n",
       "      <td>Handlers-cleaners</td>\n",
       "      <td>Husband</td>\n",
       "      <td>Black</td>\n",
       "      <td>Male</td>\n",
       "      <td>0</td>\n",
       "      <td>0</td>\n",
       "      <td>40</td>\n",
       "      <td>United-States</td>\n",
       "      <td>&lt;=50K</td>\n",
       "    </tr>\n",
       "    <tr>\n",
       "      <th>3</th>\n",
       "      <td>28</td>\n",
       "      <td>Private</td>\n",
       "      <td>338409</td>\n",
       "      <td>Bachelors</td>\n",
       "      <td>13</td>\n",
       "      <td>Married-civ-spouse</td>\n",
       "      <td>Prof-specialty</td>\n",
       "      <td>Wife</td>\n",
       "      <td>Black</td>\n",
       "      <td>Female</td>\n",
       "      <td>0</td>\n",
       "      <td>0</td>\n",
       "      <td>40</td>\n",
       "      <td>Cuba</td>\n",
       "      <td>&lt;=50K</td>\n",
       "    </tr>\n",
       "    <tr>\n",
       "      <th>4</th>\n",
       "      <td>37</td>\n",
       "      <td>Private</td>\n",
       "      <td>284582</td>\n",
       "      <td>Masters</td>\n",
       "      <td>14</td>\n",
       "      <td>Married-civ-spouse</td>\n",
       "      <td>Exec-managerial</td>\n",
       "      <td>Wife</td>\n",
       "      <td>White</td>\n",
       "      <td>Female</td>\n",
       "      <td>0</td>\n",
       "      <td>0</td>\n",
       "      <td>40</td>\n",
       "      <td>United-States</td>\n",
       "      <td>&lt;=50K</td>\n",
       "    </tr>\n",
       "  </tbody>\n",
       "</table>\n",
       "</div>"
      ],
      "text/plain": [
       "   Age          Workclass  Final_weight   Education  Education_num  \\\n",
       "0   50   Self-emp-not-inc         83311   Bachelors             13   \n",
       "1   38            Private        215646     HS-grad              9   \n",
       "2   53            Private        234721        11th              7   \n",
       "3   28            Private        338409   Bachelors             13   \n",
       "4   37            Private        284582     Masters             14   \n",
       "\n",
       "        Marital_status          Occupation    Relationship    Race      Sex  \\\n",
       "0   Married-civ-spouse     Exec-managerial         Husband   White     Male   \n",
       "1             Divorced   Handlers-cleaners   Not-in-family   White     Male   \n",
       "2   Married-civ-spouse   Handlers-cleaners         Husband   Black     Male   \n",
       "3   Married-civ-spouse      Prof-specialty            Wife   Black   Female   \n",
       "4   Married-civ-spouse     Exec-managerial            Wife   White   Female   \n",
       "\n",
       "   Capital_gain  Capital_loss  Hours_per_week         Country  Salary  \n",
       "0             0             0              13   United-States   <=50K  \n",
       "1             0             0              40   United-States   <=50K  \n",
       "2             0             0              40   United-States   <=50K  \n",
       "3             0             0              40            Cuba   <=50K  \n",
       "4             0             0              40   United-States   <=50K  "
      ]
     },
     "execution_count": 2,
     "metadata": {},
     "output_type": "execute_result"
    },
    {
     "data": {
      "application/javascript": [
       "\n",
       "            setTimeout(function() {\n",
       "                var nbb_cell_id = 2;\n",
       "                var nbb_unformatted_code = \"# Read data\\nfile_path = \\\"salary.csv\\\"\\ndf = pd.read_csv(file_path)\\n\\n# Copy data\\ndata = df.copy()\\n\\n# View first five rows\\ndata.head()\";\n",
       "                var nbb_formatted_code = \"# Read data\\nfile_path = \\\"salary.csv\\\"\\ndf = pd.read_csv(file_path)\\n\\n# Copy data\\ndata = df.copy()\\n\\n# View first five rows\\ndata.head()\";\n",
       "                var nbb_cells = Jupyter.notebook.get_cells();\n",
       "                for (var i = 0; i < nbb_cells.length; ++i) {\n",
       "                    if (nbb_cells[i].input_prompt_number == nbb_cell_id) {\n",
       "                        if (nbb_cells[i].get_text() == nbb_unformatted_code) {\n",
       "                             nbb_cells[i].set_text(nbb_formatted_code);\n",
       "                        }\n",
       "                        break;\n",
       "                    }\n",
       "                }\n",
       "            }, 500);\n",
       "            "
      ],
      "text/plain": [
       "<IPython.core.display.Javascript object>"
      ]
     },
     "metadata": {},
     "output_type": "display_data"
    }
   ],
   "source": [
    "# Read data\n",
    "file_path = \"salary.csv\"\n",
    "df = pd.read_csv(file_path)\n",
    "\n",
    "# Copy data\n",
    "data = df.copy()\n",
    "\n",
    "# View first five rows\n",
    "data.head()"
   ]
  },
  {
   "cell_type": "code",
   "execution_count": 3,
   "id": "e01c13f9",
   "metadata": {},
   "outputs": [
    {
     "data": {
      "text/plain": [
       "Age                int64\n",
       "Workclass         object\n",
       "Final_weight       int64\n",
       "Education         object\n",
       "Education_num      int64\n",
       "Marital_status    object\n",
       "Occupation        object\n",
       "Relationship      object\n",
       "Race              object\n",
       "Sex               object\n",
       "Capital_gain       int64\n",
       "Capital_loss       int64\n",
       "Hours_per_week     int64\n",
       "Country           object\n",
       "Salary            object\n",
       "dtype: object"
      ]
     },
     "execution_count": 3,
     "metadata": {},
     "output_type": "execute_result"
    },
    {
     "data": {
      "application/javascript": [
       "\n",
       "            setTimeout(function() {\n",
       "                var nbb_cell_id = 3;\n",
       "                var nbb_unformatted_code = \"# Checking the variables obj type\\n\\ndata.dtypes\";\n",
       "                var nbb_formatted_code = \"# Checking the variables obj type\\n\\ndata.dtypes\";\n",
       "                var nbb_cells = Jupyter.notebook.get_cells();\n",
       "                for (var i = 0; i < nbb_cells.length; ++i) {\n",
       "                    if (nbb_cells[i].input_prompt_number == nbb_cell_id) {\n",
       "                        if (nbb_cells[i].get_text() == nbb_unformatted_code) {\n",
       "                             nbb_cells[i].set_text(nbb_formatted_code);\n",
       "                        }\n",
       "                        break;\n",
       "                    }\n",
       "                }\n",
       "            }, 500);\n",
       "            "
      ],
      "text/plain": [
       "<IPython.core.display.Javascript object>"
      ]
     },
     "metadata": {},
     "output_type": "display_data"
    }
   ],
   "source": [
    "# Checking the variables obj type\n",
    "\n",
    "data.dtypes"
   ]
  },
  {
   "cell_type": "code",
   "execution_count": 4,
   "id": "f220e95a",
   "metadata": {},
   "outputs": [
    {
     "data": {
      "text/plain": [
       "Age               0\n",
       "Workclass         0\n",
       "Final_weight      0\n",
       "Education         0\n",
       "Education_num     0\n",
       "Marital_status    0\n",
       "Occupation        0\n",
       "Relationship      0\n",
       "Race              0\n",
       "Sex               0\n",
       "Capital_gain      0\n",
       "Capital_loss      0\n",
       "Hours_per_week    0\n",
       "Country           0\n",
       "Salary            0\n",
       "dtype: int64"
      ]
     },
     "execution_count": 4,
     "metadata": {},
     "output_type": "execute_result"
    },
    {
     "data": {
      "application/javascript": [
       "\n",
       "            setTimeout(function() {\n",
       "                var nbb_cell_id = 4;\n",
       "                var nbb_unformatted_code = \"# Checking for null values\\n\\ndata.isna().sum()\";\n",
       "                var nbb_formatted_code = \"# Checking for null values\\n\\ndata.isna().sum()\";\n",
       "                var nbb_cells = Jupyter.notebook.get_cells();\n",
       "                for (var i = 0; i < nbb_cells.length; ++i) {\n",
       "                    if (nbb_cells[i].input_prompt_number == nbb_cell_id) {\n",
       "                        if (nbb_cells[i].get_text() == nbb_unformatted_code) {\n",
       "                             nbb_cells[i].set_text(nbb_formatted_code);\n",
       "                        }\n",
       "                        break;\n",
       "                    }\n",
       "                }\n",
       "            }, 500);\n",
       "            "
      ],
      "text/plain": [
       "<IPython.core.display.Javascript object>"
      ]
     },
     "metadata": {},
     "output_type": "display_data"
    }
   ],
   "source": [
    "# Checking for null values\n",
    "\n",
    "data.isna().sum()"
   ]
  },
  {
   "cell_type": "code",
   "execution_count": 5,
   "id": "f114b5a9",
   "metadata": {},
   "outputs": [
    {
     "data": {
      "text/html": [
       "<div>\n",
       "<style scoped>\n",
       "    .dataframe tbody tr th:only-of-type {\n",
       "        vertical-align: middle;\n",
       "    }\n",
       "\n",
       "    .dataframe tbody tr th {\n",
       "        vertical-align: top;\n",
       "    }\n",
       "\n",
       "    .dataframe thead th {\n",
       "        text-align: right;\n",
       "    }\n",
       "</style>\n",
       "<table border=\"1\" class=\"dataframe\">\n",
       "  <thead>\n",
       "    <tr style=\"text-align: right;\">\n",
       "      <th></th>\n",
       "      <th>Age</th>\n",
       "      <th>Final_weight</th>\n",
       "      <th>Education_num</th>\n",
       "      <th>Capital_gain</th>\n",
       "      <th>Capital_loss</th>\n",
       "      <th>Hours_per_week</th>\n",
       "    </tr>\n",
       "  </thead>\n",
       "  <tbody>\n",
       "    <tr>\n",
       "      <th>count</th>\n",
       "      <td>32560.000000</td>\n",
       "      <td>3.256000e+04</td>\n",
       "      <td>32560.000000</td>\n",
       "      <td>32560.000000</td>\n",
       "      <td>32560.000000</td>\n",
       "      <td>32560.000000</td>\n",
       "    </tr>\n",
       "    <tr>\n",
       "      <th>mean</th>\n",
       "      <td>38.581634</td>\n",
       "      <td>1.897818e+05</td>\n",
       "      <td>10.080590</td>\n",
       "      <td>1077.615172</td>\n",
       "      <td>87.306511</td>\n",
       "      <td>40.437469</td>\n",
       "    </tr>\n",
       "    <tr>\n",
       "      <th>std</th>\n",
       "      <td>13.640642</td>\n",
       "      <td>1.055498e+05</td>\n",
       "      <td>2.572709</td>\n",
       "      <td>7385.402999</td>\n",
       "      <td>402.966116</td>\n",
       "      <td>12.347618</td>\n",
       "    </tr>\n",
       "    <tr>\n",
       "      <th>min</th>\n",
       "      <td>17.000000</td>\n",
       "      <td>1.228500e+04</td>\n",
       "      <td>1.000000</td>\n",
       "      <td>0.000000</td>\n",
       "      <td>0.000000</td>\n",
       "      <td>1.000000</td>\n",
       "    </tr>\n",
       "    <tr>\n",
       "      <th>25%</th>\n",
       "      <td>28.000000</td>\n",
       "      <td>1.178315e+05</td>\n",
       "      <td>9.000000</td>\n",
       "      <td>0.000000</td>\n",
       "      <td>0.000000</td>\n",
       "      <td>40.000000</td>\n",
       "    </tr>\n",
       "    <tr>\n",
       "      <th>50%</th>\n",
       "      <td>37.000000</td>\n",
       "      <td>1.783630e+05</td>\n",
       "      <td>10.000000</td>\n",
       "      <td>0.000000</td>\n",
       "      <td>0.000000</td>\n",
       "      <td>40.000000</td>\n",
       "    </tr>\n",
       "    <tr>\n",
       "      <th>75%</th>\n",
       "      <td>48.000000</td>\n",
       "      <td>2.370545e+05</td>\n",
       "      <td>12.000000</td>\n",
       "      <td>0.000000</td>\n",
       "      <td>0.000000</td>\n",
       "      <td>45.000000</td>\n",
       "    </tr>\n",
       "    <tr>\n",
       "      <th>max</th>\n",
       "      <td>90.000000</td>\n",
       "      <td>1.484705e+06</td>\n",
       "      <td>16.000000</td>\n",
       "      <td>99999.000000</td>\n",
       "      <td>4356.000000</td>\n",
       "      <td>99.000000</td>\n",
       "    </tr>\n",
       "  </tbody>\n",
       "</table>\n",
       "</div>"
      ],
      "text/plain": [
       "                Age  Final_weight  Education_num  Capital_gain  Capital_loss  \\\n",
       "count  32560.000000  3.256000e+04   32560.000000  32560.000000  32560.000000   \n",
       "mean      38.581634  1.897818e+05      10.080590   1077.615172     87.306511   \n",
       "std       13.640642  1.055498e+05       2.572709   7385.402999    402.966116   \n",
       "min       17.000000  1.228500e+04       1.000000      0.000000      0.000000   \n",
       "25%       28.000000  1.178315e+05       9.000000      0.000000      0.000000   \n",
       "50%       37.000000  1.783630e+05      10.000000      0.000000      0.000000   \n",
       "75%       48.000000  2.370545e+05      12.000000      0.000000      0.000000   \n",
       "max       90.000000  1.484705e+06      16.000000  99999.000000   4356.000000   \n",
       "\n",
       "       Hours_per_week  \n",
       "count    32560.000000  \n",
       "mean        40.437469  \n",
       "std         12.347618  \n",
       "min          1.000000  \n",
       "25%         40.000000  \n",
       "50%         40.000000  \n",
       "75%         45.000000  \n",
       "max         99.000000  "
      ]
     },
     "execution_count": 5,
     "metadata": {},
     "output_type": "execute_result"
    },
    {
     "data": {
      "application/javascript": [
       "\n",
       "            setTimeout(function() {\n",
       "                var nbb_cell_id = 5;\n",
       "                var nbb_unformatted_code = \"# Statistical distribution of the numeric variables\\n\\ndata.describe()\";\n",
       "                var nbb_formatted_code = \"# Statistical distribution of the numeric variables\\n\\ndata.describe()\";\n",
       "                var nbb_cells = Jupyter.notebook.get_cells();\n",
       "                for (var i = 0; i < nbb_cells.length; ++i) {\n",
       "                    if (nbb_cells[i].input_prompt_number == nbb_cell_id) {\n",
       "                        if (nbb_cells[i].get_text() == nbb_unformatted_code) {\n",
       "                             nbb_cells[i].set_text(nbb_formatted_code);\n",
       "                        }\n",
       "                        break;\n",
       "                    }\n",
       "                }\n",
       "            }, 500);\n",
       "            "
      ],
      "text/plain": [
       "<IPython.core.display.Javascript object>"
      ]
     },
     "metadata": {},
     "output_type": "display_data"
    }
   ],
   "source": [
    "# Statistical distribution of the numeric variables\n",
    "\n",
    "data.describe()"
   ]
  },
  {
   "cell_type": "code",
   "execution_count": 6,
   "id": "2e0d3a49-67a1-433d-a7f8-6ff80d5ef799",
   "metadata": {
    "id": "2e0d3a49-67a1-433d-a7f8-6ff80d5ef799"
   },
   "outputs": [
    {
     "data": {
      "text/html": [
       "<div>\n",
       "<style scoped>\n",
       "    .dataframe tbody tr th:only-of-type {\n",
       "        vertical-align: middle;\n",
       "    }\n",
       "\n",
       "    .dataframe tbody tr th {\n",
       "        vertical-align: top;\n",
       "    }\n",
       "\n",
       "    .dataframe thead th {\n",
       "        text-align: right;\n",
       "    }\n",
       "</style>\n",
       "<table border=\"1\" class=\"dataframe\">\n",
       "  <thead>\n",
       "    <tr style=\"text-align: right;\">\n",
       "      <th></th>\n",
       "      <th>Workclass</th>\n",
       "      <th>Education</th>\n",
       "      <th>Marital_status</th>\n",
       "      <th>Occupation</th>\n",
       "      <th>Relationship</th>\n",
       "      <th>Race</th>\n",
       "      <th>Sex</th>\n",
       "      <th>Country</th>\n",
       "      <th>Salary</th>\n",
       "    </tr>\n",
       "  </thead>\n",
       "  <tbody>\n",
       "    <tr>\n",
       "      <th>count</th>\n",
       "      <td>32560</td>\n",
       "      <td>32560</td>\n",
       "      <td>32560</td>\n",
       "      <td>32560</td>\n",
       "      <td>32560</td>\n",
       "      <td>32560</td>\n",
       "      <td>32560</td>\n",
       "      <td>32560</td>\n",
       "      <td>32560</td>\n",
       "    </tr>\n",
       "    <tr>\n",
       "      <th>unique</th>\n",
       "      <td>9</td>\n",
       "      <td>16</td>\n",
       "      <td>7</td>\n",
       "      <td>15</td>\n",
       "      <td>6</td>\n",
       "      <td>5</td>\n",
       "      <td>2</td>\n",
       "      <td>42</td>\n",
       "      <td>2</td>\n",
       "    </tr>\n",
       "    <tr>\n",
       "      <th>top</th>\n",
       "      <td>Private</td>\n",
       "      <td>HS-grad</td>\n",
       "      <td>Married-civ-spouse</td>\n",
       "      <td>Prof-specialty</td>\n",
       "      <td>Husband</td>\n",
       "      <td>White</td>\n",
       "      <td>Male</td>\n",
       "      <td>United-States</td>\n",
       "      <td>&lt;=50K</td>\n",
       "    </tr>\n",
       "    <tr>\n",
       "      <th>freq</th>\n",
       "      <td>22696</td>\n",
       "      <td>10501</td>\n",
       "      <td>14976</td>\n",
       "      <td>4140</td>\n",
       "      <td>13193</td>\n",
       "      <td>27815</td>\n",
       "      <td>21789</td>\n",
       "      <td>29169</td>\n",
       "      <td>24719</td>\n",
       "    </tr>\n",
       "  </tbody>\n",
       "</table>\n",
       "</div>"
      ],
      "text/plain": [
       "       Workclass Education       Marital_status       Occupation Relationship  \\\n",
       "count      32560     32560                32560            32560        32560   \n",
       "unique         9        16                    7               15            6   \n",
       "top      Private   HS-grad   Married-civ-spouse   Prof-specialty      Husband   \n",
       "freq       22696     10501                14976             4140        13193   \n",
       "\n",
       "          Race    Sex         Country  Salary  \n",
       "count    32560  32560           32560   32560  \n",
       "unique       5      2              42       2  \n",
       "top      White   Male   United-States   <=50K  \n",
       "freq     27815  21789           29169   24719  "
      ]
     },
     "execution_count": 6,
     "metadata": {},
     "output_type": "execute_result"
    },
    {
     "data": {
      "application/javascript": [
       "\n",
       "            setTimeout(function() {\n",
       "                var nbb_cell_id = 6;\n",
       "                var nbb_unformatted_code = \"# Distribution of the categorical variables\\n\\ndata.describe(include=[\\\"O\\\"])\";\n",
       "                var nbb_formatted_code = \"# Distribution of the categorical variables\\n\\ndata.describe(include=[\\\"O\\\"])\";\n",
       "                var nbb_cells = Jupyter.notebook.get_cells();\n",
       "                for (var i = 0; i < nbb_cells.length; ++i) {\n",
       "                    if (nbb_cells[i].input_prompt_number == nbb_cell_id) {\n",
       "                        if (nbb_cells[i].get_text() == nbb_unformatted_code) {\n",
       "                             nbb_cells[i].set_text(nbb_formatted_code);\n",
       "                        }\n",
       "                        break;\n",
       "                    }\n",
       "                }\n",
       "            }, 500);\n",
       "            "
      ],
      "text/plain": [
       "<IPython.core.display.Javascript object>"
      ]
     },
     "metadata": {},
     "output_type": "display_data"
    }
   ],
   "source": [
    "# Distribution of the categorical variables\n",
    "\n",
    "data.describe(include=[\"O\"])\n"
   ]
  },
  {
   "cell_type": "markdown",
   "id": "938b4373",
   "metadata": {
    "id": "433bc74d-6a56-4f77-90be-7d848324ec94"
   },
   "source": [
    "### EDA"
   ]
  },
  {
   "cell_type": "code",
   "execution_count": 7,
   "id": "8d97d88b-8965-4006-9778-5a49bd519fbe",
   "metadata": {
    "id": "8d97d88b-8965-4006-9778-5a49bd519fbe"
   },
   "outputs": [
    {
     "data": {
      "application/javascript": [
       "\n",
       "            setTimeout(function() {\n",
       "                var nbb_cell_id = 7;\n",
       "                var nbb_unformatted_code = \"# Separate numeric and categorical features\\nnum_data = data.select_dtypes(exclude=\\\"O\\\")\\ncat_data = data.select_dtypes(include=\\\"O\\\")\";\n",
       "                var nbb_formatted_code = \"# Separate numeric and categorical features\\nnum_data = data.select_dtypes(exclude=\\\"O\\\")\\ncat_data = data.select_dtypes(include=\\\"O\\\")\";\n",
       "                var nbb_cells = Jupyter.notebook.get_cells();\n",
       "                for (var i = 0; i < nbb_cells.length; ++i) {\n",
       "                    if (nbb_cells[i].input_prompt_number == nbb_cell_id) {\n",
       "                        if (nbb_cells[i].get_text() == nbb_unformatted_code) {\n",
       "                             nbb_cells[i].set_text(nbb_formatted_code);\n",
       "                        }\n",
       "                        break;\n",
       "                    }\n",
       "                }\n",
       "            }, 500);\n",
       "            "
      ],
      "text/plain": [
       "<IPython.core.display.Javascript object>"
      ]
     },
     "metadata": {},
     "output_type": "display_data"
    }
   ],
   "source": [
    "# Separate numeric and categorical features\n",
    "num_data = data.select_dtypes(exclude=\"O\")\n",
    "cat_data = data.select_dtypes(include=\"O\")"
   ]
  },
  {
   "cell_type": "code",
   "execution_count": 8,
   "id": "c3f3df01-0e2c-4364-b694-222e65df8a2b",
   "metadata": {
    "id": "c3f3df01-0e2c-4364-b694-222e65df8a2b"
   },
   "outputs": [
    {
     "data": {
      "image/png": "[encoded data removed]",
      "text/plain": [
       "<Figure size 1500x2000 with 10 Axes>"
      ]
     },
     "metadata": {},
     "output_type": "display_data"
    },
    {
     "data": {
      "application/javascript": [
       "\n",
       "            setTimeout(function() {\n",
       "                var nbb_cell_id = 8;\n",
       "                var nbb_unformatted_code = \"# Count plot\\n\\n\\ndef plot_(\\n    data: pd.DataFrame,\\n    features: list[str],\\n    rows_num: int,\\n    cols_num: int,\\n    figsize: tuple,\\n) -> \\\"Plot\\\":\\n    \\\"\\\"\\\"This returns a count plot of all the categorical variables\\\"\\\"\\\"\\n    fig, axs = plt.subplots(rows_num, cols_num, figsize=figsize)\\n\\n    for idx, feat in enumerate(data.columns):\\n        if rows_num > 1:\\n            ax = axs[(idx // cols_num), (idx % cols_num)]\\n        else:\\n            ax = axs[idx]\\n\\n        sns.countplot(data=data, x=feat, ax=ax)\\n        ax.set_title(f\\\"Count Plot of {feat!r}\\\")\\n\\n        labels = sorted(data[feat].value_counts().index)\\n        ax.tick_params(axis=\\\"x\\\", rotation=80)\\n\\n    fig.tight_layout()\\n    plt.show()\\n\\n\\n# Display plot\\nplot_(\\n    data=cat_data, features=cat_data.columns, rows_num=5, cols_num=2, figsize=(15, 20)\\n)\";\n",
       "                var nbb_formatted_code = \"# Count plot\\n\\n\\ndef plot_(\\n    data: pd.DataFrame,\\n    features: list[str],\\n    rows_num: int,\\n    cols_num: int,\\n    figsize: tuple,\\n) -> \\\"Plot\\\":\\n    \\\"\\\"\\\"This returns a count plot of all the categorical variables\\\"\\\"\\\"\\n    fig, axs = plt.subplots(rows_num, cols_num, figsize=figsize)\\n\\n    for idx, feat in enumerate(data.columns):\\n        if rows_num > 1:\\n            ax = axs[(idx // cols_num), (idx % cols_num)]\\n        else:\\n            ax = axs[idx]\\n\\n        sns.countplot(data=data, x=feat, ax=ax)\\n        ax.set_title(f\\\"Count Plot of {feat!r}\\\")\\n\\n        labels = sorted(data[feat].value_counts().index)\\n        ax.tick_params(axis=\\\"x\\\", rotation=80)\\n\\n    fig.tight_layout()\\n    plt.show()\\n\\n\\n# Display plot\\nplot_(\\n    data=cat_data, features=cat_data.columns, rows_num=5, cols_num=2, figsize=(15, 20)\\n)\";\n",
       "                var nbb_cells = Jupyter.notebook.get_cells();\n",
       "                for (var i = 0; i < nbb_cells.length; ++i) {\n",
       "                    if (nbb_cells[i].input_prompt_number == nbb_cell_id) {\n",
       "                        if (nbb_cells[i].get_text() == nbb_unformatted_code) {\n",
       "                             nbb_cells[i].set_text(nbb_formatted_code);\n",
       "                        }\n",
       "                        break;\n",
       "                    }\n",
       "                }\n",
       "            }, 500);\n",
       "            "
      ],
      "text/plain": [
       "<IPython.core.display.Javascript object>"
      ]
     },
     "metadata": {},
     "output_type": "display_data"
    }
   ],
   "source": [
    "# Count plot\n",
    "\n",
    "\n",
    "def plot_(\n",
    "    data: pd.DataFrame,\n",
    "    features: list[str],\n",
    "    rows_num: int,\n",
    "    cols_num: int,\n",
    "    figsize: tuple,\n",
    ") -> \"Plot\":\n",
    "    \"\"\"This returns a count plot of all the categorical variables\"\"\"\n",
    "    fig, axs = plt.subplots(rows_num, cols_num, figsize=figsize)\n",
    "\n",
    "    for idx, feat in enumerate(data.columns):\n",
    "        if rows_num > 1:\n",
    "            ax = axs[(idx // cols_num), (idx % cols_num)]\n",
    "        else:\n",
    "            ax = axs[idx]\n",
    "\n",
    "        sns.countplot(data=data, x=feat, ax=ax)\n",
    "        ax.set_title(f\"Count Plot of {feat!r}\")\n",
    "\n",
    "        labels = sorted(data[feat].value_counts().index)\n",
    "        ax.tick_params(axis=\"x\", rotation=80)\n",
    "\n",
    "    fig.tight_layout()\n",
    "    plt.show()\n",
    "\n",
    "\n",
    "# Display plot\n",
    "plot_(\n",
    "    data=cat_data, features=cat_data.columns, rows_num=5, cols_num=2, figsize=(15, 20)\n",
    ")"
   ]
  },
  {
   "cell_type": "markdown",
   "id": "0b888563",
   "metadata": {
    "id": "509fe1b2-5375-4109-ab4e-1972bcedb43a"
   },
   "source": [
    "### Observation\n",
    "\n",
    "* Most feature have labels that rarely occurred\n",
    "\n",
    "* **Workclass**, **Country** and **Occupation** have an unusual label `?`\n"
   ]
  },
  {
   "cell_type": "code",
   "execution_count": 9,
   "id": "a048cb67",
   "metadata": {},
   "outputs": [
    {
     "data": {
      "image/png": "[encoded data removed]",
      "text/plain": [
       "<Figure size 1500x600 with 6 Axes>"
      ]
     },
     "metadata": {},
     "output_type": "display_data"
    },
    {
     "data": {
      "application/javascript": [
       "\n",
       "            setTimeout(function() {\n",
       "                var nbb_cell_id = 9;\n",
       "                var nbb_unformatted_code = \"# Box Plot\\n\\nrows_num, cols_num = 3, 2\\n\\nfig, axs = plt.subplots(rows_num, cols_num, figsize=(15, 6))\\n\\nfor idx, var in enumerate(num_data.columns):\\n    if rows_num > 1:\\n        ax = axs[(idx // cols_num), (idx % cols_num)]\\n    else:\\n        ax = axs[idx]\\n\\n    sns.boxplot(data=data, x=var, ax=ax)\\n    ax.set_title(f\\\"Box Plot of {var}\\\")\\n\\nfig.tight_layout()\\nplt.show()\";\n",
       "                var nbb_formatted_code = \"# Box Plot\\n\\nrows_num, cols_num = 3, 2\\n\\nfig, axs = plt.subplots(rows_num, cols_num, figsize=(15, 6))\\n\\nfor idx, var in enumerate(num_data.columns):\\n    if rows_num > 1:\\n        ax = axs[(idx // cols_num), (idx % cols_num)]\\n    else:\\n        ax = axs[idx]\\n\\n    sns.boxplot(data=data, x=var, ax=ax)\\n    ax.set_title(f\\\"Box Plot of {var}\\\")\\n\\nfig.tight_layout()\\nplt.show()\";\n",
       "                var nbb_cells = Jupyter.notebook.get_cells();\n",
       "                for (var i = 0; i < nbb_cells.length; ++i) {\n",
       "                    if (nbb_cells[i].input_prompt_number == nbb_cell_id) {\n",
       "                        if (nbb_cells[i].get_text() == nbb_unformatted_code) {\n",
       "                             nbb_cells[i].set_text(nbb_formatted_code);\n",
       "                        }\n",
       "                        break;\n",
       "                    }\n",
       "                }\n",
       "            }, 500);\n",
       "            "
      ],
      "text/plain": [
       "<IPython.core.display.Javascript object>"
      ]
     },
     "metadata": {},
     "output_type": "display_data"
    }
   ],
   "source": [
    "# Box Plot\n",
    "\n",
    "rows_num, cols_num = 3, 2\n",
    "\n",
    "fig, axs = plt.subplots(rows_num, cols_num, figsize=(15, 6))\n",
    "\n",
    "for idx, var in enumerate(num_data.columns):\n",
    "    if rows_num > 1:\n",
    "        ax = axs[(idx // cols_num), (idx % cols_num)]\n",
    "    else:\n",
    "        ax = axs[idx]\n",
    "\n",
    "    sns.boxplot(data=data, x=var, ax=ax)\n",
    "    ax.set_title(f\"Box Plot of {var}\")\n",
    "\n",
    "fig.tight_layout()\n",
    "plt.show()"
   ]
  },
  {
   "cell_type": "markdown",
   "id": "748c02bb",
   "metadata": {
    "id": "51c4c104-829d-45a3-9663-e3538da7b27d"
   },
   "source": [
    "## Data Cleaning"
   ]
  },
  {
   "cell_type": "code",
   "execution_count": 10,
   "id": "5dca5470",
   "metadata": {},
   "outputs": [
    {
     "data": {
      "application/javascript": [
       "\n",
       "            setTimeout(function() {\n",
       "                var nbb_cell_id = 10;\n",
       "                var nbb_unformatted_code = \"# Removing white spaces from each the categorical labels\\nfor var in cat_data.columns:\\n    data[var] = cat_data[var].apply(lambda x: x.strip())\";\n",
       "                var nbb_formatted_code = \"# Removing white spaces from each the categorical labels\\nfor var in cat_data.columns:\\n    data[var] = cat_data[var].apply(lambda x: x.strip())\";\n",
       "                var nbb_cells = Jupyter.notebook.get_cells();\n",
       "                for (var i = 0; i < nbb_cells.length; ++i) {\n",
       "                    if (nbb_cells[i].input_prompt_number == nbb_cell_id) {\n",
       "                        if (nbb_cells[i].get_text() == nbb_unformatted_code) {\n",
       "                             nbb_cells[i].set_text(nbb_formatted_code);\n",
       "                        }\n",
       "                        break;\n",
       "                    }\n",
       "                }\n",
       "            }, 500);\n",
       "            "
      ],
      "text/plain": [
       "<IPython.core.display.Javascript object>"
      ]
     },
     "metadata": {},
     "output_type": "display_data"
    }
   ],
   "source": [
    "# Removing white spaces from each the categorical labels\n",
    "for var in cat_data.columns:\n",
    "    data[var] = cat_data[var].apply(lambda x: x.strip())"
   ]
  },
  {
   "cell_type": "code",
   "execution_count": 11,
   "id": "c8b9dc2e",
   "metadata": {},
   "outputs": [
    {
     "data": {
      "text/plain": [
       "array(['Self-emp-not-inc', 'Private', 'State-gov', 'Federal-gov',\n",
       "       'Local-gov', '?', 'Self-emp-inc', 'Without-pay', 'Never-worked'],\n",
       "      dtype=object)"
      ]
     },
     "execution_count": 11,
     "metadata": {},
     "output_type": "execute_result"
    },
    {
     "data": {
      "application/javascript": [
       "\n",
       "            setTimeout(function() {\n",
       "                var nbb_cell_id = 11;\n",
       "                var nbb_unformatted_code = \"# Verify\\n\\ndata[\\\"Workclass\\\"].unique()\";\n",
       "                var nbb_formatted_code = \"# Verify\\n\\ndata[\\\"Workclass\\\"].unique()\";\n",
       "                var nbb_cells = Jupyter.notebook.get_cells();\n",
       "                for (var i = 0; i < nbb_cells.length; ++i) {\n",
       "                    if (nbb_cells[i].input_prompt_number == nbb_cell_id) {\n",
       "                        if (nbb_cells[i].get_text() == nbb_unformatted_code) {\n",
       "                             nbb_cells[i].set_text(nbb_formatted_code);\n",
       "                        }\n",
       "                        break;\n",
       "                    }\n",
       "                }\n",
       "            }, 500);\n",
       "            "
      ],
      "text/plain": [
       "<IPython.core.display.Javascript object>"
      ]
     },
     "metadata": {},
     "output_type": "display_data"
    }
   ],
   "source": [
    "# Verify\n",
    "\n",
    "data[\"Workclass\"].unique()"
   ]
  },
  {
   "cell_type": "code",
   "execution_count": 12,
   "id": "9241b5fb",
   "metadata": {},
   "outputs": [
    {
     "data": {
      "application/javascript": [
       "\n",
       "            setTimeout(function() {\n",
       "                var nbb_cell_id = 12;\n",
       "                var nbb_unformatted_code = \"# Replace `?` with the most occurred value\\nfeat = [\\\"Workclass\\\", \\\"Occupation\\\", \\\"Country\\\"]\\n\\nfor x in data[feat]:\\n    most_occ = data[x].mode().values[0]\\n    data[x].replace(\\\"?\\\", most_occ, inplace=True)\";\n",
       "                var nbb_formatted_code = \"# Replace `?` with the most occurred value\\nfeat = [\\\"Workclass\\\", \\\"Occupation\\\", \\\"Country\\\"]\\n\\nfor x in data[feat]:\\n    most_occ = data[x].mode().values[0]\\n    data[x].replace(\\\"?\\\", most_occ, inplace=True)\";\n",
       "                var nbb_cells = Jupyter.notebook.get_cells();\n",
       "                for (var i = 0; i < nbb_cells.length; ++i) {\n",
       "                    if (nbb_cells[i].input_prompt_number == nbb_cell_id) {\n",
       "                        if (nbb_cells[i].get_text() == nbb_unformatted_code) {\n",
       "                             nbb_cells[i].set_text(nbb_formatted_code);\n",
       "                        }\n",
       "                        break;\n",
       "                    }\n",
       "                }\n",
       "            }, 500);\n",
       "            "
      ],
      "text/plain": [
       "<IPython.core.display.Javascript object>"
      ]
     },
     "metadata": {},
     "output_type": "display_data"
    }
   ],
   "source": [
    "# Replace `?` with the most occurred value\n",
    "feat = [\"Workclass\", \"Occupation\", \"Country\"]\n",
    "\n",
    "for x in data[feat]:\n",
    "    most_occ = data[x].mode().values[0]\n",
    "    data[x].replace(\"?\", most_occ, inplace=True)"
   ]
  },
  {
   "cell_type": "code",
   "execution_count": 13,
   "id": "071d27d2",
   "metadata": {},
   "outputs": [
    {
     "data": {
      "text/plain": [
       "array(['United-States', 'Cuba', 'Jamaica', 'India', 'Mexico', 'South',\n",
       "       'Puerto-Rico', 'Honduras', 'England', 'Canada', 'Germany', 'Iran',\n",
       "       'Philippines', 'Italy', 'Poland', 'Columbia', 'Cambodia',\n",
       "       'Thailand', 'Ecuador', 'Laos', 'Taiwan', 'Haiti', 'Portugal',\n",
       "       'Dominican-Republic', 'El-Salvador', 'France', 'Guatemala',\n",
       "       'China', 'Japan', 'Yugoslavia', 'Peru',\n",
       "       'Outlying-US(Guam-USVI-etc)', 'Scotland', 'Trinadad&Tobago',\n",
       "       'Greece', 'Nicaragua', 'Vietnam', 'Hong', 'Ireland', 'Hungary',\n",
       "       'Holand-Netherlands'], dtype=object)"
      ]
     },
     "execution_count": 13,
     "metadata": {},
     "output_type": "execute_result"
    },
    {
     "data": {
      "application/javascript": [
       "\n",
       "            setTimeout(function() {\n",
       "                var nbb_cell_id = 13;\n",
       "                var nbb_unformatted_code = \"# Verify\\n\\ndata[\\\"Country\\\"].unique()\";\n",
       "                var nbb_formatted_code = \"# Verify\\n\\ndata[\\\"Country\\\"].unique()\";\n",
       "                var nbb_cells = Jupyter.notebook.get_cells();\n",
       "                for (var i = 0; i < nbb_cells.length; ++i) {\n",
       "                    if (nbb_cells[i].input_prompt_number == nbb_cell_id) {\n",
       "                        if (nbb_cells[i].get_text() == nbb_unformatted_code) {\n",
       "                             nbb_cells[i].set_text(nbb_formatted_code);\n",
       "                        }\n",
       "                        break;\n",
       "                    }\n",
       "                }\n",
       "            }, 500);\n",
       "            "
      ],
      "text/plain": [
       "<IPython.core.display.Javascript object>"
      ]
     },
     "metadata": {},
     "output_type": "display_data"
    }
   ],
   "source": [
    "# Verify\n",
    "\n",
    "data[\"Country\"].unique()"
   ]
  },
  {
   "cell_type": "code",
   "execution_count": 14,
   "id": "be2742ab",
   "metadata": {},
   "outputs": [
    {
     "data": {
      "application/javascript": [
       "\n",
       "            setTimeout(function() {\n",
       "                var nbb_cell_id = 14;\n",
       "                var nbb_unformatted_code = \"# Drop Education_num: it's the same as Education\\ndata.drop(columns=\\\"Education_num\\\", inplace=True)\";\n",
       "                var nbb_formatted_code = \"# Drop Education_num: it's the same as Education\\ndata.drop(columns=\\\"Education_num\\\", inplace=True)\";\n",
       "                var nbb_cells = Jupyter.notebook.get_cells();\n",
       "                for (var i = 0; i < nbb_cells.length; ++i) {\n",
       "                    if (nbb_cells[i].input_prompt_number == nbb_cell_id) {\n",
       "                        if (nbb_cells[i].get_text() == nbb_unformatted_code) {\n",
       "                             nbb_cells[i].set_text(nbb_formatted_code);\n",
       "                        }\n",
       "                        break;\n",
       "                    }\n",
       "                }\n",
       "            }, 500);\n",
       "            "
      ],
      "text/plain": [
       "<IPython.core.display.Javascript object>"
      ]
     },
     "metadata": {},
     "output_type": "display_data"
    }
   ],
   "source": [
    "# Drop Education_num: it's the same as Education\n",
    "data.drop(columns=\"Education_num\", inplace=True)"
   ]
  },
  {
   "cell_type": "code",
   "execution_count": 15,
   "id": "739157bb",
   "metadata": {},
   "outputs": [
    {
     "data": {
      "application/javascript": [
       "\n",
       "            setTimeout(function() {\n",
       "                var nbb_cell_id = 15;\n",
       "                var nbb_unformatted_code = \"class Workclass:\\n    \\\"\\\"\\\"This class contain new labels for Workclass\\\"\\\"\\\"\\n\\n    PRIVATE = \\\"Private\\\"\\n    SELFNOTINC = \\\"Self-emp-not-inc\\\"\\n    LOCAL = \\\"Local-gov\\\"\\n    STATE = \\\"State-gov\\\"\\n    SELFINC = \\\"Self-emp-inc\\\"\\n    FEDERAL = \\\"Federal-gov\\\"\\n    REPLACE = \\\"Others\\\"\\n\\n\\ndef labels(wk_field: str) -> str:\\n    \\\"\\\"\\\"This returns new labels for Workclass\\\"\\\"\\\"\\n    if wk_field == \\\"Private\\\":\\n        result = Workclass.PRIVATE\\n    elif wk_field == \\\"Self-emp-not-inc\\\":\\n        result = Workclass.SELFNOTINC\\n    elif wk_field == \\\"Local-gov\\\":\\n        result = Workclass.LOCAL\\n    elif wk_field == \\\"State-gov\\\":\\n        result = Workclass.STATE\\n    elif wk_field == \\\"Self-emp-inc\\\":\\n        result = Workclass.SELFINC\\n    elif wk_field == \\\"Federal-gov\\\":\\n        result = Workclass.FEDERAL\\n    else:\\n        result = Workclass.REPLACE\\n    return result\\n\\n\\n# Assigning a new label to our data applying the above function\\ndata[\\\"Workclass\\\"] = data[\\\"Workclass\\\"].apply(labels)\";\n",
       "                var nbb_formatted_code = \"class Workclass:\\n    \\\"\\\"\\\"This class contain new labels for Workclass\\\"\\\"\\\"\\n\\n    PRIVATE = \\\"Private\\\"\\n    SELFNOTINC = \\\"Self-emp-not-inc\\\"\\n    LOCAL = \\\"Local-gov\\\"\\n    STATE = \\\"State-gov\\\"\\n    SELFINC = \\\"Self-emp-inc\\\"\\n    FEDERAL = \\\"Federal-gov\\\"\\n    REPLACE = \\\"Others\\\"\\n\\n\\ndef labels(wk_field: str) -> str:\\n    \\\"\\\"\\\"This returns new labels for Workclass\\\"\\\"\\\"\\n    if wk_field == \\\"Private\\\":\\n        result = Workclass.PRIVATE\\n    elif wk_field == \\\"Self-emp-not-inc\\\":\\n        result = Workclass.SELFNOTINC\\n    elif wk_field == \\\"Local-gov\\\":\\n        result = Workclass.LOCAL\\n    elif wk_field == \\\"State-gov\\\":\\n        result = Workclass.STATE\\n    elif wk_field == \\\"Self-emp-inc\\\":\\n        result = Workclass.SELFINC\\n    elif wk_field == \\\"Federal-gov\\\":\\n        result = Workclass.FEDERAL\\n    else:\\n        result = Workclass.REPLACE\\n    return result\\n\\n\\n# Assigning a new label to our data applying the above function\\ndata[\\\"Workclass\\\"] = data[\\\"Workclass\\\"].apply(labels)\";\n",
       "                var nbb_cells = Jupyter.notebook.get_cells();\n",
       "                for (var i = 0; i < nbb_cells.length; ++i) {\n",
       "                    if (nbb_cells[i].input_prompt_number == nbb_cell_id) {\n",
       "                        if (nbb_cells[i].get_text() == nbb_unformatted_code) {\n",
       "                             nbb_cells[i].set_text(nbb_formatted_code);\n",
       "                        }\n",
       "                        break;\n",
       "                    }\n",
       "                }\n",
       "            }, 500);\n",
       "            "
      ],
      "text/plain": [
       "<IPython.core.display.Javascript object>"
      ]
     },
     "metadata": {},
     "output_type": "display_data"
    }
   ],
   "source": [
    "class Workclass:\n",
    "    \"\"\"This class contain new labels for Workclass\"\"\"\n",
    "\n",
    "    PRIVATE = \"Private\"\n",
    "    SELFNOTINC = \"Self-emp-not-inc\"\n",
    "    LOCAL = \"Local-gov\"\n",
    "    STATE = \"State-gov\"\n",
    "    SELFINC = \"Self-emp-inc\"\n",
    "    FEDERAL = \"Federal-gov\"\n",
    "    REPLACE = \"Others\"\n",
    "\n",
    "\n",
    "def labels(wk_field: str) -> str:\n",
    "    \"\"\"This returns new labels for Workclass\"\"\"\n",
    "    if wk_field == \"Private\":\n",
    "        result = Workclass.PRIVATE\n",
    "    elif wk_field == \"Self-emp-not-inc\":\n",
    "        result = Workclass.SELFNOTINC\n",
    "    elif wk_field == \"Local-gov\":\n",
    "        result = Workclass.LOCAL\n",
    "    elif wk_field == \"State-gov\":\n",
    "        result = Workclass.STATE\n",
    "    elif wk_field == \"Self-emp-inc\":\n",
    "        result = Workclass.SELFINC\n",
    "    elif wk_field == \"Federal-gov\":\n",
    "        result = Workclass.FEDERAL\n",
    "    else:\n",
    "        result = Workclass.REPLACE\n",
    "    return result\n",
    "\n",
    "\n",
    "# Assigning a new label to our data applying the above function\n",
    "data[\"Workclass\"] = data[\"Workclass\"].apply(labels)"
   ]
  },
  {
   "cell_type": "code",
   "execution_count": 16,
   "id": "642b138d",
   "metadata": {},
   "outputs": [
    {
     "data": {
      "application/javascript": [
       "\n",
       "            setTimeout(function() {\n",
       "                var nbb_cell_id = 16;\n",
       "                var nbb_unformatted_code = \"class Education:\\n    \\\"\\\"\\\"This class contain new labels for Education\\\"\\\"\\\"\\n\\n    GRAD = \\\"HS-grad\\\"\\n    COLLEGE = \\\"Some-college\\\"\\n    BSC = \\\"Bachelors\\\"\\n    MSC = \\\"Masters\\\"\\n    ASSOCV = \\\"Assoc-voc\\\"\\n    ASSOCAC = \\\"Assoc-acdm\\\"\\n    DOCTORATE = \\\"Doctorate\\\"\\n    REPLACE = \\\"Others\\\"\\n\\n\\ndef labels(edu: str) -> str:\\n    \\\"\\\"\\\"This returns new labels for Education\\\"\\\"\\\"\\n    if edu == \\\"HS-grad\\\":\\n        result = Education.GRAD\\n    elif edu == \\\"Some-college\\\":\\n        result = Education.COLLEGE\\n    elif edu == \\\"Bachelors\\\":\\n        result = Education.BSC\\n    elif edu == \\\"Masters\\\":\\n        result = Education.MSC\\n    elif edu == \\\"Assoc-voc\\\":\\n        result = Education.ASSOCV\\n    elif edu == \\\"Assoc-acdm\\\":\\n        result = Education.ASSOCAC\\n    elif edu == \\\"Doctorate\\\":\\n        result = Education.DOCTORATE\\n    else:  # (Other labels)\\n        result = Education.REPLACE\\n    return result\";\n",
       "                var nbb_formatted_code = \"class Education:\\n    \\\"\\\"\\\"This class contain new labels for Education\\\"\\\"\\\"\\n\\n    GRAD = \\\"HS-grad\\\"\\n    COLLEGE = \\\"Some-college\\\"\\n    BSC = \\\"Bachelors\\\"\\n    MSC = \\\"Masters\\\"\\n    ASSOCV = \\\"Assoc-voc\\\"\\n    ASSOCAC = \\\"Assoc-acdm\\\"\\n    DOCTORATE = \\\"Doctorate\\\"\\n    REPLACE = \\\"Others\\\"\\n\\n\\ndef labels(edu: str) -> str:\\n    \\\"\\\"\\\"This returns new labels for Education\\\"\\\"\\\"\\n    if edu == \\\"HS-grad\\\":\\n        result = Education.GRAD\\n    elif edu == \\\"Some-college\\\":\\n        result = Education.COLLEGE\\n    elif edu == \\\"Bachelors\\\":\\n        result = Education.BSC\\n    elif edu == \\\"Masters\\\":\\n        result = Education.MSC\\n    elif edu == \\\"Assoc-voc\\\":\\n        result = Education.ASSOCV\\n    elif edu == \\\"Assoc-acdm\\\":\\n        result = Education.ASSOCAC\\n    elif edu == \\\"Doctorate\\\":\\n        result = Education.DOCTORATE\\n    else:  # (Other labels)\\n        result = Education.REPLACE\\n    return result\";\n",
       "                var nbb_cells = Jupyter.notebook.get_cells();\n",
       "                for (var i = 0; i < nbb_cells.length; ++i) {\n",
       "                    if (nbb_cells[i].input_prompt_number == nbb_cell_id) {\n",
       "                        if (nbb_cells[i].get_text() == nbb_unformatted_code) {\n",
       "                             nbb_cells[i].set_text(nbb_formatted_code);\n",
       "                        }\n",
       "                        break;\n",
       "                    }\n",
       "                }\n",
       "            }, 500);\n",
       "            "
      ],
      "text/plain": [
       "<IPython.core.display.Javascript object>"
      ]
     },
     "metadata": {},
     "output_type": "display_data"
    }
   ],
   "source": [
    "class Education:\n",
    "    \"\"\"This class contain new labels for Education\"\"\"\n",
    "\n",
    "    GRAD = \"HS-grad\"\n",
    "    COLLEGE = \"Some-college\"\n",
    "    BSC = \"Bachelors\"\n",
    "    MSC = \"Masters\"\n",
    "    ASSOCV = \"Assoc-voc\"\n",
    "    ASSOCAC = \"Assoc-acdm\"\n",
    "    DOCTORATE = \"Doctorate\"\n",
    "    REPLACE = \"Others\"\n",
    "\n",
    "\n",
    "def labels(edu: str) -> str:\n",
    "    \"\"\"This returns new labels for Education\"\"\"\n",
    "    if edu == \"HS-grad\":\n",
    "        result = Education.GRAD\n",
    "    elif edu == \"Some-college\":\n",
    "        result = Education.COLLEGE\n",
    "    elif edu == \"Bachelors\":\n",
    "        result = Education.BSC\n",
    "    elif edu == \"Masters\":\n",
    "        result = Education.MSC\n",
    "    elif edu == \"Assoc-voc\":\n",
    "        result = Education.ASSOCV\n",
    "    elif edu == \"Assoc-acdm\":\n",
    "        result = Education.ASSOCAC\n",
    "    elif edu == \"Doctorate\":\n",
    "        result = Education.DOCTORATE\n",
    "    else:  # (Other labels)\n",
    "        result = Education.REPLACE\n",
    "    return result"
   ]
  },
  {
   "cell_type": "code",
   "execution_count": 17,
   "id": "cbeb3051",
   "metadata": {},
   "outputs": [
    {
     "data": {
      "application/javascript": [
       "\n",
       "            setTimeout(function() {\n",
       "                var nbb_cell_id = 17;\n",
       "                var nbb_unformatted_code = \"# Assigning a new label to our data applying the above function\\ndata[\\\"Education\\\"] = data[\\\"Education\\\"].apply(labels)\";\n",
       "                var nbb_formatted_code = \"# Assigning a new label to our data applying the above function\\ndata[\\\"Education\\\"] = data[\\\"Education\\\"].apply(labels)\";\n",
       "                var nbb_cells = Jupyter.notebook.get_cells();\n",
       "                for (var i = 0; i < nbb_cells.length; ++i) {\n",
       "                    if (nbb_cells[i].input_prompt_number == nbb_cell_id) {\n",
       "                        if (nbb_cells[i].get_text() == nbb_unformatted_code) {\n",
       "                             nbb_cells[i].set_text(nbb_formatted_code);\n",
       "                        }\n",
       "                        break;\n",
       "                    }\n",
       "                }\n",
       "            }, 500);\n",
       "            "
      ],
      "text/plain": [
       "<IPython.core.display.Javascript object>"
      ]
     },
     "metadata": {},
     "output_type": "display_data"
    }
   ],
   "source": [
    "# Assigning a new label to our data applying the above function\n",
    "data[\"Education\"] = data[\"Education\"].apply(labels)"
   ]
  },
  {
   "cell_type": "code",
   "execution_count": 18,
   "id": "97148f06",
   "metadata": {},
   "outputs": [
    {
     "data": {
      "application/javascript": [
       "\n",
       "            setTimeout(function() {\n",
       "                var nbb_cell_id = 18;\n",
       "                var nbb_unformatted_code = \"class Country:\\n    \\\"\\\"\\\"This class contain new labels for Country\\\"\\\"\\\"\\n\\n    US = \\\"United-States\\\"\\n    REPLACE = \\\"Others\\\"\\n\\n\\ndef labels(country: str) -> str:\\n    \\\"\\\"\\\"This returns new labels for Country\\\"\\\"\\\"\\n    if country == \\\"United-States\\\":\\n        result = Country.US\\n    else:\\n        result = Country.REPLACE\\n    return result\\n\\n\\n# Assigning a new label to our data applying the above function\\ndata[\\\"Country\\\"] = data[\\\"Country\\\"].apply(labels)\";\n",
       "                var nbb_formatted_code = \"class Country:\\n    \\\"\\\"\\\"This class contain new labels for Country\\\"\\\"\\\"\\n\\n    US = \\\"United-States\\\"\\n    REPLACE = \\\"Others\\\"\\n\\n\\ndef labels(country: str) -> str:\\n    \\\"\\\"\\\"This returns new labels for Country\\\"\\\"\\\"\\n    if country == \\\"United-States\\\":\\n        result = Country.US\\n    else:\\n        result = Country.REPLACE\\n    return result\\n\\n\\n# Assigning a new label to our data applying the above function\\ndata[\\\"Country\\\"] = data[\\\"Country\\\"].apply(labels)\";\n",
       "                var nbb_cells = Jupyter.notebook.get_cells();\n",
       "                for (var i = 0; i < nbb_cells.length; ++i) {\n",
       "                    if (nbb_cells[i].input_prompt_number == nbb_cell_id) {\n",
       "                        if (nbb_cells[i].get_text() == nbb_unformatted_code) {\n",
       "                             nbb_cells[i].set_text(nbb_formatted_code);\n",
       "                        }\n",
       "                        break;\n",
       "                    }\n",
       "                }\n",
       "            }, 500);\n",
       "            "
      ],
      "text/plain": [
       "<IPython.core.display.Javascript object>"
      ]
     },
     "metadata": {},
     "output_type": "display_data"
    }
   ],
   "source": [
    "class Country:\n",
    "    \"\"\"This class contain new labels for Country\"\"\"\n",
    "\n",
    "    US = \"United-States\"\n",
    "    REPLACE = \"Others\"\n",
    "\n",
    "\n",
    "def labels(country: str) -> str:\n",
    "    \"\"\"This returns new labels for Country\"\"\"\n",
    "    if country == \"United-States\":\n",
    "        result = Country.US\n",
    "    else:\n",
    "        result = Country.REPLACE\n",
    "    return result\n",
    "\n",
    "\n",
    "# Assigning a new label to our data applying the above function\n",
    "data[\"Country\"] = data[\"Country\"].apply(labels)"
   ]
  },
  {
   "cell_type": "code",
   "execution_count": 19,
   "id": "b8d8a2f2",
   "metadata": {},
   "outputs": [
    {
     "data": {
      "application/javascript": [
       "\n",
       "            setTimeout(function() {\n",
       "                var nbb_cell_id = 19;\n",
       "                var nbb_unformatted_code = \"class MaritalStatus:\\n    \\\"\\\"\\\"This class contain new labels for Maritalstatus\\\"\\\"\\\"\\n\\n    MARRIED = \\\"Married-civ-spouse\\\"\\n    SINGLE = \\\"Never-married\\\"\\n    DIVORCED = \\\"Divorced\\\"\\n    SEP = \\\"Separated\\\"\\n    WIDOW = \\\"Widowed\\\"\\n    REPLACE = \\\"Others\\\"\\n\\n\\ndef labels(mar_stat: str) -> str:\\n    \\\"\\\"\\\"This returns new labels for Marital status\\\"\\\"\\\"\\n    if mar_stat == \\\"Married-civ-spouse\\\":\\n        result = MaritalStatus.MARRIED\\n    elif mar_stat == \\\"Never-married\\\":\\n        result = MaritalStatus.SINGLE\\n    elif mar_stat == \\\"Divorced\\\":\\n        result = MaritalStatus.DIVORCED\\n    elif mar_stat == \\\"Separated\\\":\\n        result = MaritalStatus.SEP\\n    elif mar_stat == \\\"Widowed\\\":\\n        result = MaritalStatus.WIDOW\\n    else:\\n        result = MaritalStatus.REPLACE\\n    return result\\n\\n\\n# Assigning a new label to our data applying the above function\\ndata[\\\"Marital_status\\\"] = data[\\\"Marital_status\\\"].apply(labels)\";\n",
       "                var nbb_formatted_code = \"class MaritalStatus:\\n    \\\"\\\"\\\"This class contain new labels for Maritalstatus\\\"\\\"\\\"\\n\\n    MARRIED = \\\"Married-civ-spouse\\\"\\n    SINGLE = \\\"Never-married\\\"\\n    DIVORCED = \\\"Divorced\\\"\\n    SEP = \\\"Separated\\\"\\n    WIDOW = \\\"Widowed\\\"\\n    REPLACE = \\\"Others\\\"\\n\\n\\ndef labels(mar_stat: str) -> str:\\n    \\\"\\\"\\\"This returns new labels for Marital status\\\"\\\"\\\"\\n    if mar_stat == \\\"Married-civ-spouse\\\":\\n        result = MaritalStatus.MARRIED\\n    elif mar_stat == \\\"Never-married\\\":\\n        result = MaritalStatus.SINGLE\\n    elif mar_stat == \\\"Divorced\\\":\\n        result = MaritalStatus.DIVORCED\\n    elif mar_stat == \\\"Separated\\\":\\n        result = MaritalStatus.SEP\\n    elif mar_stat == \\\"Widowed\\\":\\n        result = MaritalStatus.WIDOW\\n    else:\\n        result = MaritalStatus.REPLACE\\n    return result\\n\\n\\n# Assigning a new label to our data applying the above function\\ndata[\\\"Marital_status\\\"] = data[\\\"Marital_status\\\"].apply(labels)\";\n",
       "                var nbb_cells = Jupyter.notebook.get_cells();\n",
       "                for (var i = 0; i < nbb_cells.length; ++i) {\n",
       "                    if (nbb_cells[i].input_prompt_number == nbb_cell_id) {\n",
       "                        if (nbb_cells[i].get_text() == nbb_unformatted_code) {\n",
       "                             nbb_cells[i].set_text(nbb_formatted_code);\n",
       "                        }\n",
       "                        break;\n",
       "                    }\n",
       "                }\n",
       "            }, 500);\n",
       "            "
      ],
      "text/plain": [
       "<IPython.core.display.Javascript object>"
      ]
     },
     "metadata": {},
     "output_type": "display_data"
    }
   ],
   "source": [
    "class MaritalStatus:\n",
    "    \"\"\"This class contain new labels for Maritalstatus\"\"\"\n",
    "\n",
    "    MARRIED = \"Married-civ-spouse\"\n",
    "    SINGLE = \"Never-married\"\n",
    "    DIVORCED = \"Divorced\"\n",
    "    SEP = \"Separated\"\n",
    "    WIDOW = \"Widowed\"\n",
    "    REPLACE = \"Others\"\n",
    "\n",
    "\n",
    "def labels(mar_stat: str) -> str:\n",
    "    \"\"\"This returns new labels for Marital status\"\"\"\n",
    "    if mar_stat == \"Married-civ-spouse\":\n",
    "        result = MaritalStatus.MARRIED\n",
    "    elif mar_stat == \"Never-married\":\n",
    "        result = MaritalStatus.SINGLE\n",
    "    elif mar_stat == \"Divorced\":\n",
    "        result = MaritalStatus.DIVORCED\n",
    "    elif mar_stat == \"Separated\":\n",
    "        result = MaritalStatus.SEP\n",
    "    elif mar_stat == \"Widowed\":\n",
    "        result = MaritalStatus.WIDOW\n",
    "    else:\n",
    "        result = MaritalStatus.REPLACE\n",
    "    return result\n",
    "\n",
    "\n",
    "# Assigning a new label to our data applying the above function\n",
    "data[\"Marital_status\"] = data[\"Marital_status\"].apply(labels)"
   ]
  },
  {
   "cell_type": "code",
   "execution_count": 20,
   "id": "39b27492",
   "metadata": {},
   "outputs": [
    {
     "data": {
      "application/javascript": [
       "\n",
       "            setTimeout(function() {\n",
       "                var nbb_cell_id = 20;\n",
       "                var nbb_unformatted_code = \"class Occupation:\\n    \\\"\\\"\\\"This class contain new labels for Occupation\\\"\\\"\\\"\\n\\n    PROF = \\\"Prof-specialty\\\"\\n    CRAFT = \\\"Craft-repair\\\"\\n    EXEC = \\\"Exec-managerial\\\"\\n    ADM = \\\"Adm-clerical\\\"\\n    SALES = \\\"Sales\\\"\\n    SERVICE = \\\"Other-service\\\"\\n    MACH = \\\"Machine-op-inspct\\\"\\n    TRANS = \\\"Transport-moving\\\"\\n    CLEAN = \\\"Handlers-cleaners\\\"\\n    FARM = \\\"Farming-fishing\\\"\\n    TECH = \\\"Tech-support\\\"\\n    PROTECT = \\\"Protective-serv\\\"\\n    REPLACE = \\\"Others\\\"\\n\\n\\ndef labels(occ: str) -> str:\\n    \\\"\\\"\\\"This returns new labels for Workclass\\\"\\\"\\\"\\n\\n    if occ == \\\"Prof-specialty\\\":\\n        result = Occupation.PROF\\n    elif occ == \\\"Craft-repair\\\":\\n        result = Occupation.CRAFT\\n    elif occ == \\\"Exec-managerial\\\":\\n        result = Occupation.EXEC\\n    elif occ == \\\"Adm-clerical\\\":\\n        result = Occupation.ADM\\n    elif occ == \\\"Sales\\\":\\n        result = Occupation.SALES\\n    elif occ == \\\"Other-service\\\":\\n        result = Occupation.SERVICE\\n    elif occ == \\\"Machine-op-inspct\\\":\\n        result = Occupation.MACH\\n    elif occ == \\\"Transport-moving\\\":\\n        result = Occupation.TRANS\\n    elif occ == \\\"Handlers-cleaners\\\":\\n        result = Occupation.CLEAN\\n    elif occ == \\\"Farming-fishing\\\":\\n        result = Occupation.FARM\\n    elif occ == \\\"Tech-support\\\":\\n        result = Occupation.TECH\\n    elif occ == \\\"Protective-serv\\\":\\n        result = Occupation.PROTECT\\n    else:  # (Widow, Alone, Absurd, YOLO)\\n        result = Occupation.REPLACE\\n    return result\\n\\n\\n# Assigning a new label to our data applying the above function\\ndata[\\\"Occupation\\\"] = data[\\\"Occupation\\\"].apply(labels)\";\n",
       "                var nbb_formatted_code = \"class Occupation:\\n    \\\"\\\"\\\"This class contain new labels for Occupation\\\"\\\"\\\"\\n\\n    PROF = \\\"Prof-specialty\\\"\\n    CRAFT = \\\"Craft-repair\\\"\\n    EXEC = \\\"Exec-managerial\\\"\\n    ADM = \\\"Adm-clerical\\\"\\n    SALES = \\\"Sales\\\"\\n    SERVICE = \\\"Other-service\\\"\\n    MACH = \\\"Machine-op-inspct\\\"\\n    TRANS = \\\"Transport-moving\\\"\\n    CLEAN = \\\"Handlers-cleaners\\\"\\n    FARM = \\\"Farming-fishing\\\"\\n    TECH = \\\"Tech-support\\\"\\n    PROTECT = \\\"Protective-serv\\\"\\n    REPLACE = \\\"Others\\\"\\n\\n\\ndef labels(occ: str) -> str:\\n    \\\"\\\"\\\"This returns new labels for Workclass\\\"\\\"\\\"\\n\\n    if occ == \\\"Prof-specialty\\\":\\n        result = Occupation.PROF\\n    elif occ == \\\"Craft-repair\\\":\\n        result = Occupation.CRAFT\\n    elif occ == \\\"Exec-managerial\\\":\\n        result = Occupation.EXEC\\n    elif occ == \\\"Adm-clerical\\\":\\n        result = Occupation.ADM\\n    elif occ == \\\"Sales\\\":\\n        result = Occupation.SALES\\n    elif occ == \\\"Other-service\\\":\\n        result = Occupation.SERVICE\\n    elif occ == \\\"Machine-op-inspct\\\":\\n        result = Occupation.MACH\\n    elif occ == \\\"Transport-moving\\\":\\n        result = Occupation.TRANS\\n    elif occ == \\\"Handlers-cleaners\\\":\\n        result = Occupation.CLEAN\\n    elif occ == \\\"Farming-fishing\\\":\\n        result = Occupation.FARM\\n    elif occ == \\\"Tech-support\\\":\\n        result = Occupation.TECH\\n    elif occ == \\\"Protective-serv\\\":\\n        result = Occupation.PROTECT\\n    else:  # (Widow, Alone, Absurd, YOLO)\\n        result = Occupation.REPLACE\\n    return result\\n\\n\\n# Assigning a new label to our data applying the above function\\ndata[\\\"Occupation\\\"] = data[\\\"Occupation\\\"].apply(labels)\";\n",
       "                var nbb_cells = Jupyter.notebook.get_cells();\n",
       "                for (var i = 0; i < nbb_cells.length; ++i) {\n",
       "                    if (nbb_cells[i].input_prompt_number == nbb_cell_id) {\n",
       "                        if (nbb_cells[i].get_text() == nbb_unformatted_code) {\n",
       "                             nbb_cells[i].set_text(nbb_formatted_code);\n",
       "                        }\n",
       "                        break;\n",
       "                    }\n",
       "                }\n",
       "            }, 500);\n",
       "            "
      ],
      "text/plain": [
       "<IPython.core.display.Javascript object>"
      ]
     },
     "metadata": {},
     "output_type": "display_data"
    }
   ],
   "source": [
    "class Occupation:\n",
    "    \"\"\"This class contain new labels for Occupation\"\"\"\n",
    "\n",
    "    PROF = \"Prof-specialty\"\n",
    "    CRAFT = \"Craft-repair\"\n",
    "    EXEC = \"Exec-managerial\"\n",
    "    ADM = \"Adm-clerical\"\n",
    "    SALES = \"Sales\"\n",
    "    SERVICE = \"Other-service\"\n",
    "    MACH = \"Machine-op-inspct\"\n",
    "    TRANS = \"Transport-moving\"\n",
    "    CLEAN = \"Handlers-cleaners\"\n",
    "    FARM = \"Farming-fishing\"\n",
    "    TECH = \"Tech-support\"\n",
    "    PROTECT = \"Protective-serv\"\n",
    "    REPLACE = \"Others\"\n",
    "\n",
    "\n",
    "def labels(occ: str) -> str:\n",
    "    \"\"\"This returns new labels for Workclass\"\"\"\n",
    "\n",
    "    if occ == \"Prof-specialty\":\n",
    "        result = Occupation.PROF\n",
    "    elif occ == \"Craft-repair\":\n",
    "        result = Occupation.CRAFT\n",
    "    elif occ == \"Exec-managerial\":\n",
    "        result = Occupation.EXEC\n",
    "    elif occ == \"Adm-clerical\":\n",
    "        result = Occupation.ADM\n",
    "    elif occ == \"Sales\":\n",
    "        result = Occupation.SALES\n",
    "    elif occ == \"Other-service\":\n",
    "        result = Occupation.SERVICE\n",
    "    elif occ == \"Machine-op-inspct\":\n",
    "        result = Occupation.MACH\n",
    "    elif occ == \"Transport-moving\":\n",
    "        result = Occupation.TRANS\n",
    "    elif occ == \"Handlers-cleaners\":\n",
    "        result = Occupation.CLEAN\n",
    "    elif occ == \"Farming-fishing\":\n",
    "        result = Occupation.FARM\n",
    "    elif occ == \"Tech-support\":\n",
    "        result = Occupation.TECH\n",
    "    elif occ == \"Protective-serv\":\n",
    "        result = Occupation.PROTECT\n",
    "    else:  # (Widow, Alone, Absurd, YOLO)\n",
    "        result = Occupation.REPLACE\n",
    "    return result\n",
    "\n",
    "\n",
    "# Assigning a new label to our data applying the above function\n",
    "data[\"Occupation\"] = data[\"Occupation\"].apply(labels)"
   ]
  },
  {
   "cell_type": "markdown",
   "id": "4e63f9f8",
   "metadata": {},
   "source": [
    "## Feature Selection"
   ]
  },
  {
   "cell_type": "code",
   "execution_count": 21,
   "id": "d520a617",
   "metadata": {},
   "outputs": [
    {
     "name": "stdout",
     "output_type": "stream",
     "text": [
      "'Independent feature':(26048, 13), (6512, 13), \n",
      "'Target features:' (26048,), (6512,)\n"
     ]
    },
    {
     "data": {
      "application/javascript": [
       "\n",
       "            setTimeout(function() {\n",
       "                var nbb_cell_id = 21;\n",
       "                var nbb_unformatted_code = \"RANDOMSTATE = 123\\nTESTSIZE = 0.2\\nTARGET = \\\"Salary\\\"\\n\\nfrom sklearn.model_selection import train_test_split\\n\\n# Independent variable (matrix)\\nX = data.drop(columns=TARGET)\\n\\n# Target variable (Vector)\\ny = data[TARGET]\\n\\n# Split X & y\\nX_train, X_test, y_train, y_test = train_test_split(X, y, test_size=TESTSIZE, random_state=RANDOMSTATE)\\n\\n#Shape: Train, Test\\nprint(f\\\"'Independent feature':{X_train.shape}, {X_test.shape}, \\\\n'Target features:' {y_train.shape}, {y_test.shape}\\\")\";\n",
       "                var nbb_formatted_code = \"RANDOMSTATE = 123\\nTESTSIZE = 0.2\\nTARGET = \\\"Salary\\\"\\n\\nfrom sklearn.model_selection import train_test_split\\n\\n# Independent variable (matrix)\\nX = data.drop(columns=TARGET)\\n\\n# Target variable (Vector)\\ny = data[TARGET]\\n\\n# Split X & y\\nX_train, X_test, y_train, y_test = train_test_split(\\n    X, y, test_size=TESTSIZE, random_state=RANDOMSTATE\\n)\\n\\n# Shape: Train, Test\\nprint(\\n    f\\\"'Independent feature':{X_train.shape}, {X_test.shape}, \\\\n'Target features:' {y_train.shape}, {y_test.shape}\\\"\\n)\";\n",
       "                var nbb_cells = Jupyter.notebook.get_cells();\n",
       "                for (var i = 0; i < nbb_cells.length; ++i) {\n",
       "                    if (nbb_cells[i].input_prompt_number == nbb_cell_id) {\n",
       "                        if (nbb_cells[i].get_text() == nbb_unformatted_code) {\n",
       "                             nbb_cells[i].set_text(nbb_formatted_code);\n",
       "                        }\n",
       "                        break;\n",
       "                    }\n",
       "                }\n",
       "            }, 500);\n",
       "            "
      ],
      "text/plain": [
       "<IPython.core.display.Javascript object>"
      ]
     },
     "metadata": {},
     "output_type": "display_data"
    }
   ],
   "source": [
    "RANDOMSTATE = 123\n",
    "TESTSIZE = 0.2\n",
    "TARGET = \"Salary\"\n",
    "\n",
    "from sklearn.model_selection import train_test_split\n",
    "\n",
    "# Independent variable (matrix)\n",
    "X = data.drop(columns=TARGET)\n",
    "\n",
    "# Target variable (Vector)\n",
    "y = data[TARGET]\n",
    "\n",
    "# Split X & y\n",
    "X_train, X_test, y_train, y_test = train_test_split(X, y, test_size=TESTSIZE, random_state=RANDOMSTATE)\n",
    "\n",
    "#Shape: Train, Test\n",
    "print(f\"'Independent feature':{X_train.shape}, {X_test.shape}, \\n'Target features:' {y_train.shape}, {y_test.shape}\")\n",
    "\n"
   ]
  },
  {
   "cell_type": "markdown",
   "id": "04892827",
   "metadata": {},
   "source": [
    "## Feature Engineering"
   ]
  },
  {
   "cell_type": "code",
   "execution_count": 22,
   "id": "0744d9a5",
   "metadata": {},
   "outputs": [
    {
     "data": {
      "application/javascript": [
       "\n",
       "            setTimeout(function() {\n",
       "                var nbb_cell_id = 22;\n",
       "                var nbb_unformatted_code = \"from sklearn.compose import ColumnTransformer\\nfrom sklearn.pipeline import Pipeline\\nfrom sklearn.preprocessing import OneHotEncoder, MinMaxScaler\\n\\n# VTS: Variables to scale\\nVTS = [\\n    \\\"Age\\\",\\n    \\\"Final_weight\\\",\\n    \\\"Capital_gain\\\",\\n    \\\"Capital_loss\\\",\\n    \\\"Hours_per_week\\\",\\n]\\n\\n# VTE: Variables to encode\\nVTE = [\\n    \\\"Workclass\\\",\\n    \\\"Education\\\",\\n    \\\"Marital_status\\\",\\n    \\\"Occupation\\\",\\n    \\\"Relationship\\\",\\n    \\\"Race\\\",\\n    \\\"Sex\\\",\\n    \\\"Country\\\",\\n]\";\n",
       "                var nbb_formatted_code = \"from sklearn.compose import ColumnTransformer\\nfrom sklearn.pipeline import Pipeline\\nfrom sklearn.preprocessing import OneHotEncoder, MinMaxScaler\\n\\n# VTS: Variables to scale\\nVTS = [\\n    \\\"Age\\\",\\n    \\\"Final_weight\\\",\\n    \\\"Capital_gain\\\",\\n    \\\"Capital_loss\\\",\\n    \\\"Hours_per_week\\\",\\n]\\n\\n# VTE: Variables to encode\\nVTE = [\\n    \\\"Workclass\\\",\\n    \\\"Education\\\",\\n    \\\"Marital_status\\\",\\n    \\\"Occupation\\\",\\n    \\\"Relationship\\\",\\n    \\\"Race\\\",\\n    \\\"Sex\\\",\\n    \\\"Country\\\",\\n]\";\n",
       "                var nbb_cells = Jupyter.notebook.get_cells();\n",
       "                for (var i = 0; i < nbb_cells.length; ++i) {\n",
       "                    if (nbb_cells[i].input_prompt_number == nbb_cell_id) {\n",
       "                        if (nbb_cells[i].get_text() == nbb_unformatted_code) {\n",
       "                             nbb_cells[i].set_text(nbb_formatted_code);\n",
       "                        }\n",
       "                        break;\n",
       "                    }\n",
       "                }\n",
       "            }, 500);\n",
       "            "
      ],
      "text/plain": [
       "<IPython.core.display.Javascript object>"
      ]
     },
     "metadata": {},
     "output_type": "display_data"
    }
   ],
   "source": [
    "from sklearn.compose import ColumnTransformer\n",
    "from sklearn.pipeline import Pipeline\n",
    "from sklearn.preprocessing import OneHotEncoder, MinMaxScaler\n",
    "\n",
    "# VTS: Variables to scale\n",
    "VTS = [\n",
    "    \"Age\",\n",
    "    \"Final_weight\",\n",
    "    \"Capital_gain\",\n",
    "    \"Capital_loss\",\n",
    "    \"Hours_per_week\",\n",
    "]\n",
    "\n",
    "# VTE: Variables to encode\n",
    "VTE = [\n",
    "    \"Workclass\",\n",
    "    \"Education\",\n",
    "    \"Marital_status\",\n",
    "    \"Occupation\",\n",
    "    \"Relationship\",\n",
    "    \"Race\",\n",
    "    \"Sex\",\n",
    "    \"Country\",\n",
    "]"
   ]
  },
  {
   "cell_type": "code",
   "execution_count": 23,
   "id": "9d22a6e6",
   "metadata": {},
   "outputs": [
    {
     "data": {
      "text/html": [
       "<style>#sk-container-id-1 {color: black;background-color: white;}#sk-container-id-1 pre{padding: 0;}#sk-container-id-1 div.sk-toggleable {background-color: white;}#sk-container-id-1 label.sk-toggleable__label {cursor: pointer;display: block;width: 100%;margin-bottom: 0;padding: 0.3em;box-sizing: border-box;text-align: center;}#sk-container-id-1 label.sk-toggleable__label-arrow:before {content: \"▸\";float: left;margin-right: 0.25em;color: #696969;}#sk-container-id-1 label.sk-toggleable__label-arrow:hover:before {color: black;}#sk-container-id-1 div.sk-estimator:hover label.sk-toggleable__label-arrow:before {color: black;}#sk-container-id-1 div.sk-toggleable__content {max-height: 0;max-width: 0;overflow: hidden;text-align: left;background-color: #f0f8ff;}#sk-container-id-1 div.sk-toggleable__content pre {margin: 0.2em;color: black;border-radius: 0.25em;background-color: #f0f8ff;}#sk-container-id-1 input.sk-toggleable__control:checked~div.sk-toggleable__content {max-height: 200px;max-width: 100%;overflow: auto;}#sk-container-id-1 input.sk-toggleable__control:checked~label.sk-toggleable__label-arrow:before {content: \"▾\";}#sk-container-id-1 div.sk-estimator input.sk-toggleable__control:checked~label.sk-toggleable__label {background-color: #d4ebff;}#sk-container-id-1 div.sk-label input.sk-toggleable__control:checked~label.sk-toggleable__label {background-color: #d4ebff;}#sk-container-id-1 input.sk-hidden--visually {border: 0;clip: rect(1px 1px 1px 1px);clip: rect(1px, 1px, 1px, 1px);height: 1px;margin: -1px;overflow: hidden;padding: 0;position: absolute;width: 1px;}#sk-container-id-1 div.sk-estimator {font-family: monospace;background-color: #f0f8ff;border: 1px dotted black;border-radius: 0.25em;box-sizing: border-box;margin-bottom: 0.5em;}#sk-container-id-1 div.sk-estimator:hover {background-color: #d4ebff;}#sk-container-id-1 div.sk-parallel-item::after {content: \"\";width: 100%;border-bottom: 1px solid gray;flex-grow: 1;}#sk-container-id-1 div.sk-label:hover label.sk-toggleable__label {background-color: #d4ebff;}#sk-container-id-1 div.sk-serial::before {content: \"\";position: absolute;border-left: 1px solid gray;box-sizing: border-box;top: 0;bottom: 0;left: 50%;z-index: 0;}#sk-container-id-1 div.sk-serial {display: flex;flex-direction: column;align-items: center;background-color: white;padding-right: 0.2em;padding-left: 0.2em;position: relative;}#sk-container-id-1 div.sk-item {position: relative;z-index: 1;}#sk-container-id-1 div.sk-parallel {display: flex;align-items: stretch;justify-content: center;background-color: white;position: relative;}#sk-container-id-1 div.sk-item::before, #sk-container-id-1 div.sk-parallel-item::before {content: \"\";position: absolute;border-left: 1px solid gray;box-sizing: border-box;top: 0;bottom: 0;left: 50%;z-index: -1;}#sk-container-id-1 div.sk-parallel-item {display: flex;flex-direction: column;z-index: 1;position: relative;background-color: white;}#sk-container-id-1 div.sk-parallel-item:first-child::after {align-self: flex-end;width: 50%;}#sk-container-id-1 div.sk-parallel-item:last-child::after {align-self: flex-start;width: 50%;}#sk-container-id-1 div.sk-parallel-item:only-child::after {width: 0;}#sk-container-id-1 div.sk-dashed-wrapped {border: 1px dashed gray;margin: 0 0.4em 0.5em 0.4em;box-sizing: border-box;padding-bottom: 0.4em;background-color: white;}#sk-container-id-1 div.sk-label label {font-family: monospace;font-weight: bold;display: inline-block;line-height: 1.2em;}#sk-container-id-1 div.sk-label-container {text-align: center;}#sk-container-id-1 div.sk-container {/* jupyter's `normalize.less` sets `[hidden] { display: none; }` but bootstrap.min.css set `[hidden] { display: none !important; }` so we also need the `!important` here to be able to override the default hidden behavior on the sphinx rendered scikit-learn.org. See: https://github.com/scikit-learn/scikit-learn/issues/21755 */display: inline-block !important;position: relative;}#sk-container-id-1 div.sk-text-repr-fallback {display: none;}</style><div id=\"sk-container-id-1\" class=\"sk-top-container\"><div class=\"sk-text-repr-fallback\"><pre>ColumnTransformer(remainder=&#x27;passthrough&#x27;,\n",
       "                  transformers=[(&#x27;ohe&#x27;,\n",
       "                                 OneHotEncoder(dtype=&lt;class &#x27;int&#x27;&gt;,\n",
       "                                               handle_unknown=&#x27;ignore&#x27;),\n",
       "                                 [&#x27;Workclass&#x27;, &#x27;Education&#x27;, &#x27;Marital_status&#x27;,\n",
       "                                  &#x27;Occupation&#x27;, &#x27;Relationship&#x27;, &#x27;Race&#x27;, &#x27;Sex&#x27;,\n",
       "                                  &#x27;Country&#x27;]),\n",
       "                                (&#x27;scaler&#x27;, MinMaxScaler(),\n",
       "                                 [&#x27;Age&#x27;, &#x27;Final_weight&#x27;, &#x27;Capital_gain&#x27;,\n",
       "                                  &#x27;Capital_loss&#x27;, &#x27;Hours_per_week&#x27;])])</pre><b>In a Jupyter environment, please rerun this cell to show the HTML representation or trust the notebook. <br />On GitHub, the HTML representation is unable to render, please try loading this page with nbviewer.org.</b></div><div class=\"sk-container\" hidden><div class=\"sk-item sk-dashed-wrapped\"><div class=\"sk-label-container\"><div class=\"sk-label sk-toggleable\"><input class=\"sk-toggleable__control sk-hidden--visually\" id=\"sk-estimator-id-1\" type=\"checkbox\" ><label for=\"sk-estimator-id-1\" class=\"sk-toggleable__label sk-toggleable__label-arrow\">ColumnTransformer</label><div class=\"sk-toggleable__content\"><pre>ColumnTransformer(remainder=&#x27;passthrough&#x27;,\n",
       "                  transformers=[(&#x27;ohe&#x27;,\n",
       "                                 OneHotEncoder(dtype=&lt;class &#x27;int&#x27;&gt;,\n",
       "                                               handle_unknown=&#x27;ignore&#x27;),\n",
       "                                 [&#x27;Workclass&#x27;, &#x27;Education&#x27;, &#x27;Marital_status&#x27;,\n",
       "                                  &#x27;Occupation&#x27;, &#x27;Relationship&#x27;, &#x27;Race&#x27;, &#x27;Sex&#x27;,\n",
       "                                  &#x27;Country&#x27;]),\n",
       "                                (&#x27;scaler&#x27;, MinMaxScaler(),\n",
       "                                 [&#x27;Age&#x27;, &#x27;Final_weight&#x27;, &#x27;Capital_gain&#x27;,\n",
       "                                  &#x27;Capital_loss&#x27;, &#x27;Hours_per_week&#x27;])])</pre></div></div></div><div class=\"sk-parallel\"><div class=\"sk-parallel-item\"><div class=\"sk-item\"><div class=\"sk-label-container\"><div class=\"sk-label sk-toggleable\"><input class=\"sk-toggleable__control sk-hidden--visually\" id=\"sk-estimator-id-2\" type=\"checkbox\" ><label for=\"sk-estimator-id-2\" class=\"sk-toggleable__label sk-toggleable__label-arrow\">ohe</label><div class=\"sk-toggleable__content\"><pre>[&#x27;Workclass&#x27;, &#x27;Education&#x27;, &#x27;Marital_status&#x27;, &#x27;Occupation&#x27;, &#x27;Relationship&#x27;, &#x27;Race&#x27;, &#x27;Sex&#x27;, &#x27;Country&#x27;]</pre></div></div></div><div class=\"sk-serial\"><div class=\"sk-item\"><div class=\"sk-estimator sk-toggleable\"><input class=\"sk-toggleable__control sk-hidden--visually\" id=\"sk-estimator-id-3\" type=\"checkbox\" ><label for=\"sk-estimator-id-3\" class=\"sk-toggleable__label sk-toggleable__label-arrow\">OneHotEncoder</label><div class=\"sk-toggleable__content\"><pre>OneHotEncoder(dtype=&lt;class &#x27;int&#x27;&gt;, handle_unknown=&#x27;ignore&#x27;)</pre></div></div></div></div></div></div><div class=\"sk-parallel-item\"><div class=\"sk-item\"><div class=\"sk-label-container\"><div class=\"sk-label sk-toggleable\"><input class=\"sk-toggleable__control sk-hidden--visually\" id=\"sk-estimator-id-4\" type=\"checkbox\" ><label for=\"sk-estimator-id-4\" class=\"sk-toggleable__label sk-toggleable__label-arrow\">scaler</label><div class=\"sk-toggleable__content\"><pre>[&#x27;Age&#x27;, &#x27;Final_weight&#x27;, &#x27;Capital_gain&#x27;, &#x27;Capital_loss&#x27;, &#x27;Hours_per_week&#x27;]</pre></div></div></div><div class=\"sk-serial\"><div class=\"sk-item\"><div class=\"sk-estimator sk-toggleable\"><input class=\"sk-toggleable__control sk-hidden--visually\" id=\"sk-estimator-id-5\" type=\"checkbox\" ><label for=\"sk-estimator-id-5\" class=\"sk-toggleable__label sk-toggleable__label-arrow\">MinMaxScaler</label><div class=\"sk-toggleable__content\"><pre>MinMaxScaler()</pre></div></div></div></div></div></div><div class=\"sk-parallel-item\"><div class=\"sk-item\"><div class=\"sk-label-container\"><div class=\"sk-label sk-toggleable\"><input class=\"sk-toggleable__control sk-hidden--visually\" id=\"sk-estimator-id-6\" type=\"checkbox\" ><label for=\"sk-estimator-id-6\" class=\"sk-toggleable__label sk-toggleable__label-arrow\">remainder</label><div class=\"sk-toggleable__content\"><pre></pre></div></div></div><div class=\"sk-serial\"><div class=\"sk-item\"><div class=\"sk-estimator sk-toggleable\"><input class=\"sk-toggleable__control sk-hidden--visually\" id=\"sk-estimator-id-7\" type=\"checkbox\" ><label for=\"sk-estimator-id-7\" class=\"sk-toggleable__label sk-toggleable__label-arrow\">passthrough</label><div class=\"sk-toggleable__content\"><pre>passthrough</pre></div></div></div></div></div></div></div></div></div></div>"
      ],
      "text/plain": [
       "ColumnTransformer(remainder='passthrough',\n",
       "                  transformers=[('ohe',\n",
       "                                 OneHotEncoder(dtype=<class 'int'>,\n",
       "                                               handle_unknown='ignore'),\n",
       "                                 ['Workclass', 'Education', 'Marital_status',\n",
       "                                  'Occupation', 'Relationship', 'Race', 'Sex',\n",
       "                                  'Country']),\n",
       "                                ('scaler', MinMaxScaler(),\n",
       "                                 ['Age', 'Final_weight', 'Capital_gain',\n",
       "                                  'Capital_loss', 'Hours_per_week'])])"
      ]
     },
     "execution_count": 23,
     "metadata": {},
     "output_type": "execute_result"
    },
    {
     "data": {
      "application/javascript": [
       "\n",
       "            setTimeout(function() {\n",
       "                var nbb_cell_id = 23;\n",
       "                var nbb_unformatted_code = \"# One Hot Encode\\nohe = OneHotEncoder(dtype=int, handle_unknown=\\\"ignore\\\")\\n\\n# Scale\\nscaler = MinMaxScaler()\\n\\n\\ncol_trans = ColumnTransformer(\\n    transformers=[(\\\"ohe\\\", ohe, VTE), (\\\"scaler\\\", scaler, VTS)], remainder=\\\"passthrough\\\"\\n)\\n\\ncol_trans\";\n",
       "                var nbb_formatted_code = \"# One Hot Encode\\nohe = OneHotEncoder(dtype=int, handle_unknown=\\\"ignore\\\")\\n\\n# Scale\\nscaler = MinMaxScaler()\\n\\n\\ncol_trans = ColumnTransformer(\\n    transformers=[(\\\"ohe\\\", ohe, VTE), (\\\"scaler\\\", scaler, VTS)], remainder=\\\"passthrough\\\"\\n)\\n\\ncol_trans\";\n",
       "                var nbb_cells = Jupyter.notebook.get_cells();\n",
       "                for (var i = 0; i < nbb_cells.length; ++i) {\n",
       "                    if (nbb_cells[i].input_prompt_number == nbb_cell_id) {\n",
       "                        if (nbb_cells[i].get_text() == nbb_unformatted_code) {\n",
       "                             nbb_cells[i].set_text(nbb_formatted_code);\n",
       "                        }\n",
       "                        break;\n",
       "                    }\n",
       "                }\n",
       "            }, 500);\n",
       "            "
      ],
      "text/plain": [
       "<IPython.core.display.Javascript object>"
      ]
     },
     "metadata": {},
     "output_type": "display_data"
    }
   ],
   "source": [
    "# One Hot Encode\n",
    "ohe = OneHotEncoder(dtype=int, handle_unknown=\"ignore\")\n",
    "\n",
    "# Scale\n",
    "scaler = MinMaxScaler()\n",
    "\n",
    "\n",
    "col_trans = ColumnTransformer(\n",
    "    transformers=[(\"ohe\", ohe, VTE), (\"scaler\", scaler, VTS)], remainder=\"passthrough\"\n",
    ")\n",
    "\n",
    "col_trans"
   ]
  },
  {
   "cell_type": "code",
   "execution_count": 24,
   "id": "226fb8dd",
   "metadata": {},
   "outputs": [
    {
     "data": {
      "application/javascript": [
       "\n",
       "            setTimeout(function() {\n",
       "                var nbb_cell_id = 24;\n",
       "                var nbb_unformatted_code = \"tr = col_trans.fit_transform(X_train)\\ntr = tr.toarray()\";\n",
       "                var nbb_formatted_code = \"tr = col_trans.fit_transform(X_train)\\ntr = tr.toarray()\";\n",
       "                var nbb_cells = Jupyter.notebook.get_cells();\n",
       "                for (var i = 0; i < nbb_cells.length; ++i) {\n",
       "                    if (nbb_cells[i].input_prompt_number == nbb_cell_id) {\n",
       "                        if (nbb_cells[i].get_text() == nbb_unformatted_code) {\n",
       "                             nbb_cells[i].set_text(nbb_formatted_code);\n",
       "                        }\n",
       "                        break;\n",
       "                    }\n",
       "                }\n",
       "            }, 500);\n",
       "            "
      ],
      "text/plain": [
       "<IPython.core.display.Javascript object>"
      ]
     },
     "metadata": {},
     "output_type": "display_data"
    }
   ],
   "source": [
    "tr = col_trans.fit_transform(X_train)\n",
    "tr = tr.toarray()"
   ]
  },
  {
   "cell_type": "code",
   "execution_count": 25,
   "id": "ba424ed8",
   "metadata": {},
   "outputs": [
    {
     "data": {
      "text/html": [
       "<div>\n",
       "<style scoped>\n",
       "    .dataframe tbody tr th:only-of-type {\n",
       "        vertical-align: middle;\n",
       "    }\n",
       "\n",
       "    .dataframe tbody tr th {\n",
       "        vertical-align: top;\n",
       "    }\n",
       "\n",
       "    .dataframe thead th {\n",
       "        text-align: right;\n",
       "    }\n",
       "</style>\n",
       "<table border=\"1\" class=\"dataframe\">\n",
       "  <thead>\n",
       "    <tr style=\"text-align: right;\">\n",
       "      <th></th>\n",
       "      <th>ohe__Workclass_Federal-gov</th>\n",
       "      <th>ohe__Workclass_Local-gov</th>\n",
       "      <th>ohe__Workclass_Others</th>\n",
       "      <th>ohe__Workclass_Private</th>\n",
       "      <th>ohe__Workclass_Self-emp-inc</th>\n",
       "      <th>ohe__Workclass_Self-emp-not-inc</th>\n",
       "      <th>ohe__Workclass_State-gov</th>\n",
       "      <th>ohe__Education_Assoc-acdm</th>\n",
       "      <th>ohe__Education_Assoc-voc</th>\n",
       "      <th>ohe__Education_Bachelors</th>\n",
       "      <th>ohe__Education_Doctorate</th>\n",
       "      <th>ohe__Education_HS-grad</th>\n",
       "      <th>ohe__Education_Masters</th>\n",
       "      <th>ohe__Education_Others</th>\n",
       "      <th>ohe__Education_Some-college</th>\n",
       "      <th>ohe__Marital_status_Divorced</th>\n",
       "      <th>ohe__Marital_status_Married-civ-spouse</th>\n",
       "      <th>ohe__Marital_status_Never-married</th>\n",
       "      <th>ohe__Marital_status_Others</th>\n",
       "      <th>ohe__Marital_status_Separated</th>\n",
       "      <th>ohe__Marital_status_Widowed</th>\n",
       "      <th>ohe__Occupation_Adm-clerical</th>\n",
       "      <th>ohe__Occupation_Craft-repair</th>\n",
       "      <th>ohe__Occupation_Exec-managerial</th>\n",
       "      <th>ohe__Occupation_Farming-fishing</th>\n",
       "      <th>ohe__Occupation_Handlers-cleaners</th>\n",
       "      <th>ohe__Occupation_Machine-op-inspct</th>\n",
       "      <th>ohe__Occupation_Other-service</th>\n",
       "      <th>ohe__Occupation_Others</th>\n",
       "      <th>ohe__Occupation_Prof-specialty</th>\n",
       "      <th>ohe__Occupation_Protective-serv</th>\n",
       "      <th>ohe__Occupation_Sales</th>\n",
       "      <th>ohe__Occupation_Tech-support</th>\n",
       "      <th>ohe__Occupation_Transport-moving</th>\n",
       "      <th>ohe__Relationship_Husband</th>\n",
       "      <th>ohe__Relationship_Not-in-family</th>\n",
       "      <th>ohe__Relationship_Other-relative</th>\n",
       "      <th>ohe__Relationship_Own-child</th>\n",
       "      <th>ohe__Relationship_Unmarried</th>\n",
       "      <th>ohe__Relationship_Wife</th>\n",
       "      <th>ohe__Race_Amer-Indian-Eskimo</th>\n",
       "      <th>ohe__Race_Asian-Pac-Islander</th>\n",
       "      <th>ohe__Race_Black</th>\n",
       "      <th>ohe__Race_Other</th>\n",
       "      <th>ohe__Race_White</th>\n",
       "      <th>ohe__Sex_Female</th>\n",
       "      <th>ohe__Sex_Male</th>\n",
       "      <th>ohe__Country_Others</th>\n",
       "      <th>ohe__Country_United-States</th>\n",
       "      <th>scaler__Age</th>\n",
       "      <th>scaler__Final_weight</th>\n",
       "      <th>scaler__Capital_gain</th>\n",
       "      <th>scaler__Capital_loss</th>\n",
       "      <th>scaler__Hours_per_week</th>\n",
       "    </tr>\n",
       "  </thead>\n",
       "  <tbody>\n",
       "    <tr>\n",
       "      <th>0</th>\n",
       "      <td>0.0</td>\n",
       "      <td>0.0</td>\n",
       "      <td>0.0</td>\n",
       "      <td>1.0</td>\n",
       "      <td>0.0</td>\n",
       "      <td>0.0</td>\n",
       "      <td>0.0</td>\n",
       "      <td>0.0</td>\n",
       "      <td>0.0</td>\n",
       "      <td>0.0</td>\n",
       "      <td>0.0</td>\n",
       "      <td>0.0</td>\n",
       "      <td>0.0</td>\n",
       "      <td>0.0</td>\n",
       "      <td>1.0</td>\n",
       "      <td>0.0</td>\n",
       "      <td>0.0</td>\n",
       "      <td>1.0</td>\n",
       "      <td>0.0</td>\n",
       "      <td>0.0</td>\n",
       "      <td>0.0</td>\n",
       "      <td>0.0</td>\n",
       "      <td>0.0</td>\n",
       "      <td>0.0</td>\n",
       "      <td>0.0</td>\n",
       "      <td>0.0</td>\n",
       "      <td>0.0</td>\n",
       "      <td>0.0</td>\n",
       "      <td>0.0</td>\n",
       "      <td>1.0</td>\n",
       "      <td>0.0</td>\n",
       "      <td>0.0</td>\n",
       "      <td>0.0</td>\n",
       "      <td>0.0</td>\n",
       "      <td>0.0</td>\n",
       "      <td>0.0</td>\n",
       "      <td>0.0</td>\n",
       "      <td>1.0</td>\n",
       "      <td>0.0</td>\n",
       "      <td>0.0</td>\n",
       "      <td>0.0</td>\n",
       "      <td>0.0</td>\n",
       "      <td>0.0</td>\n",
       "      <td>0.0</td>\n",
       "      <td>1.0</td>\n",
       "      <td>1.0</td>\n",
       "      <td>0.0</td>\n",
       "      <td>0.0</td>\n",
       "      <td>1.0</td>\n",
       "      <td>0.041096</td>\n",
       "      <td>0.106341</td>\n",
       "      <td>0.0</td>\n",
       "      <td>0.0</td>\n",
       "      <td>0.193878</td>\n",
       "    </tr>\n",
       "    <tr>\n",
       "      <th>1</th>\n",
       "      <td>0.0</td>\n",
       "      <td>0.0</td>\n",
       "      <td>0.0</td>\n",
       "      <td>1.0</td>\n",
       "      <td>0.0</td>\n",
       "      <td>0.0</td>\n",
       "      <td>0.0</td>\n",
       "      <td>0.0</td>\n",
       "      <td>0.0</td>\n",
       "      <td>0.0</td>\n",
       "      <td>0.0</td>\n",
       "      <td>1.0</td>\n",
       "      <td>0.0</td>\n",
       "      <td>0.0</td>\n",
       "      <td>0.0</td>\n",
       "      <td>0.0</td>\n",
       "      <td>0.0</td>\n",
       "      <td>1.0</td>\n",
       "      <td>0.0</td>\n",
       "      <td>0.0</td>\n",
       "      <td>0.0</td>\n",
       "      <td>0.0</td>\n",
       "      <td>0.0</td>\n",
       "      <td>0.0</td>\n",
       "      <td>0.0</td>\n",
       "      <td>0.0</td>\n",
       "      <td>0.0</td>\n",
       "      <td>1.0</td>\n",
       "      <td>0.0</td>\n",
       "      <td>0.0</td>\n",
       "      <td>0.0</td>\n",
       "      <td>0.0</td>\n",
       "      <td>0.0</td>\n",
       "      <td>0.0</td>\n",
       "      <td>0.0</td>\n",
       "      <td>0.0</td>\n",
       "      <td>0.0</td>\n",
       "      <td>1.0</td>\n",
       "      <td>0.0</td>\n",
       "      <td>0.0</td>\n",
       "      <td>0.0</td>\n",
       "      <td>0.0</td>\n",
       "      <td>0.0</td>\n",
       "      <td>0.0</td>\n",
       "      <td>1.0</td>\n",
       "      <td>0.0</td>\n",
       "      <td>1.0</td>\n",
       "      <td>0.0</td>\n",
       "      <td>1.0</td>\n",
       "      <td>0.068493</td>\n",
       "      <td>0.175324</td>\n",
       "      <td>0.0</td>\n",
       "      <td>0.0</td>\n",
       "      <td>0.397959</td>\n",
       "    </tr>\n",
       "    <tr>\n",
       "      <th>2</th>\n",
       "      <td>0.0</td>\n",
       "      <td>0.0</td>\n",
       "      <td>0.0</td>\n",
       "      <td>0.0</td>\n",
       "      <td>0.0</td>\n",
       "      <td>1.0</td>\n",
       "      <td>0.0</td>\n",
       "      <td>0.0</td>\n",
       "      <td>0.0</td>\n",
       "      <td>0.0</td>\n",
       "      <td>0.0</td>\n",
       "      <td>1.0</td>\n",
       "      <td>0.0</td>\n",
       "      <td>0.0</td>\n",
       "      <td>0.0</td>\n",
       "      <td>0.0</td>\n",
       "      <td>1.0</td>\n",
       "      <td>0.0</td>\n",
       "      <td>0.0</td>\n",
       "      <td>0.0</td>\n",
       "      <td>0.0</td>\n",
       "      <td>0.0</td>\n",
       "      <td>1.0</td>\n",
       "      <td>0.0</td>\n",
       "      <td>0.0</td>\n",
       "      <td>0.0</td>\n",
       "      <td>0.0</td>\n",
       "      <td>0.0</td>\n",
       "      <td>0.0</td>\n",
       "      <td>0.0</td>\n",
       "      <td>0.0</td>\n",
       "      <td>0.0</td>\n",
       "      <td>0.0</td>\n",
       "      <td>0.0</td>\n",
       "      <td>1.0</td>\n",
       "      <td>0.0</td>\n",
       "      <td>0.0</td>\n",
       "      <td>0.0</td>\n",
       "      <td>0.0</td>\n",
       "      <td>0.0</td>\n",
       "      <td>0.0</td>\n",
       "      <td>0.0</td>\n",
       "      <td>0.0</td>\n",
       "      <td>0.0</td>\n",
       "      <td>1.0</td>\n",
       "      <td>0.0</td>\n",
       "      <td>1.0</td>\n",
       "      <td>1.0</td>\n",
       "      <td>0.0</td>\n",
       "      <td>0.260274</td>\n",
       "      <td>0.267151</td>\n",
       "      <td>0.0</td>\n",
       "      <td>0.0</td>\n",
       "      <td>0.346939</td>\n",
       "    </tr>\n",
       "    <tr>\n",
       "      <th>3</th>\n",
       "      <td>0.0</td>\n",
       "      <td>0.0</td>\n",
       "      <td>0.0</td>\n",
       "      <td>1.0</td>\n",
       "      <td>0.0</td>\n",
       "      <td>0.0</td>\n",
       "      <td>0.0</td>\n",
       "      <td>0.0</td>\n",
       "      <td>0.0</td>\n",
       "      <td>0.0</td>\n",
       "      <td>0.0</td>\n",
       "      <td>0.0</td>\n",
       "      <td>0.0</td>\n",
       "      <td>0.0</td>\n",
       "      <td>1.0</td>\n",
       "      <td>0.0</td>\n",
       "      <td>0.0</td>\n",
       "      <td>1.0</td>\n",
       "      <td>0.0</td>\n",
       "      <td>0.0</td>\n",
       "      <td>0.0</td>\n",
       "      <td>0.0</td>\n",
       "      <td>0.0</td>\n",
       "      <td>0.0</td>\n",
       "      <td>0.0</td>\n",
       "      <td>0.0</td>\n",
       "      <td>0.0</td>\n",
       "      <td>0.0</td>\n",
       "      <td>0.0</td>\n",
       "      <td>0.0</td>\n",
       "      <td>0.0</td>\n",
       "      <td>0.0</td>\n",
       "      <td>1.0</td>\n",
       "      <td>0.0</td>\n",
       "      <td>0.0</td>\n",
       "      <td>1.0</td>\n",
       "      <td>0.0</td>\n",
       "      <td>0.0</td>\n",
       "      <td>0.0</td>\n",
       "      <td>0.0</td>\n",
       "      <td>0.0</td>\n",
       "      <td>0.0</td>\n",
       "      <td>0.0</td>\n",
       "      <td>0.0</td>\n",
       "      <td>1.0</td>\n",
       "      <td>1.0</td>\n",
       "      <td>0.0</td>\n",
       "      <td>0.0</td>\n",
       "      <td>1.0</td>\n",
       "      <td>0.068493</td>\n",
       "      <td>0.026386</td>\n",
       "      <td>0.0</td>\n",
       "      <td>0.0</td>\n",
       "      <td>0.602041</td>\n",
       "    </tr>\n",
       "    <tr>\n",
       "      <th>4</th>\n",
       "      <td>0.0</td>\n",
       "      <td>0.0</td>\n",
       "      <td>0.0</td>\n",
       "      <td>1.0</td>\n",
       "      <td>0.0</td>\n",
       "      <td>0.0</td>\n",
       "      <td>0.0</td>\n",
       "      <td>0.0</td>\n",
       "      <td>0.0</td>\n",
       "      <td>0.0</td>\n",
       "      <td>0.0</td>\n",
       "      <td>0.0</td>\n",
       "      <td>0.0</td>\n",
       "      <td>0.0</td>\n",
       "      <td>1.0</td>\n",
       "      <td>0.0</td>\n",
       "      <td>0.0</td>\n",
       "      <td>1.0</td>\n",
       "      <td>0.0</td>\n",
       "      <td>0.0</td>\n",
       "      <td>0.0</td>\n",
       "      <td>0.0</td>\n",
       "      <td>0.0</td>\n",
       "      <td>0.0</td>\n",
       "      <td>0.0</td>\n",
       "      <td>0.0</td>\n",
       "      <td>0.0</td>\n",
       "      <td>0.0</td>\n",
       "      <td>0.0</td>\n",
       "      <td>0.0</td>\n",
       "      <td>0.0</td>\n",
       "      <td>0.0</td>\n",
       "      <td>1.0</td>\n",
       "      <td>0.0</td>\n",
       "      <td>0.0</td>\n",
       "      <td>1.0</td>\n",
       "      <td>0.0</td>\n",
       "      <td>0.0</td>\n",
       "      <td>0.0</td>\n",
       "      <td>0.0</td>\n",
       "      <td>0.0</td>\n",
       "      <td>0.0</td>\n",
       "      <td>0.0</td>\n",
       "      <td>0.0</td>\n",
       "      <td>1.0</td>\n",
       "      <td>1.0</td>\n",
       "      <td>0.0</td>\n",
       "      <td>0.0</td>\n",
       "      <td>1.0</td>\n",
       "      <td>0.082192</td>\n",
       "      <td>0.026262</td>\n",
       "      <td>0.0</td>\n",
       "      <td>0.0</td>\n",
       "      <td>0.397959</td>\n",
       "    </tr>\n",
       "  </tbody>\n",
       "</table>\n",
       "</div>"
      ],
      "text/plain": [
       "   ohe__Workclass_Federal-gov  ohe__Workclass_Local-gov  \\\n",
       "0                         0.0                       0.0   \n",
       "1                         0.0                       0.0   \n",
       "2                         0.0                       0.0   \n",
       "3                         0.0                       0.0   \n",
       "4                         0.0                       0.0   \n",
       "\n",
       "   ohe__Workclass_Others  ohe__Workclass_Private  ohe__Workclass_Self-emp-inc  \\\n",
       "0                    0.0                     1.0                          0.0   \n",
       "1                    0.0                     1.0                          0.0   \n",
       "2                    0.0                     0.0                          0.0   \n",
       "3                    0.0                     1.0                          0.0   \n",
       "4                    0.0                     1.0                          0.0   \n",
       "\n",
       "   ohe__Workclass_Self-emp-not-inc  ohe__Workclass_State-gov  \\\n",
       "0                              0.0                       0.0   \n",
       "1                              0.0                       0.0   \n",
       "2                              1.0                       0.0   \n",
       "3                              0.0                       0.0   \n",
       "4                              0.0                       0.0   \n",
       "\n",
       "   ohe__Education_Assoc-acdm  ohe__Education_Assoc-voc  \\\n",
       "0                        0.0                       0.0   \n",
       "1                        0.0                       0.0   \n",
       "2                        0.0                       0.0   \n",
       "3                        0.0                       0.0   \n",
       "4                        0.0                       0.0   \n",
       "\n",
       "   ohe__Education_Bachelors  ohe__Education_Doctorate  ohe__Education_HS-grad  \\\n",
       "0                       0.0                       0.0                     0.0   \n",
       "1                       0.0                       0.0                     1.0   \n",
       "2                       0.0                       0.0                     1.0   \n",
       "3                       0.0                       0.0                     0.0   \n",
       "4                       0.0                       0.0                     0.0   \n",
       "\n",
       "   ohe__Education_Masters  ohe__Education_Others  ohe__Education_Some-college  \\\n",
       "0                     0.0                    0.0                          1.0   \n",
       "1                     0.0                    0.0                          0.0   \n",
       "2                     0.0                    0.0                          0.0   \n",
       "3                     0.0                    0.0                          1.0   \n",
       "4                     0.0                    0.0                          1.0   \n",
       "\n",
       "   ohe__Marital_status_Divorced  ohe__Marital_status_Married-civ-spouse  \\\n",
       "0                           0.0                                     0.0   \n",
       "1                           0.0                                     0.0   \n",
       "2                           0.0                                     1.0   \n",
       "3                           0.0                                     0.0   \n",
       "4                           0.0                                     0.0   \n",
       "\n",
       "   ohe__Marital_status_Never-married  ohe__Marital_status_Others  \\\n",
       "0                                1.0                         0.0   \n",
       "1                                1.0                         0.0   \n",
       "2                                0.0                         0.0   \n",
       "3                                1.0                         0.0   \n",
       "4                                1.0                         0.0   \n",
       "\n",
       "   ohe__Marital_status_Separated  ohe__Marital_status_Widowed  \\\n",
       "0                            0.0                          0.0   \n",
       "1                            0.0                          0.0   \n",
       "2                            0.0                          0.0   \n",
       "3                            0.0                          0.0   \n",
       "4                            0.0                          0.0   \n",
       "\n",
       "   ohe__Occupation_Adm-clerical  ohe__Occupation_Craft-repair  \\\n",
       "0                           0.0                           0.0   \n",
       "1                           0.0                           0.0   \n",
       "2                           0.0                           1.0   \n",
       "3                           0.0                           0.0   \n",
       "4                           0.0                           0.0   \n",
       "\n",
       "   ohe__Occupation_Exec-managerial  ohe__Occupation_Farming-fishing  \\\n",
       "0                              0.0                              0.0   \n",
       "1                              0.0                              0.0   \n",
       "2                              0.0                              0.0   \n",
       "3                              0.0                              0.0   \n",
       "4                              0.0                              0.0   \n",
       "\n",
       "   ohe__Occupation_Handlers-cleaners  ohe__Occupation_Machine-op-inspct  \\\n",
       "0                                0.0                                0.0   \n",
       "1                                0.0                                0.0   \n",
       "2                                0.0                                0.0   \n",
       "3                                0.0                                0.0   \n",
       "4                                0.0                                0.0   \n",
       "\n",
       "   ohe__Occupation_Other-service  ohe__Occupation_Others  \\\n",
       "0                            0.0                     0.0   \n",
       "1                            1.0                     0.0   \n",
       "2                            0.0                     0.0   \n",
       "3                            0.0                     0.0   \n",
       "4                            0.0                     0.0   \n",
       "\n",
       "   ohe__Occupation_Prof-specialty  ohe__Occupation_Protective-serv  \\\n",
       "0                             1.0                              0.0   \n",
       "1                             0.0                              0.0   \n",
       "2                             0.0                              0.0   \n",
       "3                             0.0                              0.0   \n",
       "4                             0.0                              0.0   \n",
       "\n",
       "   ohe__Occupation_Sales  ohe__Occupation_Tech-support  \\\n",
       "0                    0.0                           0.0   \n",
       "1                    0.0                           0.0   \n",
       "2                    0.0                           0.0   \n",
       "3                    0.0                           1.0   \n",
       "4                    0.0                           1.0   \n",
       "\n",
       "   ohe__Occupation_Transport-moving  ohe__Relationship_Husband  \\\n",
       "0                               0.0                        0.0   \n",
       "1                               0.0                        0.0   \n",
       "2                               0.0                        1.0   \n",
       "3                               0.0                        0.0   \n",
       "4                               0.0                        0.0   \n",
       "\n",
       "   ohe__Relationship_Not-in-family  ohe__Relationship_Other-relative  \\\n",
       "0                              0.0                               0.0   \n",
       "1                              0.0                               0.0   \n",
       "2                              0.0                               0.0   \n",
       "3                              1.0                               0.0   \n",
       "4                              1.0                               0.0   \n",
       "\n",
       "   ohe__Relationship_Own-child  ohe__Relationship_Unmarried  \\\n",
       "0                          1.0                          0.0   \n",
       "1                          1.0                          0.0   \n",
       "2                          0.0                          0.0   \n",
       "3                          0.0                          0.0   \n",
       "4                          0.0                          0.0   \n",
       "\n",
       "   ohe__Relationship_Wife  ohe__Race_Amer-Indian-Eskimo  \\\n",
       "0                     0.0                           0.0   \n",
       "1                     0.0                           0.0   \n",
       "2                     0.0                           0.0   \n",
       "3                     0.0                           0.0   \n",
       "4                     0.0                           0.0   \n",
       "\n",
       "   ohe__Race_Asian-Pac-Islander  ohe__Race_Black  ohe__Race_Other  \\\n",
       "0                           0.0              0.0              0.0   \n",
       "1                           0.0              0.0              0.0   \n",
       "2                           0.0              0.0              0.0   \n",
       "3                           0.0              0.0              0.0   \n",
       "4                           0.0              0.0              0.0   \n",
       "\n",
       "   ohe__Race_White  ohe__Sex_Female  ohe__Sex_Male  ohe__Country_Others  \\\n",
       "0              1.0              1.0            0.0                  0.0   \n",
       "1              1.0              0.0            1.0                  0.0   \n",
       "2              1.0              0.0            1.0                  1.0   \n",
       "3              1.0              1.0            0.0                  0.0   \n",
       "4              1.0              1.0            0.0                  0.0   \n",
       "\n",
       "   ohe__Country_United-States  scaler__Age  scaler__Final_weight  \\\n",
       "0                         1.0     0.041096              0.106341   \n",
       "1                         1.0     0.068493              0.175324   \n",
       "2                         0.0     0.260274              0.267151   \n",
       "3                         1.0     0.068493              0.026386   \n",
       "4                         1.0     0.082192              0.026262   \n",
       "\n",
       "   scaler__Capital_gain  scaler__Capital_loss  scaler__Hours_per_week  \n",
       "0                   0.0                   0.0                0.193878  \n",
       "1                   0.0                   0.0                0.397959  \n",
       "2                   0.0                   0.0                0.346939  \n",
       "3                   0.0                   0.0                0.602041  \n",
       "4                   0.0                   0.0                0.397959  "
      ]
     },
     "execution_count": 25,
     "metadata": {},
     "output_type": "execute_result"
    },
    {
     "data": {
      "application/javascript": [
       "\n",
       "            setTimeout(function() {\n",
       "                var nbb_cell_id = 25;\n",
       "                var nbb_unformatted_code = \"df_t = pd.DataFrame(tr, columns=col_trans.get_feature_names_out())\\ndf_t.head()\";\n",
       "                var nbb_formatted_code = \"df_t = pd.DataFrame(tr, columns=col_trans.get_feature_names_out())\\ndf_t.head()\";\n",
       "                var nbb_cells = Jupyter.notebook.get_cells();\n",
       "                for (var i = 0; i < nbb_cells.length; ++i) {\n",
       "                    if (nbb_cells[i].input_prompt_number == nbb_cell_id) {\n",
       "                        if (nbb_cells[i].get_text() == nbb_unformatted_code) {\n",
       "                             nbb_cells[i].set_text(nbb_formatted_code);\n",
       "                        }\n",
       "                        break;\n",
       "                    }\n",
       "                }\n",
       "            }, 500);\n",
       "            "
      ],
      "text/plain": [
       "<IPython.core.display.Javascript object>"
      ]
     },
     "metadata": {},
     "output_type": "display_data"
    }
   ],
   "source": [
    "df_t = pd.DataFrame(tr, columns=col_trans.get_feature_names_out())\n",
    "df_t.head()"
   ]
  },
  {
   "cell_type": "markdown",
   "id": "1be3ce9f",
   "metadata": {},
   "source": [
    "## Model Building\n",
    "\n",
    "### Logistic Regression"
   ]
  },
  {
   "cell_type": "code",
   "execution_count": 26,
   "id": "1cb1c146",
   "metadata": {},
   "outputs": [
    {
     "data": {
      "text/html": [
       "<style>#sk-container-id-2 {color: black;background-color: white;}#sk-container-id-2 pre{padding: 0;}#sk-container-id-2 div.sk-toggleable {background-color: white;}#sk-container-id-2 label.sk-toggleable__label {cursor: pointer;display: block;width: 100%;margin-bottom: 0;padding: 0.3em;box-sizing: border-box;text-align: center;}#sk-container-id-2 label.sk-toggleable__label-arrow:before {content: \"▸\";float: left;margin-right: 0.25em;color: #696969;}#sk-container-id-2 label.sk-toggleable__label-arrow:hover:before {color: black;}#sk-container-id-2 div.sk-estimator:hover label.sk-toggleable__label-arrow:before {color: black;}#sk-container-id-2 div.sk-toggleable__content {max-height: 0;max-width: 0;overflow: hidden;text-align: left;background-color: #f0f8ff;}#sk-container-id-2 div.sk-toggleable__content pre {margin: 0.2em;color: black;border-radius: 0.25em;background-color: #f0f8ff;}#sk-container-id-2 input.sk-toggleable__control:checked~div.sk-toggleable__content {max-height: 200px;max-width: 100%;overflow: auto;}#sk-container-id-2 input.sk-toggleable__control:checked~label.sk-toggleable__label-arrow:before {content: \"▾\";}#sk-container-id-2 div.sk-estimator input.sk-toggleable__control:checked~label.sk-toggleable__label {background-color: #d4ebff;}#sk-container-id-2 div.sk-label input.sk-toggleable__control:checked~label.sk-toggleable__label {background-color: #d4ebff;}#sk-container-id-2 input.sk-hidden--visually {border: 0;clip: rect(1px 1px 1px 1px);clip: rect(1px, 1px, 1px, 1px);height: 1px;margin: -1px;overflow: hidden;padding: 0;position: absolute;width: 1px;}#sk-container-id-2 div.sk-estimator {font-family: monospace;background-color: #f0f8ff;border: 1px dotted black;border-radius: 0.25em;box-sizing: border-box;margin-bottom: 0.5em;}#sk-container-id-2 div.sk-estimator:hover {background-color: #d4ebff;}#sk-container-id-2 div.sk-parallel-item::after {content: \"\";width: 100%;border-bottom: 1px solid gray;flex-grow: 1;}#sk-container-id-2 div.sk-label:hover label.sk-toggleable__label {background-color: #d4ebff;}#sk-container-id-2 div.sk-serial::before {content: \"\";position: absolute;border-left: 1px solid gray;box-sizing: border-box;top: 0;bottom: 0;left: 50%;z-index: 0;}#sk-container-id-2 div.sk-serial {display: flex;flex-direction: column;align-items: center;background-color: white;padding-right: 0.2em;padding-left: 0.2em;position: relative;}#sk-container-id-2 div.sk-item {position: relative;z-index: 1;}#sk-container-id-2 div.sk-parallel {display: flex;align-items: stretch;justify-content: center;background-color: white;position: relative;}#sk-container-id-2 div.sk-item::before, #sk-container-id-2 div.sk-parallel-item::before {content: \"\";position: absolute;border-left: 1px solid gray;box-sizing: border-box;top: 0;bottom: 0;left: 50%;z-index: -1;}#sk-container-id-2 div.sk-parallel-item {display: flex;flex-direction: column;z-index: 1;position: relative;background-color: white;}#sk-container-id-2 div.sk-parallel-item:first-child::after {align-self: flex-end;width: 50%;}#sk-container-id-2 div.sk-parallel-item:last-child::after {align-self: flex-start;width: 50%;}#sk-container-id-2 div.sk-parallel-item:only-child::after {width: 0;}#sk-container-id-2 div.sk-dashed-wrapped {border: 1px dashed gray;margin: 0 0.4em 0.5em 0.4em;box-sizing: border-box;padding-bottom: 0.4em;background-color: white;}#sk-container-id-2 div.sk-label label {font-family: monospace;font-weight: bold;display: inline-block;line-height: 1.2em;}#sk-container-id-2 div.sk-label-container {text-align: center;}#sk-container-id-2 div.sk-container {/* jupyter's `normalize.less` sets `[hidden] { display: none; }` but bootstrap.min.css set `[hidden] { display: none !important; }` so we also need the `!important` here to be able to override the default hidden behavior on the sphinx rendered scikit-learn.org. See: https://github.com/scikit-learn/scikit-learn/issues/21755 */display: inline-block !important;position: relative;}#sk-container-id-2 div.sk-text-repr-fallback {display: none;}</style><div id=\"sk-container-id-2\" class=\"sk-top-container\"><div class=\"sk-text-repr-fallback\"><pre>Pipeline(steps=[(&#x27;col_transformer&#x27;,\n",
       "                 ColumnTransformer(remainder=&#x27;passthrough&#x27;,\n",
       "                                   transformers=[(&#x27;ohe&#x27;,\n",
       "                                                  OneHotEncoder(dtype=&lt;class &#x27;int&#x27;&gt;,\n",
       "                                                                handle_unknown=&#x27;ignore&#x27;),\n",
       "                                                  [&#x27;Workclass&#x27;, &#x27;Education&#x27;,\n",
       "                                                   &#x27;Marital_status&#x27;,\n",
       "                                                   &#x27;Occupation&#x27;, &#x27;Relationship&#x27;,\n",
       "                                                   &#x27;Race&#x27;, &#x27;Sex&#x27;, &#x27;Country&#x27;]),\n",
       "                                                 (&#x27;scaler&#x27;, MinMaxScaler(),\n",
       "                                                  [&#x27;Age&#x27;, &#x27;Final_weight&#x27;,\n",
       "                                                   &#x27;Capital_gain&#x27;,\n",
       "                                                   &#x27;Capital_loss&#x27;,\n",
       "                                                   &#x27;Hours_per_week&#x27;])])),\n",
       "                (&#x27;logit&#x27;, LogisticRegression(max_iter=180, random_state=123))])</pre><b>In a Jupyter environment, please rerun this cell to show the HTML representation or trust the notebook. <br />On GitHub, the HTML representation is unable to render, please try loading this page with nbviewer.org.</b></div><div class=\"sk-container\" hidden><div class=\"sk-item sk-dashed-wrapped\"><div class=\"sk-label-container\"><div class=\"sk-label sk-toggleable\"><input class=\"sk-toggleable__control sk-hidden--visually\" id=\"sk-estimator-id-8\" type=\"checkbox\" ><label for=\"sk-estimator-id-8\" class=\"sk-toggleable__label sk-toggleable__label-arrow\">Pipeline</label><div class=\"sk-toggleable__content\"><pre>Pipeline(steps=[(&#x27;col_transformer&#x27;,\n",
       "                 ColumnTransformer(remainder=&#x27;passthrough&#x27;,\n",
       "                                   transformers=[(&#x27;ohe&#x27;,\n",
       "                                                  OneHotEncoder(dtype=&lt;class &#x27;int&#x27;&gt;,\n",
       "                                                                handle_unknown=&#x27;ignore&#x27;),\n",
       "                                                  [&#x27;Workclass&#x27;, &#x27;Education&#x27;,\n",
       "                                                   &#x27;Marital_status&#x27;,\n",
       "                                                   &#x27;Occupation&#x27;, &#x27;Relationship&#x27;,\n",
       "                                                   &#x27;Race&#x27;, &#x27;Sex&#x27;, &#x27;Country&#x27;]),\n",
       "                                                 (&#x27;scaler&#x27;, MinMaxScaler(),\n",
       "                                                  [&#x27;Age&#x27;, &#x27;Final_weight&#x27;,\n",
       "                                                   &#x27;Capital_gain&#x27;,\n",
       "                                                   &#x27;Capital_loss&#x27;,\n",
       "                                                   &#x27;Hours_per_week&#x27;])])),\n",
       "                (&#x27;logit&#x27;, LogisticRegression(max_iter=180, random_state=123))])</pre></div></div></div><div class=\"sk-serial\"><div class=\"sk-item sk-dashed-wrapped\"><div class=\"sk-label-container\"><div class=\"sk-label sk-toggleable\"><input class=\"sk-toggleable__control sk-hidden--visually\" id=\"sk-estimator-id-9\" type=\"checkbox\" ><label for=\"sk-estimator-id-9\" class=\"sk-toggleable__label sk-toggleable__label-arrow\">col_transformer: ColumnTransformer</label><div class=\"sk-toggleable__content\"><pre>ColumnTransformer(remainder=&#x27;passthrough&#x27;,\n",
       "                  transformers=[(&#x27;ohe&#x27;,\n",
       "                                 OneHotEncoder(dtype=&lt;class &#x27;int&#x27;&gt;,\n",
       "                                               handle_unknown=&#x27;ignore&#x27;),\n",
       "                                 [&#x27;Workclass&#x27;, &#x27;Education&#x27;, &#x27;Marital_status&#x27;,\n",
       "                                  &#x27;Occupation&#x27;, &#x27;Relationship&#x27;, &#x27;Race&#x27;, &#x27;Sex&#x27;,\n",
       "                                  &#x27;Country&#x27;]),\n",
       "                                (&#x27;scaler&#x27;, MinMaxScaler(),\n",
       "                                 [&#x27;Age&#x27;, &#x27;Final_weight&#x27;, &#x27;Capital_gain&#x27;,\n",
       "                                  &#x27;Capital_loss&#x27;, &#x27;Hours_per_week&#x27;])])</pre></div></div></div><div class=\"sk-parallel\"><div class=\"sk-parallel-item\"><div class=\"sk-item\"><div class=\"sk-label-container\"><div class=\"sk-label sk-toggleable\"><input class=\"sk-toggleable__control sk-hidden--visually\" id=\"sk-estimator-id-10\" type=\"checkbox\" ><label for=\"sk-estimator-id-10\" class=\"sk-toggleable__label sk-toggleable__label-arrow\">ohe</label><div class=\"sk-toggleable__content\"><pre>[&#x27;Workclass&#x27;, &#x27;Education&#x27;, &#x27;Marital_status&#x27;, &#x27;Occupation&#x27;, &#x27;Relationship&#x27;, &#x27;Race&#x27;, &#x27;Sex&#x27;, &#x27;Country&#x27;]</pre></div></div></div><div class=\"sk-serial\"><div class=\"sk-item\"><div class=\"sk-estimator sk-toggleable\"><input class=\"sk-toggleable__control sk-hidden--visually\" id=\"sk-estimator-id-11\" type=\"checkbox\" ><label for=\"sk-estimator-id-11\" class=\"sk-toggleable__label sk-toggleable__label-arrow\">OneHotEncoder</label><div class=\"sk-toggleable__content\"><pre>OneHotEncoder(dtype=&lt;class &#x27;int&#x27;&gt;, handle_unknown=&#x27;ignore&#x27;)</pre></div></div></div></div></div></div><div class=\"sk-parallel-item\"><div class=\"sk-item\"><div class=\"sk-label-container\"><div class=\"sk-label sk-toggleable\"><input class=\"sk-toggleable__control sk-hidden--visually\" id=\"sk-estimator-id-12\" type=\"checkbox\" ><label for=\"sk-estimator-id-12\" class=\"sk-toggleable__label sk-toggleable__label-arrow\">scaler</label><div class=\"sk-toggleable__content\"><pre>[&#x27;Age&#x27;, &#x27;Final_weight&#x27;, &#x27;Capital_gain&#x27;, &#x27;Capital_loss&#x27;, &#x27;Hours_per_week&#x27;]</pre></div></div></div><div class=\"sk-serial\"><div class=\"sk-item\"><div class=\"sk-estimator sk-toggleable\"><input class=\"sk-toggleable__control sk-hidden--visually\" id=\"sk-estimator-id-13\" type=\"checkbox\" ><label for=\"sk-estimator-id-13\" class=\"sk-toggleable__label sk-toggleable__label-arrow\">MinMaxScaler</label><div class=\"sk-toggleable__content\"><pre>MinMaxScaler()</pre></div></div></div></div></div></div><div class=\"sk-parallel-item\"><div class=\"sk-item\"><div class=\"sk-label-container\"><div class=\"sk-label sk-toggleable\"><input class=\"sk-toggleable__control sk-hidden--visually\" id=\"sk-estimator-id-14\" type=\"checkbox\" ><label for=\"sk-estimator-id-14\" class=\"sk-toggleable__label sk-toggleable__label-arrow\">remainder</label><div class=\"sk-toggleable__content\"><pre>[]</pre></div></div></div><div class=\"sk-serial\"><div class=\"sk-item\"><div class=\"sk-estimator sk-toggleable\"><input class=\"sk-toggleable__control sk-hidden--visually\" id=\"sk-estimator-id-15\" type=\"checkbox\" ><label for=\"sk-estimator-id-15\" class=\"sk-toggleable__label sk-toggleable__label-arrow\">passthrough</label><div class=\"sk-toggleable__content\"><pre>passthrough</pre></div></div></div></div></div></div></div></div><div class=\"sk-item\"><div class=\"sk-estimator sk-toggleable\"><input class=\"sk-toggleable__control sk-hidden--visually\" id=\"sk-estimator-id-16\" type=\"checkbox\" ><label for=\"sk-estimator-id-16\" class=\"sk-toggleable__label sk-toggleable__label-arrow\">LogisticRegression</label><div class=\"sk-toggleable__content\"><pre>LogisticRegression(max_iter=180, random_state=123)</pre></div></div></div></div></div></div></div>"
      ],
      "text/plain": [
       "Pipeline(steps=[('col_transformer',\n",
       "                 ColumnTransformer(remainder='passthrough',\n",
       "                                   transformers=[('ohe',\n",
       "                                                  OneHotEncoder(dtype=<class 'int'>,\n",
       "                                                                handle_unknown='ignore'),\n",
       "                                                  ['Workclass', 'Education',\n",
       "                                                   'Marital_status',\n",
       "                                                   'Occupation', 'Relationship',\n",
       "                                                   'Race', 'Sex', 'Country']),\n",
       "                                                 ('scaler', MinMaxScaler(),\n",
       "                                                  ['Age', 'Final_weight',\n",
       "                                                   'Capital_gain',\n",
       "                                                   'Capital_loss',\n",
       "                                                   'Hours_per_week'])])),\n",
       "                ('logit', LogisticRegression(max_iter=180, random_state=123))])"
      ]
     },
     "execution_count": 26,
     "metadata": {},
     "output_type": "execute_result"
    },
    {
     "data": {
      "application/javascript": [
       "\n",
       "            setTimeout(function() {\n",
       "                var nbb_cell_id = 26;\n",
       "                var nbb_unformatted_code = \"from sklearn.linear_model import LogisticRegression\\nfrom sklearn import metrics\\n\\n# Initialize\\nlogit = LogisticRegression(random_state=RANDOMSTATE, max_iter=180)\\n\\n# Pipeline\\npipe_logit = Pipeline(\\n    steps=[\\n        # ===== Column Transformer =====\\n        (\\\"col_transformer\\\", col_trans),\\n        # ===== log Model =====\\n        (\\\"logit\\\", logit),\\n    ]\\n)\\n\\npipe_logit\";\n",
       "                var nbb_formatted_code = \"from sklearn.linear_model import LogisticRegression\\nfrom sklearn import metrics\\n\\n# Initialize\\nlogit = LogisticRegression(random_state=RANDOMSTATE, max_iter=180)\\n\\n# Pipeline\\npipe_logit = Pipeline(\\n    steps=[\\n        # ===== Column Transformer =====\\n        (\\\"col_transformer\\\", col_trans),\\n        # ===== log Model =====\\n        (\\\"logit\\\", logit),\\n    ]\\n)\\n\\npipe_logit\";\n",
       "                var nbb_cells = Jupyter.notebook.get_cells();\n",
       "                for (var i = 0; i < nbb_cells.length; ++i) {\n",
       "                    if (nbb_cells[i].input_prompt_number == nbb_cell_id) {\n",
       "                        if (nbb_cells[i].get_text() == nbb_unformatted_code) {\n",
       "                             nbb_cells[i].set_text(nbb_formatted_code);\n",
       "                        }\n",
       "                        break;\n",
       "                    }\n",
       "                }\n",
       "            }, 500);\n",
       "            "
      ],
      "text/plain": [
       "<IPython.core.display.Javascript object>"
      ]
     },
     "metadata": {},
     "output_type": "display_data"
    }
   ],
   "source": [
    "from sklearn.linear_model import LogisticRegression\n",
    "from sklearn import metrics\n",
    "\n",
    "# Initialize\n",
    "logit = LogisticRegression(random_state=RANDOMSTATE, max_iter=180)\n",
    "\n",
    "# Pipeline\n",
    "pipe_logit = Pipeline(\n",
    "    steps=[\n",
    "        # ===== Column Transformer =====\n",
    "        (\"col_transformer\", col_trans),\n",
    "        # ===== log Model =====\n",
    "        (\"logit\", logit),\n",
    "    ]\n",
    ")\n",
    "\n",
    "pipe_logit"
   ]
  },
  {
   "cell_type": "code",
   "execution_count": 27,
   "id": "425d680d",
   "metadata": {},
   "outputs": [
    {
     "data": {
      "application/javascript": [
       "\n",
       "            setTimeout(function() {\n",
       "                var nbb_cell_id = 27;\n",
       "                var nbb_unformatted_code = \"# Fit\\npipe_logit.fit(X_train, y_train)\\n\\n# Prediction\\ny_pred = pipe_logit.predict(X_test)\\n\\n# Probability\\ny_prob = pipe_logit.predict_proba(X_test)[:, 1]\";\n",
       "                var nbb_formatted_code = \"# Fit\\npipe_logit.fit(X_train, y_train)\\n\\n# Prediction\\ny_pred = pipe_logit.predict(X_test)\\n\\n# Probability\\ny_prob = pipe_logit.predict_proba(X_test)[:, 1]\";\n",
       "                var nbb_cells = Jupyter.notebook.get_cells();\n",
       "                for (var i = 0; i < nbb_cells.length; ++i) {\n",
       "                    if (nbb_cells[i].input_prompt_number == nbb_cell_id) {\n",
       "                        if (nbb_cells[i].get_text() == nbb_unformatted_code) {\n",
       "                             nbb_cells[i].set_text(nbb_formatted_code);\n",
       "                        }\n",
       "                        break;\n",
       "                    }\n",
       "                }\n",
       "            }, 500);\n",
       "            "
      ],
      "text/plain": [
       "<IPython.core.display.Javascript object>"
      ]
     },
     "metadata": {},
     "output_type": "display_data"
    }
   ],
   "source": [
    "# Fit\n",
    "pipe_logit.fit(X_train, y_train)\n",
    "\n",
    "# Prediction\n",
    "y_pred = pipe_logit.predict(X_test)\n",
    "\n",
    "# Probability\n",
    "y_prob = pipe_logit.predict_proba(X_test)[:, 1]\n"
   ]
  },
  {
   "cell_type": "markdown",
   "id": "b1ed5d12",
   "metadata": {},
   "source": [
    "## Model Evaluation"
   ]
  },
  {
   "cell_type": "code",
   "execution_count": 28,
   "id": "6b01c612",
   "metadata": {},
   "outputs": [
    {
     "data": {
      "text/plain": [
       "0.851044226044226"
      ]
     },
     "execution_count": 28,
     "metadata": {},
     "output_type": "execute_result"
    },
    {
     "data": {
      "application/javascript": [
       "\n",
       "            setTimeout(function() {\n",
       "                var nbb_cell_id = 28;\n",
       "                var nbb_unformatted_code = \"# Accuracy\\n\\nnp.mean(y_test == y_pred)\";\n",
       "                var nbb_formatted_code = \"# Accuracy\\n\\nnp.mean(y_test == y_pred)\";\n",
       "                var nbb_cells = Jupyter.notebook.get_cells();\n",
       "                for (var i = 0; i < nbb_cells.length; ++i) {\n",
       "                    if (nbb_cells[i].input_prompt_number == nbb_cell_id) {\n",
       "                        if (nbb_cells[i].get_text() == nbb_unformatted_code) {\n",
       "                             nbb_cells[i].set_text(nbb_formatted_code);\n",
       "                        }\n",
       "                        break;\n",
       "                    }\n",
       "                }\n",
       "            }, 500);\n",
       "            "
      ],
      "text/plain": [
       "<IPython.core.display.Javascript object>"
      ]
     },
     "metadata": {},
     "output_type": "display_data"
    }
   ],
   "source": [
    "# Accuracy\n",
    "\n",
    "np.mean(y_test == y_pred)"
   ]
  },
  {
   "cell_type": "code",
   "execution_count": 29,
   "id": "0b750f99",
   "metadata": {},
   "outputs": [
    {
     "data": {
      "image/png": "[encoded data removed]",
      "text/plain": [
       "<Figure size 640x480 with 2 Axes>"
      ]
     },
     "metadata": {},
     "output_type": "display_data"
    },
    {
     "data": {
      "application/javascript": [
       "\n",
       "            setTimeout(function() {\n",
       "                var nbb_cell_id = 29;\n",
       "                var nbb_unformatted_code = \"# Confusion Matrix\\n\\nlabels = [\\\"<=50K\\\", \\\">50K\\\"]\\n\\nconf_matrix = metrics.confusion_matrix(y_true=y_test, y_pred=y_pred)\\nconf_matrix\\n\\nplot_ = metrics.ConfusionMatrixDisplay(conf_matrix, display_labels=labels)\\nplot_.plot(cmap=plt.cm.Blues)\\nplt.show()\";\n",
       "                var nbb_formatted_code = \"# Confusion Matrix\\n\\nlabels = [\\\"<=50K\\\", \\\">50K\\\"]\\n\\nconf_matrix = metrics.confusion_matrix(y_true=y_test, y_pred=y_pred)\\nconf_matrix\\n\\nplot_ = metrics.ConfusionMatrixDisplay(conf_matrix, display_labels=labels)\\nplot_.plot(cmap=plt.cm.Blues)\\nplt.show()\";\n",
       "                var nbb_cells = Jupyter.notebook.get_cells();\n",
       "                for (var i = 0; i < nbb_cells.length; ++i) {\n",
       "                    if (nbb_cells[i].input_prompt_number == nbb_cell_id) {\n",
       "                        if (nbb_cells[i].get_text() == nbb_unformatted_code) {\n",
       "                             nbb_cells[i].set_text(nbb_formatted_code);\n",
       "                        }\n",
       "                        break;\n",
       "                    }\n",
       "                }\n",
       "            }, 500);\n",
       "            "
      ],
      "text/plain": [
       "<IPython.core.display.Javascript object>"
      ]
     },
     "metadata": {},
     "output_type": "display_data"
    }
   ],
   "source": [
    "# Confusion Matrix\n",
    "\n",
    "labels = [\"<=50K\", \">50K\"]\n",
    "\n",
    "conf_matrix = metrics.confusion_matrix(y_true=y_test, y_pred=y_pred)\n",
    "conf_matrix\n",
    "\n",
    "plot_ = metrics.ConfusionMatrixDisplay(conf_matrix, display_labels=labels)\n",
    "plot_.plot(cmap=plt.cm.Blues)\n",
    "plt.show()"
   ]
  },
  {
   "cell_type": "code",
   "execution_count": 30,
   "id": "250402cc",
   "metadata": {},
   "outputs": [
    {
     "name": "stdout",
     "output_type": "stream",
     "text": [
      "              precision    recall  f1-score   support\n",
      "\n",
      "       <=50K       0.88      0.93      0.91      4970\n",
      "        >50K       0.73      0.59      0.65      1542\n",
      "\n",
      "    accuracy                           0.85      6512\n",
      "   macro avg       0.80      0.76      0.78      6512\n",
      "weighted avg       0.84      0.85      0.85      6512\n",
      "\n"
     ]
    },
    {
     "data": {
      "application/javascript": [
       "\n",
       "            setTimeout(function() {\n",
       "                var nbb_cell_id = 30;\n",
       "                var nbb_unformatted_code = \"# Classification report\\n\\nclf_report = metrics.classification_report(y_test, y_pred)\\n\\nprint(clf_report)\";\n",
       "                var nbb_formatted_code = \"# Classification report\\n\\nclf_report = metrics.classification_report(y_test, y_pred)\\n\\nprint(clf_report)\";\n",
       "                var nbb_cells = Jupyter.notebook.get_cells();\n",
       "                for (var i = 0; i < nbb_cells.length; ++i) {\n",
       "                    if (nbb_cells[i].input_prompt_number == nbb_cell_id) {\n",
       "                        if (nbb_cells[i].get_text() == nbb_unformatted_code) {\n",
       "                             nbb_cells[i].set_text(nbb_formatted_code);\n",
       "                        }\n",
       "                        break;\n",
       "                    }\n",
       "                }\n",
       "            }, 500);\n",
       "            "
      ],
      "text/plain": [
       "<IPython.core.display.Javascript object>"
      ]
     },
     "metadata": {},
     "output_type": "display_data"
    }
   ],
   "source": [
    "# Classification report\n",
    "\n",
    "clf_report = metrics.classification_report(y_test, y_pred)\n",
    "\n",
    "print(clf_report)"
   ]
  },
  {
   "cell_type": "code",
   "execution_count": 31,
   "id": "b11139fa",
   "metadata": {},
   "outputs": [
    {
     "data": {
      "text/plain": [
       "0.9007741650943273"
      ]
     },
     "execution_count": 31,
     "metadata": {},
     "output_type": "execute_result"
    },
    {
     "data": {
      "application/javascript": [
       "\n",
       "            setTimeout(function() {\n",
       "                var nbb_cell_id = 31;\n",
       "                var nbb_unformatted_code = \"# AUC\\n\\nauc_score = metrics.roc_auc_score(y_true=y_test, y_score=y_prob)\\nauc_score\";\n",
       "                var nbb_formatted_code = \"# AUC\\n\\nauc_score = metrics.roc_auc_score(y_true=y_test, y_score=y_prob)\\nauc_score\";\n",
       "                var nbb_cells = Jupyter.notebook.get_cells();\n",
       "                for (var i = 0; i < nbb_cells.length; ++i) {\n",
       "                    if (nbb_cells[i].input_prompt_number == nbb_cell_id) {\n",
       "                        if (nbb_cells[i].get_text() == nbb_unformatted_code) {\n",
       "                             nbb_cells[i].set_text(nbb_formatted_code);\n",
       "                        }\n",
       "                        break;\n",
       "                    }\n",
       "                }\n",
       "            }, 500);\n",
       "            "
      ],
      "text/plain": [
       "<IPython.core.display.Javascript object>"
      ]
     },
     "metadata": {},
     "output_type": "display_data"
    }
   ],
   "source": [
    "# AUC\n",
    "\n",
    "auc_score = metrics.roc_auc_score(y_true=y_test, y_score=y_prob)\n",
    "auc_score"
   ]
  },
  {
   "cell_type": "code",
   "execution_count": 32,
   "id": "dc3b79e0",
   "metadata": {},
   "outputs": [
    {
     "data": {
      "image/png": "[encoded data removed]",
      "text/plain": [
       "<Figure size 640x480 with 1 Axes>"
      ]
     },
     "metadata": {},
     "output_type": "display_data"
    },
    {
     "data": {
      "application/javascript": [
       "\n",
       "            setTimeout(function() {\n",
       "                var nbb_cell_id = 32;\n",
       "                var nbb_unformatted_code = \"# AUC curve\\n\\nfpr, tpr, thresholds = metrics.roc_curve(\\n    y_true=y_test, y_score=y_prob, pos_label=\\\">50K\\\"\\n)\\n\\nauc_score = metrics.auc(fpr, tpr)\\n\\ndisplay = metrics.RocCurveDisplay(\\n    fpr=fpr, tpr=tpr, roc_auc=auc_score, estimator_name=None\\n)\\ndisplay.plot()\\nplt.title(\\\"ROC AUC For Logistic Regression Model\\\")\\n\\nplt.show()\";\n",
       "                var nbb_formatted_code = \"# AUC curve\\n\\nfpr, tpr, thresholds = metrics.roc_curve(\\n    y_true=y_test, y_score=y_prob, pos_label=\\\">50K\\\"\\n)\\n\\nauc_score = metrics.auc(fpr, tpr)\\n\\ndisplay = metrics.RocCurveDisplay(\\n    fpr=fpr, tpr=tpr, roc_auc=auc_score, estimator_name=None\\n)\\ndisplay.plot()\\nplt.title(\\\"ROC AUC For Logistic Regression Model\\\")\\n\\nplt.show()\";\n",
       "                var nbb_cells = Jupyter.notebook.get_cells();\n",
       "                for (var i = 0; i < nbb_cells.length; ++i) {\n",
       "                    if (nbb_cells[i].input_prompt_number == nbb_cell_id) {\n",
       "                        if (nbb_cells[i].get_text() == nbb_unformatted_code) {\n",
       "                             nbb_cells[i].set_text(nbb_formatted_code);\n",
       "                        }\n",
       "                        break;\n",
       "                    }\n",
       "                }\n",
       "            }, 500);\n",
       "            "
      ],
      "text/plain": [
       "<IPython.core.display.Javascript object>"
      ]
     },
     "metadata": {},
     "output_type": "display_data"
    }
   ],
   "source": [
    "# AUC curve\n",
    "\n",
    "fpr, tpr, thresholds = metrics.roc_curve(\n",
    "    y_true=y_test, y_score=y_prob, pos_label=\">50K\"\n",
    ")\n",
    "\n",
    "auc_score = metrics.auc(fpr, tpr)\n",
    "\n",
    "display = metrics.RocCurveDisplay(\n",
    "    fpr=fpr, tpr=tpr, roc_auc=auc_score, estimator_name=None\n",
    ")\n",
    "display.plot()\n",
    "plt.title(\"ROC AUC For Logistic Regression Model\")\n",
    "\n",
    "plt.show()"
   ]
  },
  {
   "cell_type": "code",
   "execution_count": 33,
   "id": "9a5e2c03",
   "metadata": {},
   "outputs": [
    {
     "data": {
      "text/plain": [
       "0.9007741650943273"
      ]
     },
     "execution_count": 33,
     "metadata": {},
     "output_type": "execute_result"
    },
    {
     "data": {
      "application/javascript": [
       "\n",
       "            setTimeout(function() {\n",
       "                var nbb_cell_id = 33;\n",
       "                var nbb_unformatted_code = \"fpr, tpr, thresholds = metrics.roc_curve(\\n    y_true=y_test, y_score=y_prob, pos_label=\\\">50K\\\"\\n)\\n\\nauc_score = metrics.auc(fpr, tpr)\\nauc_score\";\n",
       "                var nbb_formatted_code = \"fpr, tpr, thresholds = metrics.roc_curve(\\n    y_true=y_test, y_score=y_prob, pos_label=\\\">50K\\\"\\n)\\n\\nauc_score = metrics.auc(fpr, tpr)\\nauc_score\";\n",
       "                var nbb_cells = Jupyter.notebook.get_cells();\n",
       "                for (var i = 0; i < nbb_cells.length; ++i) {\n",
       "                    if (nbb_cells[i].input_prompt_number == nbb_cell_id) {\n",
       "                        if (nbb_cells[i].get_text() == nbb_unformatted_code) {\n",
       "                             nbb_cells[i].set_text(nbb_formatted_code);\n",
       "                        }\n",
       "                        break;\n",
       "                    }\n",
       "                }\n",
       "            }, 500);\n",
       "            "
      ],
      "text/plain": [
       "<IPython.core.display.Javascript object>"
      ]
     },
     "metadata": {},
     "output_type": "display_data"
    }
   ],
   "source": [
    "fpr, tpr, thresholds = metrics.roc_curve(\n",
    "    y_true=y_test, y_score=y_prob, pos_label=\">50K\"\n",
    ")\n",
    "\n",
    "auc_score = metrics.auc(fpr, tpr)\n",
    "auc_score"
   ]
  },
  {
   "cell_type": "markdown",
   "id": "f274ada8",
   "metadata": {},
   "source": [
    "### Decision Tree"
   ]
  },
  {
   "cell_type": "code",
   "execution_count": 34,
   "id": "5db48784",
   "metadata": {},
   "outputs": [
    {
     "data": {
      "text/html": [
       "<style>#sk-container-id-3 {color: black;background-color: white;}#sk-container-id-3 pre{padding: 0;}#sk-container-id-3 div.sk-toggleable {background-color: white;}#sk-container-id-3 label.sk-toggleable__label {cursor: pointer;display: block;width: 100%;margin-bottom: 0;padding: 0.3em;box-sizing: border-box;text-align: center;}#sk-container-id-3 label.sk-toggleable__label-arrow:before {content: \"▸\";float: left;margin-right: 0.25em;color: #696969;}#sk-container-id-3 label.sk-toggleable__label-arrow:hover:before {color: black;}#sk-container-id-3 div.sk-estimator:hover label.sk-toggleable__label-arrow:before {color: black;}#sk-container-id-3 div.sk-toggleable__content {max-height: 0;max-width: 0;overflow: hidden;text-align: left;background-color: #f0f8ff;}#sk-container-id-3 div.sk-toggleable__content pre {margin: 0.2em;color: black;border-radius: 0.25em;background-color: #f0f8ff;}#sk-container-id-3 input.sk-toggleable__control:checked~div.sk-toggleable__content {max-height: 200px;max-width: 100%;overflow: auto;}#sk-container-id-3 input.sk-toggleable__control:checked~label.sk-toggleable__label-arrow:before {content: \"▾\";}#sk-container-id-3 div.sk-estimator input.sk-toggleable__control:checked~label.sk-toggleable__label {background-color: #d4ebff;}#sk-container-id-3 div.sk-label input.sk-toggleable__control:checked~label.sk-toggleable__label {background-color: #d4ebff;}#sk-container-id-3 input.sk-hidden--visually {border: 0;clip: rect(1px 1px 1px 1px);clip: rect(1px, 1px, 1px, 1px);height: 1px;margin: -1px;overflow: hidden;padding: 0;position: absolute;width: 1px;}#sk-container-id-3 div.sk-estimator {font-family: monospace;background-color: #f0f8ff;border: 1px dotted black;border-radius: 0.25em;box-sizing: border-box;margin-bottom: 0.5em;}#sk-container-id-3 div.sk-estimator:hover {background-color: #d4ebff;}#sk-container-id-3 div.sk-parallel-item::after {content: \"\";width: 100%;border-bottom: 1px solid gray;flex-grow: 1;}#sk-container-id-3 div.sk-label:hover label.sk-toggleable__label {background-color: #d4ebff;}#sk-container-id-3 div.sk-serial::before {content: \"\";position: absolute;border-left: 1px solid gray;box-sizing: border-box;top: 0;bottom: 0;left: 50%;z-index: 0;}#sk-container-id-3 div.sk-serial {display: flex;flex-direction: column;align-items: center;background-color: white;padding-right: 0.2em;padding-left: 0.2em;position: relative;}#sk-container-id-3 div.sk-item {position: relative;z-index: 1;}#sk-container-id-3 div.sk-parallel {display: flex;align-items: stretch;justify-content: center;background-color: white;position: relative;}#sk-container-id-3 div.sk-item::before, #sk-container-id-3 div.sk-parallel-item::before {content: \"\";position: absolute;border-left: 1px solid gray;box-sizing: border-box;top: 0;bottom: 0;left: 50%;z-index: -1;}#sk-container-id-3 div.sk-parallel-item {display: flex;flex-direction: column;z-index: 1;position: relative;background-color: white;}#sk-container-id-3 div.sk-parallel-item:first-child::after {align-self: flex-end;width: 50%;}#sk-container-id-3 div.sk-parallel-item:last-child::after {align-self: flex-start;width: 50%;}#sk-container-id-3 div.sk-parallel-item:only-child::after {width: 0;}#sk-container-id-3 div.sk-dashed-wrapped {border: 1px dashed gray;margin: 0 0.4em 0.5em 0.4em;box-sizing: border-box;padding-bottom: 0.4em;background-color: white;}#sk-container-id-3 div.sk-label label {font-family: monospace;font-weight: bold;display: inline-block;line-height: 1.2em;}#sk-container-id-3 div.sk-label-container {text-align: center;}#sk-container-id-3 div.sk-container {/* jupyter's `normalize.less` sets `[hidden] { display: none; }` but bootstrap.min.css set `[hidden] { display: none !important; }` so we also need the `!important` here to be able to override the default hidden behavior on the sphinx rendered scikit-learn.org. See: https://github.com/scikit-learn/scikit-learn/issues/21755 */display: inline-block !important;position: relative;}#sk-container-id-3 div.sk-text-repr-fallback {display: none;}</style><div id=\"sk-container-id-3\" class=\"sk-top-container\"><div class=\"sk-text-repr-fallback\"><pre>Pipeline(steps=[(&#x27;col_transformer&#x27;,\n",
       "                 ColumnTransformer(remainder=&#x27;passthrough&#x27;,\n",
       "                                   transformers=[(&#x27;ohe&#x27;,\n",
       "                                                  OneHotEncoder(dtype=&lt;class &#x27;int&#x27;&gt;,\n",
       "                                                                handle_unknown=&#x27;ignore&#x27;),\n",
       "                                                  [&#x27;Workclass&#x27;, &#x27;Education&#x27;,\n",
       "                                                   &#x27;Marital_status&#x27;,\n",
       "                                                   &#x27;Occupation&#x27;, &#x27;Relationship&#x27;,\n",
       "                                                   &#x27;Race&#x27;, &#x27;Sex&#x27;, &#x27;Country&#x27;]),\n",
       "                                                 (&#x27;scaler&#x27;, MinMaxScaler(),\n",
       "                                                  [&#x27;Age&#x27;, &#x27;Final_weight&#x27;,\n",
       "                                                   &#x27;Capital_gain&#x27;,\n",
       "                                                   &#x27;Capital_loss&#x27;,\n",
       "                                                   &#x27;Hours_per_week&#x27;])])),\n",
       "                (&#x27;logit&#x27;, DecisionTreeClassifier(random_state=123))])</pre><b>In a Jupyter environment, please rerun this cell to show the HTML representation or trust the notebook. <br />On GitHub, the HTML representation is unable to render, please try loading this page with nbviewer.org.</b></div><div class=\"sk-container\" hidden><div class=\"sk-item sk-dashed-wrapped\"><div class=\"sk-label-container\"><div class=\"sk-label sk-toggleable\"><input class=\"sk-toggleable__control sk-hidden--visually\" id=\"sk-estimator-id-17\" type=\"checkbox\" ><label for=\"sk-estimator-id-17\" class=\"sk-toggleable__label sk-toggleable__label-arrow\">Pipeline</label><div class=\"sk-toggleable__content\"><pre>Pipeline(steps=[(&#x27;col_transformer&#x27;,\n",
       "                 ColumnTransformer(remainder=&#x27;passthrough&#x27;,\n",
       "                                   transformers=[(&#x27;ohe&#x27;,\n",
       "                                                  OneHotEncoder(dtype=&lt;class &#x27;int&#x27;&gt;,\n",
       "                                                                handle_unknown=&#x27;ignore&#x27;),\n",
       "                                                  [&#x27;Workclass&#x27;, &#x27;Education&#x27;,\n",
       "                                                   &#x27;Marital_status&#x27;,\n",
       "                                                   &#x27;Occupation&#x27;, &#x27;Relationship&#x27;,\n",
       "                                                   &#x27;Race&#x27;, &#x27;Sex&#x27;, &#x27;Country&#x27;]),\n",
       "                                                 (&#x27;scaler&#x27;, MinMaxScaler(),\n",
       "                                                  [&#x27;Age&#x27;, &#x27;Final_weight&#x27;,\n",
       "                                                   &#x27;Capital_gain&#x27;,\n",
       "                                                   &#x27;Capital_loss&#x27;,\n",
       "                                                   &#x27;Hours_per_week&#x27;])])),\n",
       "                (&#x27;logit&#x27;, DecisionTreeClassifier(random_state=123))])</pre></div></div></div><div class=\"sk-serial\"><div class=\"sk-item sk-dashed-wrapped\"><div class=\"sk-label-container\"><div class=\"sk-label sk-toggleable\"><input class=\"sk-toggleable__control sk-hidden--visually\" id=\"sk-estimator-id-18\" type=\"checkbox\" ><label for=\"sk-estimator-id-18\" class=\"sk-toggleable__label sk-toggleable__label-arrow\">col_transformer: ColumnTransformer</label><div class=\"sk-toggleable__content\"><pre>ColumnTransformer(remainder=&#x27;passthrough&#x27;,\n",
       "                  transformers=[(&#x27;ohe&#x27;,\n",
       "                                 OneHotEncoder(dtype=&lt;class &#x27;int&#x27;&gt;,\n",
       "                                               handle_unknown=&#x27;ignore&#x27;),\n",
       "                                 [&#x27;Workclass&#x27;, &#x27;Education&#x27;, &#x27;Marital_status&#x27;,\n",
       "                                  &#x27;Occupation&#x27;, &#x27;Relationship&#x27;, &#x27;Race&#x27;, &#x27;Sex&#x27;,\n",
       "                                  &#x27;Country&#x27;]),\n",
       "                                (&#x27;scaler&#x27;, MinMaxScaler(),\n",
       "                                 [&#x27;Age&#x27;, &#x27;Final_weight&#x27;, &#x27;Capital_gain&#x27;,\n",
       "                                  &#x27;Capital_loss&#x27;, &#x27;Hours_per_week&#x27;])])</pre></div></div></div><div class=\"sk-parallel\"><div class=\"sk-parallel-item\"><div class=\"sk-item\"><div class=\"sk-label-container\"><div class=\"sk-label sk-toggleable\"><input class=\"sk-toggleable__control sk-hidden--visually\" id=\"sk-estimator-id-19\" type=\"checkbox\" ><label for=\"sk-estimator-id-19\" class=\"sk-toggleable__label sk-toggleable__label-arrow\">ohe</label><div class=\"sk-toggleable__content\"><pre>[&#x27;Workclass&#x27;, &#x27;Education&#x27;, &#x27;Marital_status&#x27;, &#x27;Occupation&#x27;, &#x27;Relationship&#x27;, &#x27;Race&#x27;, &#x27;Sex&#x27;, &#x27;Country&#x27;]</pre></div></div></div><div class=\"sk-serial\"><div class=\"sk-item\"><div class=\"sk-estimator sk-toggleable\"><input class=\"sk-toggleable__control sk-hidden--visually\" id=\"sk-estimator-id-20\" type=\"checkbox\" ><label for=\"sk-estimator-id-20\" class=\"sk-toggleable__label sk-toggleable__label-arrow\">OneHotEncoder</label><div class=\"sk-toggleable__content\"><pre>OneHotEncoder(dtype=&lt;class &#x27;int&#x27;&gt;, handle_unknown=&#x27;ignore&#x27;)</pre></div></div></div></div></div></div><div class=\"sk-parallel-item\"><div class=\"sk-item\"><div class=\"sk-label-container\"><div class=\"sk-label sk-toggleable\"><input class=\"sk-toggleable__control sk-hidden--visually\" id=\"sk-estimator-id-21\" type=\"checkbox\" ><label for=\"sk-estimator-id-21\" class=\"sk-toggleable__label sk-toggleable__label-arrow\">scaler</label><div class=\"sk-toggleable__content\"><pre>[&#x27;Age&#x27;, &#x27;Final_weight&#x27;, &#x27;Capital_gain&#x27;, &#x27;Capital_loss&#x27;, &#x27;Hours_per_week&#x27;]</pre></div></div></div><div class=\"sk-serial\"><div class=\"sk-item\"><div class=\"sk-estimator sk-toggleable\"><input class=\"sk-toggleable__control sk-hidden--visually\" id=\"sk-estimator-id-22\" type=\"checkbox\" ><label for=\"sk-estimator-id-22\" class=\"sk-toggleable__label sk-toggleable__label-arrow\">MinMaxScaler</label><div class=\"sk-toggleable__content\"><pre>MinMaxScaler()</pre></div></div></div></div></div></div><div class=\"sk-parallel-item\"><div class=\"sk-item\"><div class=\"sk-label-container\"><div class=\"sk-label sk-toggleable\"><input class=\"sk-toggleable__control sk-hidden--visually\" id=\"sk-estimator-id-23\" type=\"checkbox\" ><label for=\"sk-estimator-id-23\" class=\"sk-toggleable__label sk-toggleable__label-arrow\">remainder</label><div class=\"sk-toggleable__content\"><pre>[]</pre></div></div></div><div class=\"sk-serial\"><div class=\"sk-item\"><div class=\"sk-estimator sk-toggleable\"><input class=\"sk-toggleable__control sk-hidden--visually\" id=\"sk-estimator-id-24\" type=\"checkbox\" ><label for=\"sk-estimator-id-24\" class=\"sk-toggleable__label sk-toggleable__label-arrow\">passthrough</label><div class=\"sk-toggleable__content\"><pre>passthrough</pre></div></div></div></div></div></div></div></div><div class=\"sk-item\"><div class=\"sk-estimator sk-toggleable\"><input class=\"sk-toggleable__control sk-hidden--visually\" id=\"sk-estimator-id-25\" type=\"checkbox\" ><label for=\"sk-estimator-id-25\" class=\"sk-toggleable__label sk-toggleable__label-arrow\">DecisionTreeClassifier</label><div class=\"sk-toggleable__content\"><pre>DecisionTreeClassifier(random_state=123)</pre></div></div></div></div></div></div></div>"
      ],
      "text/plain": [
       "Pipeline(steps=[('col_transformer',\n",
       "                 ColumnTransformer(remainder='passthrough',\n",
       "                                   transformers=[('ohe',\n",
       "                                                  OneHotEncoder(dtype=<class 'int'>,\n",
       "                                                                handle_unknown='ignore'),\n",
       "                                                  ['Workclass', 'Education',\n",
       "                                                   'Marital_status',\n",
       "                                                   'Occupation', 'Relationship',\n",
       "                                                   'Race', 'Sex', 'Country']),\n",
       "                                                 ('scaler', MinMaxScaler(),\n",
       "                                                  ['Age', 'Final_weight',\n",
       "                                                   'Capital_gain',\n",
       "                                                   'Capital_loss',\n",
       "                                                   'Hours_per_week'])])),\n",
       "                ('logit', DecisionTreeClassifier(random_state=123))])"
      ]
     },
     "execution_count": 34,
     "metadata": {},
     "output_type": "execute_result"
    },
    {
     "data": {
      "application/javascript": [
       "\n",
       "            setTimeout(function() {\n",
       "                var nbb_cell_id = 34;\n",
       "                var nbb_unformatted_code = \"from sklearn.tree import DecisionTreeClassifier\\n\\n# Initialize\\nlogit = LogisticRegression(random_state=RANDOMSTATE)\\n\\n# Pipeline\\npipe_dec_tree = Pipeline(\\n    steps=[\\n        # Column Transformer\\n        (\\\"col_transformer\\\", col_trans),\\n        # log Model\\n        (\\\"logit\\\", DecisionTreeClassifier(random_state=RANDOMSTATE)),\\n    ]\\n)\\n\\npipe_dec_tree\";\n",
       "                var nbb_formatted_code = \"from sklearn.tree import DecisionTreeClassifier\\n\\n# Initialize\\nlogit = LogisticRegression(random_state=RANDOMSTATE)\\n\\n# Pipeline\\npipe_dec_tree = Pipeline(\\n    steps=[\\n        # Column Transformer\\n        (\\\"col_transformer\\\", col_trans),\\n        # log Model\\n        (\\\"logit\\\", DecisionTreeClassifier(random_state=RANDOMSTATE)),\\n    ]\\n)\\n\\npipe_dec_tree\";\n",
       "                var nbb_cells = Jupyter.notebook.get_cells();\n",
       "                for (var i = 0; i < nbb_cells.length; ++i) {\n",
       "                    if (nbb_cells[i].input_prompt_number == nbb_cell_id) {\n",
       "                        if (nbb_cells[i].get_text() == nbb_unformatted_code) {\n",
       "                             nbb_cells[i].set_text(nbb_formatted_code);\n",
       "                        }\n",
       "                        break;\n",
       "                    }\n",
       "                }\n",
       "            }, 500);\n",
       "            "
      ],
      "text/plain": [
       "<IPython.core.display.Javascript object>"
      ]
     },
     "metadata": {},
     "output_type": "display_data"
    }
   ],
   "source": [
    "from sklearn.tree import DecisionTreeClassifier\n",
    "\n",
    "# Initialize\n",
    "logit = LogisticRegression(random_state=RANDOMSTATE)\n",
    "\n",
    "# Pipeline\n",
    "pipe_dec_tree = Pipeline(\n",
    "    steps=[\n",
    "        # Column Transformer\n",
    "        (\"col_transformer\", col_trans),\n",
    "        # log Model\n",
    "        (\"logit\", DecisionTreeClassifier(random_state=RANDOMSTATE)),\n",
    "    ]\n",
    ")\n",
    "\n",
    "pipe_dec_tree"
   ]
  },
  {
   "cell_type": "code",
   "execution_count": 35,
   "id": "8bbb3151",
   "metadata": {},
   "outputs": [
    {
     "data": {
      "image/png": "[encoded data removed]",
      "text/plain": [
       "<Figure size 640x480 with 2 Axes>"
      ]
     },
     "metadata": {},
     "output_type": "display_data"
    },
    {
     "data": {
      "application/javascript": [
       "\n",
       "            setTimeout(function() {\n",
       "                var nbb_cell_id = 35;\n",
       "                var nbb_unformatted_code = \"# Fit\\npipe_dec_tree.fit(X_train, y_train)\\n\\n# Predict\\ny_pred_2 = pipe_dec_tree.predict(X_test)\\n\\n# Probability\\ny_proba_D = pipe_dec_tree.predict_proba(X_test)[:, 1]\\n\\n# Confusion matix\\nconf_matrix = metrics.confusion_matrix(y_true=y_test, y_pred=y_pred_2)\\n\\ndisp = metrics.ConfusionMatrixDisplay(\\n    confusion_matrix=conf_matrix, display_labels=labels\\n)\\n# Show confusion matix\\ndisp.plot(cmap=plt.cm.Blues)\\nplt.title(\\\"Confusion Matrix\\\", size=15)\\nplt.show()\";\n",
       "                var nbb_formatted_code = \"# Fit\\npipe_dec_tree.fit(X_train, y_train)\\n\\n# Predict\\ny_pred_2 = pipe_dec_tree.predict(X_test)\\n\\n# Probability\\ny_proba_D = pipe_dec_tree.predict_proba(X_test)[:, 1]\\n\\n# Confusion matix\\nconf_matrix = metrics.confusion_matrix(y_true=y_test, y_pred=y_pred_2)\\n\\ndisp = metrics.ConfusionMatrixDisplay(\\n    confusion_matrix=conf_matrix, display_labels=labels\\n)\\n# Show confusion matix\\ndisp.plot(cmap=plt.cm.Blues)\\nplt.title(\\\"Confusion Matrix\\\", size=15)\\nplt.show()\";\n",
       "                var nbb_cells = Jupyter.notebook.get_cells();\n",
       "                for (var i = 0; i < nbb_cells.length; ++i) {\n",
       "                    if (nbb_cells[i].input_prompt_number == nbb_cell_id) {\n",
       "                        if (nbb_cells[i].get_text() == nbb_unformatted_code) {\n",
       "                             nbb_cells[i].set_text(nbb_formatted_code);\n",
       "                        }\n",
       "                        break;\n",
       "                    }\n",
       "                }\n",
       "            }, 500);\n",
       "            "
      ],
      "text/plain": [
       "<IPython.core.display.Javascript object>"
      ]
     },
     "metadata": {},
     "output_type": "display_data"
    }
   ],
   "source": [
    "# Fit\n",
    "pipe_dec_tree.fit(X_train, y_train)\n",
    "\n",
    "# Predict\n",
    "y_pred_2 = pipe_dec_tree.predict(X_test)\n",
    "\n",
    "# Probability\n",
    "y_proba_D = pipe_dec_tree.predict_proba(X_test)[:, 1]\n",
    "\n",
    "# Confusion matix\n",
    "conf_matrix = metrics.confusion_matrix(y_true=y_test, y_pred=y_pred_2)\n",
    "\n",
    "disp = metrics.ConfusionMatrixDisplay(\n",
    "    confusion_matrix=conf_matrix, display_labels=labels\n",
    ")\n",
    "# Show confusion matix\n",
    "disp.plot(cmap=plt.cm.Blues)\n",
    "plt.title(\"Confusion Matrix\", size=15)\n",
    "plt.show()"
   ]
  },
  {
   "cell_type": "code",
   "execution_count": 36,
   "id": "d6fc88bd",
   "metadata": {},
   "outputs": [
    {
     "name": "stdout",
     "output_type": "stream",
     "text": [
      "              precision    recall  f1-score   support\n",
      "\n",
      "       <=50K       0.88      0.87      0.88      4970\n",
      "        >50K       0.60      0.63      0.61      1542\n",
      "\n",
      "    accuracy                           0.81      6512\n",
      "   macro avg       0.74      0.75      0.75      6512\n",
      "weighted avg       0.82      0.81      0.81      6512\n",
      "\n"
     ]
    },
    {
     "data": {
      "application/javascript": [
       "\n",
       "            setTimeout(function() {\n",
       "                var nbb_cell_id = 36;\n",
       "                var nbb_unformatted_code = \"# Classification Report\\nclf_report = metrics.classification_report(y_true=y_test, y_pred=y_pred_2)\\n\\nprint(clf_report)\";\n",
       "                var nbb_formatted_code = \"# Classification Report\\nclf_report = metrics.classification_report(y_true=y_test, y_pred=y_pred_2)\\n\\nprint(clf_report)\";\n",
       "                var nbb_cells = Jupyter.notebook.get_cells();\n",
       "                for (var i = 0; i < nbb_cells.length; ++i) {\n",
       "                    if (nbb_cells[i].input_prompt_number == nbb_cell_id) {\n",
       "                        if (nbb_cells[i].get_text() == nbb_unformatted_code) {\n",
       "                             nbb_cells[i].set_text(nbb_formatted_code);\n",
       "                        }\n",
       "                        break;\n",
       "                    }\n",
       "                }\n",
       "            }, 500);\n",
       "            "
      ],
      "text/plain": [
       "<IPython.core.display.Javascript object>"
      ]
     },
     "metadata": {},
     "output_type": "display_data"
    }
   ],
   "source": [
    "# Classification Report\n",
    "clf_report = metrics.classification_report(y_true=y_test, y_pred=y_pred_2)\n",
    "\n",
    "print(clf_report)"
   ]
  },
  {
   "cell_type": "code",
   "execution_count": 37,
   "id": "09cb9e86",
   "metadata": {},
   "outputs": [
    {
     "data": {
      "text/plain": [
       "0.7502300443386649"
      ]
     },
     "execution_count": 37,
     "metadata": {},
     "output_type": "execute_result"
    },
    {
     "data": {
      "application/javascript": [
       "\n",
       "            setTimeout(function() {\n",
       "                var nbb_cell_id = 37;\n",
       "                var nbb_unformatted_code = \"# AUC\\n\\nauc_score_D = metrics.roc_auc_score(y_true=y_test, y_score=y_proba_D)\\nauc_score_D\";\n",
       "                var nbb_formatted_code = \"# AUC\\n\\nauc_score_D = metrics.roc_auc_score(y_true=y_test, y_score=y_proba_D)\\nauc_score_D\";\n",
       "                var nbb_cells = Jupyter.notebook.get_cells();\n",
       "                for (var i = 0; i < nbb_cells.length; ++i) {\n",
       "                    if (nbb_cells[i].input_prompt_number == nbb_cell_id) {\n",
       "                        if (nbb_cells[i].get_text() == nbb_unformatted_code) {\n",
       "                             nbb_cells[i].set_text(nbb_formatted_code);\n",
       "                        }\n",
       "                        break;\n",
       "                    }\n",
       "                }\n",
       "            }, 500);\n",
       "            "
      ],
      "text/plain": [
       "<IPython.core.display.Javascript object>"
      ]
     },
     "metadata": {},
     "output_type": "display_data"
    }
   ],
   "source": [
    "# AUC\n",
    "\n",
    "auc_score_D = metrics.roc_auc_score(y_true=y_test, y_score=y_proba_D)\n",
    "auc_score_D"
   ]
  },
  {
   "cell_type": "code",
   "execution_count": 38,
   "id": "f07b069e",
   "metadata": {},
   "outputs": [
    {
     "data": {
      "image/png": "[encoded data removed]",
      "text/plain": [
       "<Figure size 640x480 with 1 Axes>"
      ]
     },
     "metadata": {},
     "output_type": "display_data"
    },
    {
     "data": {
      "application/javascript": [
       "\n",
       "            setTimeout(function() {\n",
       "                var nbb_cell_id = 38;\n",
       "                var nbb_unformatted_code = \"# AUC curve\\nfpr, tpr, thresholds = metrics.roc_curve(\\n    y_true=y_test, y_score=y_proba_D, pos_label=\\\">50K\\\"\\n)\\n\\nauc_score_D = metrics.auc(fpr, tpr)\\nauc_score_D\\n\\ndisplay = metrics.RocCurveDisplay(\\n    fpr=fpr, tpr=tpr, roc_auc=auc_score_D, estimator_name=None\\n)\\ndisplay.plot()\\nplt.title(\\\"ROC AUC For Logistic Regression Model\\\")\\n\\nplt.show()\";\n",
       "                var nbb_formatted_code = \"# AUC curve\\nfpr, tpr, thresholds = metrics.roc_curve(\\n    y_true=y_test, y_score=y_proba_D, pos_label=\\\">50K\\\"\\n)\\n\\nauc_score_D = metrics.auc(fpr, tpr)\\nauc_score_D\\n\\ndisplay = metrics.RocCurveDisplay(\\n    fpr=fpr, tpr=tpr, roc_auc=auc_score_D, estimator_name=None\\n)\\ndisplay.plot()\\nplt.title(\\\"ROC AUC For Logistic Regression Model\\\")\\n\\nplt.show()\";\n",
       "                var nbb_cells = Jupyter.notebook.get_cells();\n",
       "                for (var i = 0; i < nbb_cells.length; ++i) {\n",
       "                    if (nbb_cells[i].input_prompt_number == nbb_cell_id) {\n",
       "                        if (nbb_cells[i].get_text() == nbb_unformatted_code) {\n",
       "                             nbb_cells[i].set_text(nbb_formatted_code);\n",
       "                        }\n",
       "                        break;\n",
       "                    }\n",
       "                }\n",
       "            }, 500);\n",
       "            "
      ],
      "text/plain": [
       "<IPython.core.display.Javascript object>"
      ]
     },
     "metadata": {},
     "output_type": "display_data"
    }
   ],
   "source": [
    "# AUC curve\n",
    "fpr, tpr, thresholds = metrics.roc_curve(\n",
    "    y_true=y_test, y_score=y_proba_D, pos_label=\">50K\"\n",
    ")\n",
    "\n",
    "auc_score_D = metrics.auc(fpr, tpr)\n",
    "auc_score_D\n",
    "\n",
    "display = metrics.RocCurveDisplay(\n",
    "    fpr=fpr, tpr=tpr, roc_auc=auc_score_D, estimator_name=None\n",
    ")\n",
    "display.plot()\n",
    "plt.title(\"ROC AUC For Logistic Regression Model\")\n",
    "\n",
    "plt.show()"
   ]
  },
  {
   "cell_type": "markdown",
   "id": "529f709d",
   "metadata": {},
   "source": [
    "### Check Predictions"
   ]
  },
  {
   "cell_type": "code",
   "execution_count": 39,
   "id": "d4100fe0",
   "metadata": {},
   "outputs": [
    {
     "data": {
      "text/plain": [
       "Age                               51\n",
       "Workclass           Self-emp-not-inc\n",
       "Final_weight                  170086\n",
       "Education                  Bachelors\n",
       "Marital_status    Married-civ-spouse\n",
       "Occupation              Tech-support\n",
       "Relationship                 Husband\n",
       "Race                           White\n",
       "Sex                             Male\n",
       "Capital_gain                       0\n",
       "Capital_loss                       0\n",
       "Hours_per_week                    45\n",
       "Country                United-States\n",
       "Salary                          >50K\n",
       "Name: 31806, dtype: object"
      ]
     },
     "execution_count": 39,
     "metadata": {},
     "output_type": "execute_result"
    },
    {
     "data": {
      "application/javascript": [
       "\n",
       "            setTimeout(function() {\n",
       "                var nbb_cell_id = 39;\n",
       "                var nbb_unformatted_code = \"# Observation 31806\\n\\ndata.iloc[31806]\";\n",
       "                var nbb_formatted_code = \"# Observation 31806\\n\\ndata.iloc[31806]\";\n",
       "                var nbb_cells = Jupyter.notebook.get_cells();\n",
       "                for (var i = 0; i < nbb_cells.length; ++i) {\n",
       "                    if (nbb_cells[i].input_prompt_number == nbb_cell_id) {\n",
       "                        if (nbb_cells[i].get_text() == nbb_unformatted_code) {\n",
       "                             nbb_cells[i].set_text(nbb_formatted_code);\n",
       "                        }\n",
       "                        break;\n",
       "                    }\n",
       "                }\n",
       "            }, 500);\n",
       "            "
      ],
      "text/plain": [
       "<IPython.core.display.Javascript object>"
      ]
     },
     "metadata": {},
     "output_type": "display_data"
    }
   ],
   "source": [
    "# Observation 31806\n",
    "\n",
    "data.iloc[31806]"
   ]
  },
  {
   "cell_type": "code",
   "execution_count": 40,
   "id": "83c3e1a3",
   "metadata": {},
   "outputs": [
    {
     "data": {
      "text/html": [
       "<div>\n",
       "<style scoped>\n",
       "    .dataframe tbody tr th:only-of-type {\n",
       "        vertical-align: middle;\n",
       "    }\n",
       "\n",
       "    .dataframe tbody tr th {\n",
       "        vertical-align: top;\n",
       "    }\n",
       "\n",
       "    .dataframe thead th {\n",
       "        text-align: right;\n",
       "    }\n",
       "</style>\n",
       "<table border=\"1\" class=\"dataframe\">\n",
       "  <thead>\n",
       "    <tr style=\"text-align: right;\">\n",
       "      <th></th>\n",
       "      <th>Age</th>\n",
       "      <th>Workclass</th>\n",
       "      <th>Final_weight</th>\n",
       "      <th>Education</th>\n",
       "      <th>Education_num</th>\n",
       "      <th>Marital_status</th>\n",
       "      <th>Occupation</th>\n",
       "      <th>Relationship</th>\n",
       "      <th>Race</th>\n",
       "      <th>Sex</th>\n",
       "      <th>Capital_gain</th>\n",
       "      <th>Capital_loss</th>\n",
       "      <th>Hours_per_week</th>\n",
       "      <th>Country</th>\n",
       "    </tr>\n",
       "  </thead>\n",
       "  <tbody>\n",
       "    <tr>\n",
       "      <th>0</th>\n",
       "      <td>51</td>\n",
       "      <td>Self-emp-not-inc</td>\n",
       "      <td>170086</td>\n",
       "      <td>Bachelors</td>\n",
       "      <td>13</td>\n",
       "      <td>Married-civ-spouse</td>\n",
       "      <td>Tech-support</td>\n",
       "      <td>Husband</td>\n",
       "      <td>Exec-White</td>\n",
       "      <td>Male</td>\n",
       "      <td>0</td>\n",
       "      <td>0</td>\n",
       "      <td>45</td>\n",
       "      <td>United-States</td>\n",
       "    </tr>\n",
       "  </tbody>\n",
       "</table>\n",
       "</div>"
      ],
      "text/plain": [
       "   Age         Workclass  Final_weight  Education  Education_num  \\\n",
       "0   51  Self-emp-not-inc        170086  Bachelors             13   \n",
       "\n",
       "       Marital_status    Occupation Relationship        Race   Sex  \\\n",
       "0  Married-civ-spouse  Tech-support      Husband  Exec-White  Male   \n",
       "\n",
       "   Capital_gain  Capital_loss  Hours_per_week        Country  \n",
       "0             0             0              45  United-States  "
      ]
     },
     "execution_count": 40,
     "metadata": {},
     "output_type": "execute_result"
    },
    {
     "data": {
      "application/javascript": [
       "\n",
       "            setTimeout(function() {\n",
       "                var nbb_cell_id = 40;\n",
       "                var nbb_unformatted_code = \"unseen_data = {\\n    \\\"Age\\\": 51,\\n    \\\"Workclass\\\": \\\"Self-emp-not-inc\\\",\\n    \\\"Final_weight\\\": 170086,\\n    \\\"Education\\\": \\\"Bachelors\\\",\\n    \\\"Education_num\\\": 13,\\n    \\\"Marital_status\\\": \\\"Married-civ-spouse\\\",\\n    \\\"Occupation\\\": \\\"Tech-support\\\",\\n    \\\"Relationship\\\": \\\"Husband\\\",\\n    \\\"Race\\\": \\\"Exec-White\\\",\\n    \\\"Sex\\\": \\\"Male\\\",\\n    \\\"Capital_gain\\\": 0,\\n    \\\"Capital_loss\\\": 0,\\n    \\\"Hours_per_week\\\": 45,\\n    \\\"Country\\\": \\\"United-States\\\",\\n}\\n\\ndf___ = pd.DataFrame(data=unseen_data, index=[0])\\ndf___\";\n",
       "                var nbb_formatted_code = \"unseen_data = {\\n    \\\"Age\\\": 51,\\n    \\\"Workclass\\\": \\\"Self-emp-not-inc\\\",\\n    \\\"Final_weight\\\": 170086,\\n    \\\"Education\\\": \\\"Bachelors\\\",\\n    \\\"Education_num\\\": 13,\\n    \\\"Marital_status\\\": \\\"Married-civ-spouse\\\",\\n    \\\"Occupation\\\": \\\"Tech-support\\\",\\n    \\\"Relationship\\\": \\\"Husband\\\",\\n    \\\"Race\\\": \\\"Exec-White\\\",\\n    \\\"Sex\\\": \\\"Male\\\",\\n    \\\"Capital_gain\\\": 0,\\n    \\\"Capital_loss\\\": 0,\\n    \\\"Hours_per_week\\\": 45,\\n    \\\"Country\\\": \\\"United-States\\\",\\n}\\n\\ndf___ = pd.DataFrame(data=unseen_data, index=[0])\\ndf___\";\n",
       "                var nbb_cells = Jupyter.notebook.get_cells();\n",
       "                for (var i = 0; i < nbb_cells.length; ++i) {\n",
       "                    if (nbb_cells[i].input_prompt_number == nbb_cell_id) {\n",
       "                        if (nbb_cells[i].get_text() == nbb_unformatted_code) {\n",
       "                             nbb_cells[i].set_text(nbb_formatted_code);\n",
       "                        }\n",
       "                        break;\n",
       "                    }\n",
       "                }\n",
       "            }, 500);\n",
       "            "
      ],
      "text/plain": [
       "<IPython.core.display.Javascript object>"
      ]
     },
     "metadata": {},
     "output_type": "display_data"
    }
   ],
   "source": [
    "unseen_data = {\n",
    "    \"Age\": 51,\n",
    "    \"Workclass\": \"Self-emp-not-inc\",\n",
    "    \"Final_weight\": 170086,\n",
    "    \"Education\": \"Bachelors\",\n",
    "    \"Education_num\": 13,\n",
    "    \"Marital_status\": \"Married-civ-spouse\",\n",
    "    \"Occupation\": \"Tech-support\",\n",
    "    \"Relationship\": \"Husband\",\n",
    "    \"Race\": \"Exec-White\",\n",
    "    \"Sex\": \"Male\",\n",
    "    \"Capital_gain\": 0,\n",
    "    \"Capital_loss\": 0,\n",
    "    \"Hours_per_week\": 45,\n",
    "    \"Country\": \"United-States\",\n",
    "}\n",
    "\n",
    "df___ = pd.DataFrame(data=unseen_data, index=[0])\n",
    "df___"
   ]
  },
  {
   "cell_type": "code",
   "execution_count": 41,
   "id": "2c1b30fb",
   "metadata": {},
   "outputs": [
    {
     "data": {
      "text/plain": [
       "'>50K'"
      ]
     },
     "execution_count": 41,
     "metadata": {},
     "output_type": "execute_result"
    },
    {
     "data": {
      "application/javascript": [
       "\n",
       "            setTimeout(function() {\n",
       "                var nbb_cell_id = 41;\n",
       "                var nbb_unformatted_code = \"# Logit regression\\nresult = pipe_logit.predict(df___)[0]\\nresult\";\n",
       "                var nbb_formatted_code = \"# Logit regression\\nresult = pipe_logit.predict(df___)[0]\\nresult\";\n",
       "                var nbb_cells = Jupyter.notebook.get_cells();\n",
       "                for (var i = 0; i < nbb_cells.length; ++i) {\n",
       "                    if (nbb_cells[i].input_prompt_number == nbb_cell_id) {\n",
       "                        if (nbb_cells[i].get_text() == nbb_unformatted_code) {\n",
       "                             nbb_cells[i].set_text(nbb_formatted_code);\n",
       "                        }\n",
       "                        break;\n",
       "                    }\n",
       "                }\n",
       "            }, 500);\n",
       "            "
      ],
      "text/plain": [
       "<IPython.core.display.Javascript object>"
      ]
     },
     "metadata": {},
     "output_type": "display_data"
    }
   ],
   "source": [
    "# Logit regression\n",
    "result = pipe_logit.predict(df___)[0]\n",
    "result"
   ]
  },
  {
   "cell_type": "code",
   "execution_count": 42,
   "id": "0a878ab7",
   "metadata": {},
   "outputs": [
    {
     "data": {
      "text/plain": [
       "'>50K'"
      ]
     },
     "execution_count": 42,
     "metadata": {},
     "output_type": "execute_result"
    },
    {
     "data": {
      "application/javascript": [
       "\n",
       "            setTimeout(function() {\n",
       "                var nbb_cell_id = 42;\n",
       "                var nbb_unformatted_code = \"# Decision tree\\nresult = pipe_dec_tree.predict(df___)[0]\\nresult\";\n",
       "                var nbb_formatted_code = \"# Decision tree\\nresult = pipe_dec_tree.predict(df___)[0]\\nresult\";\n",
       "                var nbb_cells = Jupyter.notebook.get_cells();\n",
       "                for (var i = 0; i < nbb_cells.length; ++i) {\n",
       "                    if (nbb_cells[i].input_prompt_number == nbb_cell_id) {\n",
       "                        if (nbb_cells[i].get_text() == nbb_unformatted_code) {\n",
       "                             nbb_cells[i].set_text(nbb_formatted_code);\n",
       "                        }\n",
       "                        break;\n",
       "                    }\n",
       "                }\n",
       "            }, 500);\n",
       "            "
      ],
      "text/plain": [
       "<IPython.core.display.Javascript object>"
      ]
     },
     "metadata": {},
     "output_type": "display_data"
    }
   ],
   "source": [
    "# Decision tree\n",
    "result = pipe_dec_tree.predict(df___)[0]\n",
    "result"
   ]
  },
  {
   "cell_type": "code",
   "execution_count": 43,
   "id": "ae2b2835",
   "metadata": {},
   "outputs": [
    {
     "data": {
      "text/plain": [
       "Age                               50\n",
       "Workclass           Self-emp-not-inc\n",
       "Final_weight                   83311\n",
       "Education                  Bachelors\n",
       "Marital_status    Married-civ-spouse\n",
       "Occupation           Exec-managerial\n",
       "Relationship                 Husband\n",
       "Race                           White\n",
       "Sex                             Male\n",
       "Capital_gain                       0\n",
       "Capital_loss                       0\n",
       "Hours_per_week                    13\n",
       "Country                United-States\n",
       "Salary                         <=50K\n",
       "Name: 0, dtype: object"
      ]
     },
     "execution_count": 43,
     "metadata": {},
     "output_type": "execute_result"
    },
    {
     "data": {
      "application/javascript": [
       "\n",
       "            setTimeout(function() {\n",
       "                var nbb_cell_id = 43;\n",
       "                var nbb_unformatted_code = \"# Observation 1\\n\\ndata.iloc[0]\";\n",
       "                var nbb_formatted_code = \"# Observation 1\\n\\ndata.iloc[0]\";\n",
       "                var nbb_cells = Jupyter.notebook.get_cells();\n",
       "                for (var i = 0; i < nbb_cells.length; ++i) {\n",
       "                    if (nbb_cells[i].input_prompt_number == nbb_cell_id) {\n",
       "                        if (nbb_cells[i].get_text() == nbb_unformatted_code) {\n",
       "                             nbb_cells[i].set_text(nbb_formatted_code);\n",
       "                        }\n",
       "                        break;\n",
       "                    }\n",
       "                }\n",
       "            }, 500);\n",
       "            "
      ],
      "text/plain": [
       "<IPython.core.display.Javascript object>"
      ]
     },
     "metadata": {},
     "output_type": "display_data"
    }
   ],
   "source": [
    "# Observation 1\n",
    "\n",
    "data.iloc[0]"
   ]
  },
  {
   "cell_type": "code",
   "execution_count": 44,
   "id": "8ed6e29d",
   "metadata": {},
   "outputs": [
    {
     "data": {
      "text/html": [
       "<div>\n",
       "<style scoped>\n",
       "    .dataframe tbody tr th:only-of-type {\n",
       "        vertical-align: middle;\n",
       "    }\n",
       "\n",
       "    .dataframe tbody tr th {\n",
       "        vertical-align: top;\n",
       "    }\n",
       "\n",
       "    .dataframe thead th {\n",
       "        text-align: right;\n",
       "    }\n",
       "</style>\n",
       "<table border=\"1\" class=\"dataframe\">\n",
       "  <thead>\n",
       "    <tr style=\"text-align: right;\">\n",
       "      <th></th>\n",
       "      <th>Age</th>\n",
       "      <th>Workclass</th>\n",
       "      <th>Final_weight</th>\n",
       "      <th>Education</th>\n",
       "      <th>Education_num</th>\n",
       "      <th>Marital_status</th>\n",
       "      <th>Occupation</th>\n",
       "      <th>Relationship</th>\n",
       "      <th>Race</th>\n",
       "      <th>Sex</th>\n",
       "      <th>Capital_gain</th>\n",
       "      <th>Capital_loss</th>\n",
       "      <th>Hours_per_week</th>\n",
       "      <th>Country</th>\n",
       "    </tr>\n",
       "  </thead>\n",
       "  <tbody>\n",
       "    <tr>\n",
       "      <th>0</th>\n",
       "      <td>50</td>\n",
       "      <td>Self-emp-not-inc</td>\n",
       "      <td>83311</td>\n",
       "      <td>Bachelors</td>\n",
       "      <td>13</td>\n",
       "      <td>Married-civ-spouse</td>\n",
       "      <td>Exec-managerial</td>\n",
       "      <td>Husband</td>\n",
       "      <td>Exec-White</td>\n",
       "      <td>Male</td>\n",
       "      <td>0</td>\n",
       "      <td>0</td>\n",
       "      <td>13</td>\n",
       "      <td>United-States</td>\n",
       "    </tr>\n",
       "  </tbody>\n",
       "</table>\n",
       "</div>"
      ],
      "text/plain": [
       "   Age         Workclass  Final_weight  Education  Education_num  \\\n",
       "0   50  Self-emp-not-inc         83311  Bachelors             13   \n",
       "\n",
       "       Marital_status       Occupation Relationship        Race   Sex  \\\n",
       "0  Married-civ-spouse  Exec-managerial      Husband  Exec-White  Male   \n",
       "\n",
       "   Capital_gain  Capital_loss  Hours_per_week        Country  \n",
       "0             0             0              13  United-States  "
      ]
     },
     "execution_count": 44,
     "metadata": {},
     "output_type": "execute_result"
    },
    {
     "data": {
      "application/javascript": [
       "\n",
       "            setTimeout(function() {\n",
       "                var nbb_cell_id = 44;\n",
       "                var nbb_unformatted_code = \"unseen_data = {\\n    \\\"Age\\\": 50,\\n    \\\"Workclass\\\": \\\"Self-emp-not-inc\\\",\\n    \\\"Final_weight\\\": 83311,\\n    \\\"Education\\\": \\\"Bachelors\\\",\\n    \\\"Education_num\\\": 13,\\n    \\\"Marital_status\\\": \\\"Married-civ-spouse\\\",\\n    \\\"Occupation\\\": \\\"Exec-managerial\\\",\\n    \\\"Relationship\\\": \\\"Husband\\\",\\n    \\\"Race\\\": \\\"Exec-White\\\",\\n    \\\"Sex\\\": \\\"Male\\\",\\n    \\\"Capital_gain\\\": 0,\\n    \\\"Capital_loss\\\": 0,\\n    \\\"Hours_per_week\\\": 13,\\n    \\\"Country\\\": \\\"United-States\\\",\\n}\\n\\ndf_ = pd.DataFrame(data=unseen_data, index=[0])\\ndf_\";\n",
       "                var nbb_formatted_code = \"unseen_data = {\\n    \\\"Age\\\": 50,\\n    \\\"Workclass\\\": \\\"Self-emp-not-inc\\\",\\n    \\\"Final_weight\\\": 83311,\\n    \\\"Education\\\": \\\"Bachelors\\\",\\n    \\\"Education_num\\\": 13,\\n    \\\"Marital_status\\\": \\\"Married-civ-spouse\\\",\\n    \\\"Occupation\\\": \\\"Exec-managerial\\\",\\n    \\\"Relationship\\\": \\\"Husband\\\",\\n    \\\"Race\\\": \\\"Exec-White\\\",\\n    \\\"Sex\\\": \\\"Male\\\",\\n    \\\"Capital_gain\\\": 0,\\n    \\\"Capital_loss\\\": 0,\\n    \\\"Hours_per_week\\\": 13,\\n    \\\"Country\\\": \\\"United-States\\\",\\n}\\n\\ndf_ = pd.DataFrame(data=unseen_data, index=[0])\\ndf_\";\n",
       "                var nbb_cells = Jupyter.notebook.get_cells();\n",
       "                for (var i = 0; i < nbb_cells.length; ++i) {\n",
       "                    if (nbb_cells[i].input_prompt_number == nbb_cell_id) {\n",
       "                        if (nbb_cells[i].get_text() == nbb_unformatted_code) {\n",
       "                             nbb_cells[i].set_text(nbb_formatted_code);\n",
       "                        }\n",
       "                        break;\n",
       "                    }\n",
       "                }\n",
       "            }, 500);\n",
       "            "
      ],
      "text/plain": [
       "<IPython.core.display.Javascript object>"
      ]
     },
     "metadata": {},
     "output_type": "display_data"
    }
   ],
   "source": [
    "unseen_data = {\n",
    "    \"Age\": 50,\n",
    "    \"Workclass\": \"Self-emp-not-inc\",\n",
    "    \"Final_weight\": 83311,\n",
    "    \"Education\": \"Bachelors\",\n",
    "    \"Education_num\": 13,\n",
    "    \"Marital_status\": \"Married-civ-spouse\",\n",
    "    \"Occupation\": \"Exec-managerial\",\n",
    "    \"Relationship\": \"Husband\",\n",
    "    \"Race\": \"Exec-White\",\n",
    "    \"Sex\": \"Male\",\n",
    "    \"Capital_gain\": 0,\n",
    "    \"Capital_loss\": 0,\n",
    "    \"Hours_per_week\": 13,\n",
    "    \"Country\": \"United-States\",\n",
    "}\n",
    "\n",
    "df_ = pd.DataFrame(data=unseen_data, index=[0])\n",
    "df_"
   ]
  },
  {
   "cell_type": "code",
   "execution_count": 45,
   "id": "ed49bde6",
   "metadata": {},
   "outputs": [
    {
     "data": {
      "text/plain": [
       "'<=50K'"
      ]
     },
     "execution_count": 45,
     "metadata": {},
     "output_type": "execute_result"
    },
    {
     "data": {
      "application/javascript": [
       "\n",
       "            setTimeout(function() {\n",
       "                var nbb_cell_id = 45;\n",
       "                var nbb_unformatted_code = \"# Logit regression\\nresult = pipe_logit.predict(df_)[0]\\nresult\";\n",
       "                var nbb_formatted_code = \"# Logit regression\\nresult = pipe_logit.predict(df_)[0]\\nresult\";\n",
       "                var nbb_cells = Jupyter.notebook.get_cells();\n",
       "                for (var i = 0; i < nbb_cells.length; ++i) {\n",
       "                    if (nbb_cells[i].input_prompt_number == nbb_cell_id) {\n",
       "                        if (nbb_cells[i].get_text() == nbb_unformatted_code) {\n",
       "                             nbb_cells[i].set_text(nbb_formatted_code);\n",
       "                        }\n",
       "                        break;\n",
       "                    }\n",
       "                }\n",
       "            }, 500);\n",
       "            "
      ],
      "text/plain": [
       "<IPython.core.display.Javascript object>"
      ]
     },
     "metadata": {},
     "output_type": "display_data"
    }
   ],
   "source": [
    "# Logit regression\n",
    "result = pipe_logit.predict(df_)[0]\n",
    "result"
   ]
  },
  {
   "cell_type": "code",
   "execution_count": 46,
   "id": "8bf01e72",
   "metadata": {},
   "outputs": [
    {
     "data": {
      "text/plain": [
       "'<=50K'"
      ]
     },
     "execution_count": 46,
     "metadata": {},
     "output_type": "execute_result"
    },
    {
     "data": {
      "application/javascript": [
       "\n",
       "            setTimeout(function() {\n",
       "                var nbb_cell_id = 46;\n",
       "                var nbb_unformatted_code = \"# Decision tree\\nresult = pipe_dec_tree.predict(df_)[0]\\nresult\";\n",
       "                var nbb_formatted_code = \"# Decision tree\\nresult = pipe_dec_tree.predict(df_)[0]\\nresult\";\n",
       "                var nbb_cells = Jupyter.notebook.get_cells();\n",
       "                for (var i = 0; i < nbb_cells.length; ++i) {\n",
       "                    if (nbb_cells[i].input_prompt_number == nbb_cell_id) {\n",
       "                        if (nbb_cells[i].get_text() == nbb_unformatted_code) {\n",
       "                             nbb_cells[i].set_text(nbb_formatted_code);\n",
       "                        }\n",
       "                        break;\n",
       "                    }\n",
       "                }\n",
       "            }, 500);\n",
       "            "
      ],
      "text/plain": [
       "<IPython.core.display.Javascript object>"
      ]
     },
     "metadata": {},
     "output_type": "display_data"
    }
   ],
   "source": [
    "# Decision tree\n",
    "result = pipe_dec_tree.predict(df_)[0]\n",
    "result"
   ]
  },
  {
   "cell_type": "code",
   "execution_count": 47,
   "id": "e8502b3d",
   "metadata": {},
   "outputs": [
    {
     "data": {
      "text/plain": [
       "Age                               33\n",
       "Workclass           Self-emp-not-inc\n",
       "Final_weight                  170979\n",
       "Education                     Others\n",
       "Marital_status    Married-civ-spouse\n",
       "Occupation            Prof-specialty\n",
       "Relationship                 Husband\n",
       "Race                           White\n",
       "Sex                             Male\n",
       "Capital_gain                       0\n",
       "Capital_loss                    1887\n",
       "Hours_per_week                    40\n",
       "Country                United-States\n",
       "Salary                          >50K\n",
       "Name: 29717, dtype: object"
      ]
     },
     "execution_count": 47,
     "metadata": {},
     "output_type": "execute_result"
    },
    {
     "data": {
      "application/javascript": [
       "\n",
       "            setTimeout(function() {\n",
       "                var nbb_cell_id = 47;\n",
       "                var nbb_unformatted_code = \"# Observation 29717\\n\\ndata.iloc[29717]\";\n",
       "                var nbb_formatted_code = \"# Observation 29717\\n\\ndata.iloc[29717]\";\n",
       "                var nbb_cells = Jupyter.notebook.get_cells();\n",
       "                for (var i = 0; i < nbb_cells.length; ++i) {\n",
       "                    if (nbb_cells[i].input_prompt_number == nbb_cell_id) {\n",
       "                        if (nbb_cells[i].get_text() == nbb_unformatted_code) {\n",
       "                             nbb_cells[i].set_text(nbb_formatted_code);\n",
       "                        }\n",
       "                        break;\n",
       "                    }\n",
       "                }\n",
       "            }, 500);\n",
       "            "
      ],
      "text/plain": [
       "<IPython.core.display.Javascript object>"
      ]
     },
     "metadata": {},
     "output_type": "display_data"
    }
   ],
   "source": [
    "# Observation 29717\n",
    "\n",
    "data.iloc[29717]"
   ]
  },
  {
   "cell_type": "code",
   "execution_count": 48,
   "id": "066e8aac",
   "metadata": {},
   "outputs": [
    {
     "data": {
      "text/html": [
       "<div>\n",
       "<style scoped>\n",
       "    .dataframe tbody tr th:only-of-type {\n",
       "        vertical-align: middle;\n",
       "    }\n",
       "\n",
       "    .dataframe tbody tr th {\n",
       "        vertical-align: top;\n",
       "    }\n",
       "\n",
       "    .dataframe thead th {\n",
       "        text-align: right;\n",
       "    }\n",
       "</style>\n",
       "<table border=\"1\" class=\"dataframe\">\n",
       "  <thead>\n",
       "    <tr style=\"text-align: right;\">\n",
       "      <th></th>\n",
       "      <th>Age</th>\n",
       "      <th>Workclass</th>\n",
       "      <th>Final_weight</th>\n",
       "      <th>Education</th>\n",
       "      <th>Education_num</th>\n",
       "      <th>Marital_status</th>\n",
       "      <th>Occupation</th>\n",
       "      <th>Relationship</th>\n",
       "      <th>Race</th>\n",
       "      <th>Sex</th>\n",
       "      <th>Capital_gain</th>\n",
       "      <th>Capital_loss</th>\n",
       "      <th>Hours_per_week</th>\n",
       "      <th>Country</th>\n",
       "    </tr>\n",
       "  </thead>\n",
       "  <tbody>\n",
       "    <tr>\n",
       "      <th>0</th>\n",
       "      <td>33</td>\n",
       "      <td>Self-emp-not-inc</td>\n",
       "      <td>170979</td>\n",
       "      <td>Prof-school</td>\n",
       "      <td>15</td>\n",
       "      <td>Married-civ-spouse</td>\n",
       "      <td>Prof-specialty</td>\n",
       "      <td>Husband</td>\n",
       "      <td>White</td>\n",
       "      <td>Male</td>\n",
       "      <td>0</td>\n",
       "      <td>1887</td>\n",
       "      <td>40</td>\n",
       "      <td>United-States</td>\n",
       "    </tr>\n",
       "  </tbody>\n",
       "</table>\n",
       "</div>"
      ],
      "text/plain": [
       "   Age         Workclass  Final_weight    Education  Education_num  \\\n",
       "0   33  Self-emp-not-inc        170979  Prof-school             15   \n",
       "\n",
       "       Marital_status      Occupation Relationship   Race   Sex  Capital_gain  \\\n",
       "0  Married-civ-spouse  Prof-specialty      Husband  White  Male             0   \n",
       "\n",
       "   Capital_loss  Hours_per_week        Country  \n",
       "0          1887              40  United-States  "
      ]
     },
     "execution_count": 48,
     "metadata": {},
     "output_type": "execute_result"
    },
    {
     "data": {
      "application/javascript": [
       "\n",
       "            setTimeout(function() {\n",
       "                var nbb_cell_id = 48;\n",
       "                var nbb_unformatted_code = \"unseen_data = {\\n    \\\"Age\\\": 33,\\n    \\\"Workclass\\\": \\\"Self-emp-not-inc\\\",\\n    \\\"Final_weight\\\": 170979,\\n    \\\"Education\\\": \\\"Prof-school\\\",\\n    \\\"Education_num\\\": 15,\\n    \\\"Marital_status\\\": \\\"Married-civ-spouse\\\",\\n    \\\"Occupation\\\": \\\"Prof-specialty\\\",\\n    \\\"Relationship\\\": \\\"Husband\\\",\\n    \\\"Race\\\": \\\"White\\\",\\n    \\\"Sex\\\": \\\"Male\\\",\\n    \\\"Capital_gain\\\": 0,\\n    \\\"Capital_loss\\\": 1887,\\n    \\\"Hours_per_week\\\": 40,\\n    \\\"Country\\\": \\\"United-States\\\",\\n}\\n\\ndf__ = pd.DataFrame(data=unseen_data, index=[0])\\ndf__\";\n",
       "                var nbb_formatted_code = \"unseen_data = {\\n    \\\"Age\\\": 33,\\n    \\\"Workclass\\\": \\\"Self-emp-not-inc\\\",\\n    \\\"Final_weight\\\": 170979,\\n    \\\"Education\\\": \\\"Prof-school\\\",\\n    \\\"Education_num\\\": 15,\\n    \\\"Marital_status\\\": \\\"Married-civ-spouse\\\",\\n    \\\"Occupation\\\": \\\"Prof-specialty\\\",\\n    \\\"Relationship\\\": \\\"Husband\\\",\\n    \\\"Race\\\": \\\"White\\\",\\n    \\\"Sex\\\": \\\"Male\\\",\\n    \\\"Capital_gain\\\": 0,\\n    \\\"Capital_loss\\\": 1887,\\n    \\\"Hours_per_week\\\": 40,\\n    \\\"Country\\\": \\\"United-States\\\",\\n}\\n\\ndf__ = pd.DataFrame(data=unseen_data, index=[0])\\ndf__\";\n",
       "                var nbb_cells = Jupyter.notebook.get_cells();\n",
       "                for (var i = 0; i < nbb_cells.length; ++i) {\n",
       "                    if (nbb_cells[i].input_prompt_number == nbb_cell_id) {\n",
       "                        if (nbb_cells[i].get_text() == nbb_unformatted_code) {\n",
       "                             nbb_cells[i].set_text(nbb_formatted_code);\n",
       "                        }\n",
       "                        break;\n",
       "                    }\n",
       "                }\n",
       "            }, 500);\n",
       "            "
      ],
      "text/plain": [
       "<IPython.core.display.Javascript object>"
      ]
     },
     "metadata": {},
     "output_type": "display_data"
    }
   ],
   "source": [
    "unseen_data = {\n",
    "    \"Age\": 33,\n",
    "    \"Workclass\": \"Self-emp-not-inc\",\n",
    "    \"Final_weight\": 170979,\n",
    "    \"Education\": \"Prof-school\",\n",
    "    \"Education_num\": 15,\n",
    "    \"Marital_status\": \"Married-civ-spouse\",\n",
    "    \"Occupation\": \"Prof-specialty\",\n",
    "    \"Relationship\": \"Husband\",\n",
    "    \"Race\": \"White\",\n",
    "    \"Sex\": \"Male\",\n",
    "    \"Capital_gain\": 0,\n",
    "    \"Capital_loss\": 1887,\n",
    "    \"Hours_per_week\": 40,\n",
    "    \"Country\": \"United-States\",\n",
    "}\n",
    "\n",
    "df__ = pd.DataFrame(data=unseen_data, index=[0])\n",
    "df__"
   ]
  },
  {
   "cell_type": "code",
   "execution_count": 49,
   "id": "375b7b50",
   "metadata": {},
   "outputs": [
    {
     "data": {
      "text/plain": [
       "'>50K'"
      ]
     },
     "execution_count": 49,
     "metadata": {},
     "output_type": "execute_result"
    },
    {
     "data": {
      "application/javascript": [
       "\n",
       "            setTimeout(function() {\n",
       "                var nbb_cell_id = 49;\n",
       "                var nbb_unformatted_code = \"# Logit regression\\nresult = pipe_logit.predict(df__)[0]\\nresult\";\n",
       "                var nbb_formatted_code = \"# Logit regression\\nresult = pipe_logit.predict(df__)[0]\\nresult\";\n",
       "                var nbb_cells = Jupyter.notebook.get_cells();\n",
       "                for (var i = 0; i < nbb_cells.length; ++i) {\n",
       "                    if (nbb_cells[i].input_prompt_number == nbb_cell_id) {\n",
       "                        if (nbb_cells[i].get_text() == nbb_unformatted_code) {\n",
       "                             nbb_cells[i].set_text(nbb_formatted_code);\n",
       "                        }\n",
       "                        break;\n",
       "                    }\n",
       "                }\n",
       "            }, 500);\n",
       "            "
      ],
      "text/plain": [
       "<IPython.core.display.Javascript object>"
      ]
     },
     "metadata": {},
     "output_type": "display_data"
    }
   ],
   "source": [
    "# Logit regression\n",
    "result = pipe_logit.predict(df__)[0]\n",
    "result"
   ]
  },
  {
   "cell_type": "code",
   "execution_count": 50,
   "id": "943e9aee",
   "metadata": {},
   "outputs": [
    {
     "data": {
      "text/plain": [
       "'>50K'"
      ]
     },
     "execution_count": 50,
     "metadata": {},
     "output_type": "execute_result"
    },
    {
     "data": {
      "application/javascript": [
       "\n",
       "            setTimeout(function() {\n",
       "                var nbb_cell_id = 50;\n",
       "                var nbb_unformatted_code = \"# Decision tree\\nresult = pipe_dec_tree.predict(df__)[0]\\nresult\";\n",
       "                var nbb_formatted_code = \"# Decision tree\\nresult = pipe_dec_tree.predict(df__)[0]\\nresult\";\n",
       "                var nbb_cells = Jupyter.notebook.get_cells();\n",
       "                for (var i = 0; i < nbb_cells.length; ++i) {\n",
       "                    if (nbb_cells[i].input_prompt_number == nbb_cell_id) {\n",
       "                        if (nbb_cells[i].get_text() == nbb_unformatted_code) {\n",
       "                             nbb_cells[i].set_text(nbb_formatted_code);\n",
       "                        }\n",
       "                        break;\n",
       "                    }\n",
       "                }\n",
       "            }, 500);\n",
       "            "
      ],
      "text/plain": [
       "<IPython.core.display.Javascript object>"
      ]
     },
     "metadata": {},
     "output_type": "display_data"
    }
   ],
   "source": [
    "# Decision tree\n",
    "result = pipe_dec_tree.predict(df__)[0]\n",
    "result"
   ]
  }
 ],
 "metadata": {
  "colab": {
   "provenance": []
  },
  "kernelspec": {
   "display_name": "Python 3 (ipykernel)",
   "language": "python",
   "name": "python3"
  },
  "language_info": {
   "codemirror_mode": {
    "name": "ipython",
    "version": 3
   },
   "file_extension": ".py",
   "mimetype": "text/x-python",
   "name": "python",
   "nbconvert_exporter": "python",
   "pygments_lexer": "ipython3",
   "version": "3.9.16"
  }
 },
 "nbformat": 4,
 "nbformat_minor": 5
}
