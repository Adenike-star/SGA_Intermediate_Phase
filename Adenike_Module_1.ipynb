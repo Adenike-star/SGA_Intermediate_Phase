{
 "cells": [
  {
   "cell_type": "markdown",
   "id": "28c12f4a-512d-4a18-8640-45dd48ae8b3c",
   "metadata": {},
   "source": [
    "# Assignment 1 (Week 1)\n",
    "\n",
    ">**Note**: Late submissions are ***`penalized`***.\n",
    "\n",
    "## Name: Adenike Akinbade"
   ]
  },
  {
   "cell_type": "code",
   "execution_count": 1,
   "id": "5aba3d86-630f-4a40-bbf6-6e3cde1e44b9",
   "metadata": {},
   "outputs": [],
   "source": [
    "# Black code formatter\n",
    "%load_ext lab_black\n",
    "\n",
    "# auto reload imports\n",
    "%load_ext autoreload\n",
    "%autoreload 2"
   ]
  },
  {
   "cell_type": "markdown",
   "id": "c5f5ad77-c752-4093-b190-919063786c35",
   "metadata": {},
   "source": [
    "## Qs 1: \n",
    "\n",
    "Create a class **`Die`** with one attribute called sides, which has a default value of 6. Write a method called `roll_die()` that prints a random number between **1** and the **number of sides** the die has. Make a **6-sided** die and roll it **4** times."
   ]
  },
  {
   "cell_type": "code",
   "execution_count": 2,
   "id": "2fcd4f2b-f68a-4d5d-b565-b4352306cf39",
   "metadata": {},
   "outputs": [],
   "source": [
    "# Import library\n",
    "import random\n",
    "\n",
    "\n",
    "class Die:\n",
    "    \"\"\"An attempt to roll a die\"\"\"\n",
    "\n",
    "    def __init__(self, sides: int = 6) -> None:\n",
    "        \"\"\"Intialize a 6-sided die\"\"\"\n",
    "        self.sides = sides\n",
    "\n",
    "    def roll_die(self) -> int:\n",
    "        \"\"\"Rolls the die\"\"\"\n",
    "        print(random.randint(1, self.sides))"
   ]
  },
  {
   "cell_type": "code",
   "execution_count": 3,
   "id": "38322314-a896-46e0-b2ba-4e6415487559",
   "metadata": {},
   "outputs": [
    {
     "name": "stdout",
     "output_type": "stream",
     "text": [
      "4\n"
     ]
    }
   ],
   "source": [
    "# Write your solution here\n",
    "roll = Die(6)\n",
    "roll.roll_die()"
   ]
  },
  {
   "cell_type": "code",
   "execution_count": 4,
   "id": "d1a517b1-7062-46db-ab56-a3fc9015fe80",
   "metadata": {},
   "outputs": [
    {
     "name": "stdout",
     "output_type": "stream",
     "text": [
      "4\n"
     ]
    }
   ],
   "source": [
    "# Write your solution here\n",
    "roll.roll_die()"
   ]
  },
  {
   "cell_type": "code",
   "execution_count": 5,
   "id": "cc40be86-90e0-4d95-ab3f-a7e299c73127",
   "metadata": {},
   "outputs": [
    {
     "name": "stdout",
     "output_type": "stream",
     "text": [
      "5\n"
     ]
    }
   ],
   "source": [
    "# Write your solution here\n",
    "roll.roll_die()"
   ]
  },
  {
   "cell_type": "code",
   "execution_count": 6,
   "id": "738525e7-1d88-4a4d-8321-80d5df6f115a",
   "metadata": {},
   "outputs": [
    {
     "name": "stdout",
     "output_type": "stream",
     "text": [
      "6\n"
     ]
    }
   ],
   "source": [
    "# Write your solution here\n",
    "roll.roll_die()"
   ]
  },
  {
   "cell_type": "code",
   "execution_count": null,
   "id": "12ab517e-1921-4606-a6f3-ee14df19f00a",
   "metadata": {},
   "outputs": [],
   "source": []
  },
  {
   "cell_type": "markdown",
   "id": "3cfe6485-0967-465b-b47a-c5e83c7d6a68",
   "metadata": {
    "tags": []
   },
   "source": [
    "## Qs 2: \n",
    "\n",
    "Write a function called `checker()` that accepts a number between 1 and N. Your function should print **Yes** if the number is divisible by 3, **Okay** if the number is divisible by 4 and **Perfect** if the number is divisible by 12. Test your function with **2** examples as shown below:\n",
    "\n",
    "```python\n",
    "\n",
    "def checker(number: int) -> None:\n",
    "    pass\n",
    "\n",
    "checker(number=13)\n",
    "\n",
    "# 3: Yes\n",
    "# 4: Okay\n",
    "# 6: Yes\n",
    "# 8: Okay\n",
    "# 9: Yes\n",
    "# 12: Perfect\n",
    "\n",
    "checker(number=30)\n",
    "```"
   ]
  },
  {
   "cell_type": "code",
   "execution_count": 7,
   "id": "f9fd2f8c-f4fe-4580-87a9-b8a43a1a540c",
   "metadata": {},
   "outputs": [],
   "source": [
    "def checker(number: int) -> None:\n",
    "    \"\"\"A function that checks if a particular condition is met\"\"\"\n",
    "    if number % 3 == 0:\n",
    "        print(\"Yes\")\n",
    "    elif number % 4 == 0:\n",
    "        print(\"Okay\")\n",
    "    elif number % 12 == 0:\n",
    "        print(\"Perfect\")\n",
    "    else:  # None of the above conditions are met\n",
    "        print(\"No comment\")"
   ]
  },
  {
   "cell_type": "code",
   "execution_count": 8,
   "id": "2e89f2f2-d0b0-4ca8-8971-58a5b5d0ce4b",
   "metadata": {},
   "outputs": [
    {
     "name": "stdout",
     "output_type": "stream",
     "text": [
      "No comment\n"
     ]
    }
   ],
   "source": [
    "# Write your solution here\n",
    "checker(number=13)"
   ]
  },
  {
   "cell_type": "code",
   "execution_count": 9,
   "id": "d54bf804-5776-45c1-ae47-14ce56c0bc61",
   "metadata": {},
   "outputs": [
    {
     "name": "stdout",
     "output_type": "stream",
     "text": [
      "Yes\n"
     ]
    }
   ],
   "source": [
    "# Write your solution here\n",
    "checker(number=30)"
   ]
  },
  {
   "cell_type": "code",
   "execution_count": 10,
   "id": "5be8f7c9-8368-4390-90a8-1e45f7b468c3",
   "metadata": {},
   "outputs": [
    {
     "name": "stdout",
     "output_type": "stream",
     "text": [
      "Okay\n"
     ]
    }
   ],
   "source": [
    "checker(20)"
   ]
  },
  {
   "cell_type": "markdown",
   "id": "91c78281-195b-4248-b2ca-86bb330a8b73",
   "metadata": {},
   "source": [
    "## Qs 3: \n",
    "\n",
    "Create a class called `MeanOrMedian`. Implement two methods in your class `calculate_mean()` and `calculate_median()` that calculates the **`mean`** and the **`median`** respectively given a list. Instantiate the class `MeanOrMedian` and test the **2** `mean` and `median` methods."
   ]
  },
  {
   "cell_type": "code",
   "execution_count": 11,
   "id": "853dd5aa-bdc6-4d5e-aec2-901bd59e9f4b",
   "metadata": {},
   "outputs": [],
   "source": [
    "class MeanOrMedian:\n",
    "    \"\"\"A class that calculates mean or median of a list of numbers\"\"\"\n",
    "\n",
    "    def __init__(self, *numbers: int or float) -> None:\n",
    "        \"\"\"Initialize numbers attribute\"\"\"\n",
    "        self.numbers = numbers\n",
    "\n",
    "    def calculate_mean(self) -> list:\n",
    "        \"\"\"Calculate the mean\"\"\"\n",
    "        my_list = []\n",
    "        my_list.extend(self.numbers)\n",
    "        mean = sum(my_list) / len(my_list)\n",
    "        return mean\n",
    "\n",
    "    def calculate_median(self) -> list:\n",
    "        \"\"\"Calculate the median\"\"\"\n",
    "        my_list = []\n",
    "        my_list.extend(self.numbers)\n",
    "        my_list = sorted(my_list)  # Sort the list\n",
    "        mid_num = (\n",
    "            len(my_list) // 2\n",
    "        )  # Floor division of the list length to get the middle number\n",
    "\n",
    "        if len(my_list) % 2 != 0:  # For odd list length\n",
    "            return my_list[mid_num]\n",
    "        else:  # For even list length\n",
    "            median = (\n",
    "                my_list[mid_num] + my_list[mid_num - 1]\n",
    "            ) / 2  # Sum the two middle numbers and divide by 2\n",
    "            return median"
   ]
  },
  {
   "cell_type": "code",
   "execution_count": 12,
   "id": "88a8958b-5ccc-405c-9822-2a2e593d49fd",
   "metadata": {},
   "outputs": [
    {
     "name": "stdout",
     "output_type": "stream",
     "text": [
      "mean: 1.9, median: 2\n"
     ]
    }
   ],
   "source": [
    "# Write your solution here\n",
    "\n",
    "number_collection_1 = MeanOrMedian(1, 1, 2, 2, 3.5)\n",
    "mean = number_collection_1.calculate_mean()\n",
    "median = number_collection_1.calculate_median()\n",
    "print(f\"mean: {mean}, median: {median}\")"
   ]
  },
  {
   "cell_type": "code",
   "execution_count": 13,
   "id": "0ac08968-7724-444d-bb09-c53b29e30096",
   "metadata": {},
   "outputs": [
    {
     "name": "stdout",
     "output_type": "stream",
     "text": [
      "mean: 4.0, median: 3.5\n"
     ]
    }
   ],
   "source": [
    "# Write your solution here\n",
    "\n",
    "number_collection_2 = MeanOrMedian(3, 8, 2, 4, 5, 3, 6, 1)\n",
    "mean = number_collection_2.calculate_mean()\n",
    "median = number_collection_2.calculate_median()\n",
    "print(f\"mean: {mean}, median: {median}\")"
   ]
  },
  {
   "cell_type": "code",
   "execution_count": null,
   "id": "c111ac13-e041-4424-a593-67b977983a5f",
   "metadata": {},
   "outputs": [],
   "source": []
  },
  {
   "cell_type": "markdown",
   "id": "755910de-cce0-49eb-b8d0-54fc7e30460a",
   "metadata": {},
   "source": [
    "## Qs 4:\n",
    "\n",
    "Write a program to create the function called `solver()`, which can accept two variables and perform **multiplication** and **division**. It must also return both **multiplication** and **division** in the same return call. Call the function using **two** different examples."
   ]
  },
  {
   "cell_type": "code",
   "execution_count": 14,
   "id": "2dacbbf1-b1c0-4eb9-ba09-541a014238f2",
   "metadata": {},
   "outputs": [],
   "source": [
    "def solver(var_1: int, var_2: int):\n",
    "    \"\"\"A program that perform two operations: multiplication & division\"\"\"\n",
    "    product = var_1 * var_2\n",
    "    division = var_1 / var_2\n",
    "    return product, division"
   ]
  },
  {
   "cell_type": "code",
   "execution_count": 15,
   "id": "17630778-8b55-4fd8-a2c1-198072e1e595",
   "metadata": {},
   "outputs": [
    {
     "data": {
      "text/plain": [
       "(8, 2.0)"
      ]
     },
     "execution_count": 15,
     "metadata": {},
     "output_type": "execute_result"
    }
   ],
   "source": [
    "# Write your solution here\n",
    "solver(4, 2)"
   ]
  },
  {
   "cell_type": "code",
   "execution_count": 16,
   "id": "c2a37e8f-2043-4187-b213-c73e22f77218",
   "metadata": {},
   "outputs": [
    {
     "data": {
      "text/plain": [
       "(250, 10.0)"
      ]
     },
     "execution_count": 16,
     "metadata": {},
     "output_type": "execute_result"
    }
   ],
   "source": [
    "# Write your solution here\n",
    "solver(50, 5)"
   ]
  },
  {
   "cell_type": "code",
   "execution_count": null,
   "id": "a74b236c-af51-447a-8874-43cc0f2690ae",
   "metadata": {},
   "outputs": [],
   "source": []
  },
  {
   "cell_type": "markdown",
   "id": "11fd8120-de4e-41c6-a9a6-8301347ce936",
   "metadata": {},
   "source": [
    "## Qs 5:\n",
    "\n",
    "Given the dictionary below, extract the following:\n",
    "\n",
    "a.`name`\n",
    "\n",
    "b. `height,width`\n",
    "\n",
    "c. `size`\n",
    "\n",
    "\n",
    "\n",
    "```python\n",
    "\n",
    "my_dict = {\n",
    "   \"id\": \"001\",\n",
    "   \"name\": \"dog\",\n",
    "   \"image\":\n",
    "      {\n",
    "         \"url\": \"images/001.jpg\",\n",
    "\n",
    "            \"thumbnail\":\n",
    "               {\n",
    "                  \"url\": \"images/thumbnails/001.jpg\",\n",
    "                  \"height,width\": \"3x6\"\n",
    "               },\n",
    "          \"size\": \"30 kB\"\n",
    "      }\n",
    "}\n",
    "\n",
    "```"
   ]
  },
  {
   "cell_type": "code",
   "execution_count": 17,
   "id": "d59be60f-11f2-413b-a649-094c99efcde1",
   "metadata": {},
   "outputs": [],
   "source": [
    "my_dict = {\n",
    "    \"id\": \"001\",\n",
    "    \"name\": \"dog\",\n",
    "    \"image\": {\n",
    "        \"url\": \"images/001.jpg\",\n",
    "        \"thumbnail\": {\"url\": \"images/thumbnails/001.jpg\", \"height,width\": \"3x6\"},\n",
    "        \"size\": \"30 kB\",\n",
    "    },\n",
    "}"
   ]
  },
  {
   "cell_type": "code",
   "execution_count": 18,
   "id": "b2ba6099-5668-4647-bc93-ad620bfb6be0",
   "metadata": {},
   "outputs": [
    {
     "data": {
      "text/plain": [
       "'dog'"
      ]
     },
     "execution_count": 18,
     "metadata": {},
     "output_type": "execute_result"
    }
   ],
   "source": [
    "# Write your solution here\n",
    "my_dict.get(\"name\")"
   ]
  },
  {
   "cell_type": "code",
   "execution_count": 19,
   "id": "ee8d8a36-ead3-4ca0-b98f-96864c7c7ebf",
   "metadata": {},
   "outputs": [
    {
     "data": {
      "text/plain": [
       "'3x6'"
      ]
     },
     "execution_count": 19,
     "metadata": {},
     "output_type": "execute_result"
    }
   ],
   "source": [
    "# Write your solution here\n",
    "my_dict[\"image\"][\"thumbnail\"][\"height,width\"]"
   ]
  },
  {
   "cell_type": "code",
   "execution_count": 20,
   "id": "1bfbcb4a-3390-46a9-87a4-3c60b2c5e8f2",
   "metadata": {},
   "outputs": [
    {
     "data": {
      "text/plain": [
       "'30 kB'"
      ]
     },
     "execution_count": 20,
     "metadata": {},
     "output_type": "execute_result"
    }
   ],
   "source": [
    "# Write your solution here\n",
    "my_dict[\"image\"][\"size\"]"
   ]
  },
  {
   "cell_type": "code",
   "execution_count": null,
   "id": "53b7d128-d505-479e-ba13-545d173f80ac",
   "metadata": {},
   "outputs": [],
   "source": []
  },
  {
   "cell_type": "code",
   "execution_count": null,
   "id": "429f4ee7-7d56-47ed-b729-d03f0ad1b865",
   "metadata": {},
   "outputs": [],
   "source": []
  },
  {
   "cell_type": "code",
   "execution_count": null,
   "id": "7d991ca7-cd81-42b4-922f-2d3a98fc514d",
   "metadata": {},
   "outputs": [],
   "source": []
  },
  {
   "cell_type": "code",
   "execution_count": null,
   "id": "e7633399-c0c2-4e74-af78-155dab778b99",
   "metadata": {},
   "outputs": [],
   "source": []
  }
 ],
 "metadata": {
  "kernelspec": {
   "display_name": "Python 3 (ipykernel)",
   "language": "python",
   "name": "python3"
  },
  "language_info": {
   "codemirror_mode": {
    "name": "ipython",
    "version": 3
   },
   "file_extension": ".py",
   "mimetype": "text/x-python",
   "name": "python",
   "nbconvert_exporter": "python",
   "pygments_lexer": "ipython3",
   "version": "3.9.7"
  }
 },
 "nbformat": 4,
 "nbformat_minor": 5
}
