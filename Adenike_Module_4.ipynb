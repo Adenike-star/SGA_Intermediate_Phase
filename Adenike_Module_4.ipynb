{
 "cells": [
  {
   "cell_type": "code",
   "execution_count": null,
   "id": "906c9e24-93bc-4dad-bb26-8fe679f6ba41",
   "metadata": {
    "id": "906c9e24-93bc-4dad-bb26-8fe679f6ba41",
    "scrolled": true,
    "tags": []
   },
   "outputs": [],
   "source": []
  },
  {
   "cell_type": "markdown",
   "id": "27c9aa61-8e50-4ce9-95b1-ee11d85dd067",
   "metadata": {
    "id": "27c9aa61-8e50-4ce9-95b1-ee11d85dd067"
   },
   "source": [
    "# Assignment 4 (Week 4)\n",
    "\n",
    ">**Note**: Late submissions are ***`penalized`***.\n",
    "\n",
    "## Name: Adenike Akinbade\n",
    "\n",
    "<br>\n",
    "\n",
    "### Please show and display all your calculations and results."
   ]
  },
  {
   "cell_type": "code",
   "execution_count": 1,
   "id": "5f4da313-7d5a-4b4d-a9fe-5b814bb3ab3c",
   "metadata": {
    "id": "5f4da313-7d5a-4b4d-a9fe-5b814bb3ab3c",
    "scrolled": true
   },
   "outputs": [
    {
     "data": {
      "application/javascript": [
       "\n",
       "            setTimeout(function() {\n",
       "                var nbb_cell_id = 1;\n",
       "                var nbb_unformatted_code = \"# Standard imports\\nimport numpy as np\\nimport pandas as pd\\nimport matplotlib.pyplot as plt\\nimport seaborn as sns\\n\\n# Built-in library\\nimport itertools\\nimport re\\nimport json\\nimport typing as tp\\n\\n# pandas settings\\npd.options.display.max_rows = 1_000\\npd.options.display.max_columns = 1_000\\npd.options.display.max_colwidth = 1_000\\n\\n# Black code formatter (Optional)\\n%load_ext nb_black\";\n",
       "                var nbb_formatted_code = \"# Standard imports\\nimport numpy as np\\nimport pandas as pd\\nimport matplotlib.pyplot as plt\\nimport seaborn as sns\\n\\n# Built-in library\\nimport itertools\\nimport re\\nimport json\\nimport typing as tp\\n\\n# pandas settings\\npd.options.display.max_rows = 1_000\\npd.options.display.max_columns = 1_000\\npd.options.display.max_colwidth = 1_000\\n\\n# Black code formatter (Optional)\\n%load_ext nb_black\";\n",
       "                var nbb_cells = Jupyter.notebook.get_cells();\n",
       "                for (var i = 0; i < nbb_cells.length; ++i) {\n",
       "                    if (nbb_cells[i].input_prompt_number == nbb_cell_id) {\n",
       "                        if (nbb_cells[i].get_text() == nbb_unformatted_code) {\n",
       "                             nbb_cells[i].set_text(nbb_formatted_code);\n",
       "                        }\n",
       "                        break;\n",
       "                    }\n",
       "                }\n",
       "            }, 500);\n",
       "            "
      ],
      "text/plain": [
       "<IPython.core.display.Javascript object>"
      ]
     },
     "metadata": {},
     "output_type": "display_data"
    }
   ],
   "source": [
    "# Standard imports\n",
    "import numpy as np\n",
    "import pandas as pd\n",
    "import matplotlib.pyplot as plt\n",
    "import seaborn as sns\n",
    "\n",
    "# Built-in library\n",
    "import itertools\n",
    "import re\n",
    "import json\n",
    "import typing as tp\n",
    "\n",
    "# pandas settings\n",
    "pd.options.display.max_rows = 1_000\n",
    "pd.options.display.max_columns = 1_000\n",
    "pd.options.display.max_colwidth = 1_000\n",
    "\n",
    "# Black code formatter (Optional)\n",
    "%load_ext nb_black"
   ]
  },
  {
   "cell_type": "markdown",
   "id": "b8e08f86-85af-4c6b-98eb-15edf4284000",
   "metadata": {
    "id": "b8e08f86-85af-4c6b-98eb-15edf4284000"
   },
   "source": [
    "### nb_black Installation And Usage\n",
    "\n",
    "```bash\n",
    "# On your command line, run:\n",
    "pip install nb_black \n",
    "```\n",
    "\n",
    "\n",
    "```python\n",
    "# For jupyter notebook\n",
    "%load_ext nb_black\n",
    "\n",
    "# For jupyter lab\n",
    "%load_ext lab_black\n",
    "```\n"
   ]
  },
  {
   "cell_type": "markdown",
   "id": "c21c79d8-8ef6-43a6-9263-b95c75a7f547",
   "metadata": {
    "id": "c21c79d8-8ef6-43a6-9263-b95c75a7f547"
   },
   "source": [
    "### Qs1\n",
    "\n",
    "#### The data can be found [here](https://drive.google.com/file/d/1WFMBMR4e5o2B1rzDbOWaTorZRuKU3UOD/view?usp=share_link)\n",
    "\n",
    "a.) Create a new column called **`Name`** from the **`Artist`** column. Return the name of the artist. \\\n",
    "e.g. \\\n",
    "`Tawaraya SÅtatsu, 17th century, Gold leaf and ink on paper`: `Tawaraya SÅ tatsu` \\\n",
    "`Artist Unknown, circa 190 BCE, Marble `: `Artist Unknown`\n",
    "\n",
    "\n",
    "b.) Create a new column called **`Date`** from the `Artist` column which extracts the date/period\n",
    "from the `Artist` column. \\\n",
    "e.g. \\\n",
    "`TÅshÅ«sai Sharaku, 1794, Woodblock print`: `1974` \\\n",
    "`Artist Unknown, 196 BCE, Granodiorite`: `196 BCE`\n",
    "\n",
    "c.) Finally, Create a new column called **`Art_type`** by extracting values from `Artist` column. \\\n",
    "e.g. \\\n",
    "`TÅshÅ«sai Sharaku, 1794, Woodblock print`: `Woodblock print` \\\n",
    "`Artist Unknown, 196 BCE, Granodiorite`: `Granodiorite`\n",
    "\n",
    "* To validate your results, find the **`unique values`** in **`each column`** you created."
   ]
  },
  {
   "cell_type": "markdown",
   "id": "e1691bf8",
   "metadata": {},
   "source": [
    "<hr>"
   ]
  },
  {
   "cell_type": "code",
   "execution_count": 2,
   "id": "28c271c4",
   "metadata": {},
   "outputs": [
    {
     "data": {
      "text/html": [
       "<div>\n",
       "<style scoped>\n",
       "    .dataframe tbody tr th:only-of-type {\n",
       "        vertical-align: middle;\n",
       "    }\n",
       "\n",
       "    .dataframe tbody tr th {\n",
       "        vertical-align: top;\n",
       "    }\n",
       "\n",
       "    .dataframe thead th {\n",
       "        text-align: right;\n",
       "    }\n",
       "</style>\n",
       "<table border=\"1\" class=\"dataframe\">\n",
       "  <thead>\n",
       "    <tr style=\"text-align: right;\">\n",
       "      <th></th>\n",
       "      <th>Name</th>\n",
       "      <th>Genuine</th>\n",
       "      <th>Category</th>\n",
       "      <th>Buy</th>\n",
       "      <th>Sell</th>\n",
       "      <th>Color 1</th>\n",
       "      <th>Color 2</th>\n",
       "      <th>Size</th>\n",
       "      <th>Real Artwork Title</th>\n",
       "      <th>Artist</th>\n",
       "      <th>Museum Description</th>\n",
       "      <th>Source</th>\n",
       "      <th>Source Notes</th>\n",
       "      <th>Version</th>\n",
       "      <th>HHA Concept 1</th>\n",
       "      <th>HHA Concept 2</th>\n",
       "      <th>HHA Series</th>\n",
       "      <th>HHA Set</th>\n",
       "      <th>Interact</th>\n",
       "      <th>Tag</th>\n",
       "      <th>Speaker Type</th>\n",
       "      <th>Lighting Type</th>\n",
       "      <th>Catalog</th>\n",
       "      <th>Filename</th>\n",
       "      <th>Internal ID</th>\n",
       "      <th>Unique Entry ID</th>\n",
       "    </tr>\n",
       "  </thead>\n",
       "  <tbody>\n",
       "    <tr>\n",
       "      <th>0</th>\n",
       "      <td>academic painting</td>\n",
       "      <td>Yes</td>\n",
       "      <td>Wall-mounted</td>\n",
       "      <td>4980</td>\n",
       "      <td>1245</td>\n",
       "      <td>None</td>\n",
       "      <td>None</td>\n",
       "      <td>1x1</td>\n",
       "      <td>Vitruvian Man</td>\n",
       "      <td>Leonardo da Vinci, circa 1487, Pen and ink on paper</td>\n",
       "      <td>This drawing is based on the \"ideal\" human-body ratio, as stated in \"De architectura.\" \"De architectura\" was a treatise by Vitruvius, an architect from the early 1st century BCE.</td>\n",
       "      <td>Jolly Redd's Treasure Trawler</td>\n",
       "      <td>NaN</td>\n",
       "      <td>1.2.0</td>\n",
       "      <td>expensive</td>\n",
       "      <td>facility</td>\n",
       "      <td>None</td>\n",
       "      <td>None</td>\n",
       "      <td>No</td>\n",
       "      <td>Picture</td>\n",
       "      <td>Does not play music</td>\n",
       "      <td>No lighting</td>\n",
       "      <td>Not for sale</td>\n",
       "      <td>FtrArtVitruvianMan</td>\n",
       "      <td>12619</td>\n",
       "      <td>xfTf9sfyLkxHQEz4u</td>\n",
       "    </tr>\n",
       "  </tbody>\n",
       "</table>\n",
       "</div>"
      ],
      "text/plain": [
       "                Name Genuine      Category   Buy  Sell Color 1 Color 2 Size  \\\n",
       "0  academic painting     Yes  Wall-mounted  4980  1245    None    None  1x1   \n",
       "\n",
       "  Real Artwork Title                                               Artist  \\\n",
       "0      Vitruvian Man  Leonardo da Vinci, circa 1487, Pen and ink on paper   \n",
       "\n",
       "                                                                                                                                                                   Museum Description  \\\n",
       "0  This drawing is based on the \"ideal\" human-body ratio, as stated in \"De architectura.\" \"De architectura\" was a treatise by Vitruvius, an architect from the early 1st century BCE.   \n",
       "\n",
       "                          Source  Source Notes Version HHA Concept 1  \\\n",
       "0  Jolly Redd's Treasure Trawler           NaN   1.2.0     expensive   \n",
       "\n",
       "  HHA Concept 2 HHA Series HHA Set Interact      Tag         Speaker Type  \\\n",
       "0      facility       None    None       No  Picture  Does not play music   \n",
       "\n",
       "  Lighting Type       Catalog            Filename  Internal ID  \\\n",
       "0   No lighting  Not for sale  FtrArtVitruvianMan        12619   \n",
       "\n",
       "     Unique Entry ID  \n",
       "0  xfTf9sfyLkxHQEz4u  "
      ]
     },
     "execution_count": 2,
     "metadata": {},
     "output_type": "execute_result"
    },
    {
     "data": {
      "application/javascript": [
       "\n",
       "            setTimeout(function() {\n",
       "                var nbb_cell_id = 2;\n",
       "                var nbb_unformatted_code = \"# Read art data\\ndf_1 = pd.read_csv(\\\"art.csv\\\")\\n\\n# Copy data\\nart_df = df_1.copy()\\n\\n# View first 5 rows\\nart_df.head(1)\";\n",
       "                var nbb_formatted_code = \"# Read art data\\ndf_1 = pd.read_csv(\\\"art.csv\\\")\\n\\n# Copy data\\nart_df = df_1.copy()\\n\\n# View first 5 rows\\nart_df.head(1)\";\n",
       "                var nbb_cells = Jupyter.notebook.get_cells();\n",
       "                for (var i = 0; i < nbb_cells.length; ++i) {\n",
       "                    if (nbb_cells[i].input_prompt_number == nbb_cell_id) {\n",
       "                        if (nbb_cells[i].get_text() == nbb_unformatted_code) {\n",
       "                             nbb_cells[i].set_text(nbb_formatted_code);\n",
       "                        }\n",
       "                        break;\n",
       "                    }\n",
       "                }\n",
       "            }, 500);\n",
       "            "
      ],
      "text/plain": [
       "<IPython.core.display.Javascript object>"
      ]
     },
     "metadata": {},
     "output_type": "display_data"
    }
   ],
   "source": [
    "# Read art data\n",
    "df_1 = pd.read_csv(\"art.csv\")\n",
    "\n",
    "# Copy data\n",
    "art_df = df_1.copy()\n",
    "\n",
    "# View first 5 rows\n",
    "art_df.head(1)"
   ]
  },
  {
   "cell_type": "code",
   "execution_count": 3,
   "id": "85748e20-5fdf-4a91-94a7-fe85678d411b",
   "metadata": {
    "id": "85748e20-5fdf-4a91-94a7-fe85678d411b"
   },
   "outputs": [
    {
     "data": {
      "application/javascript": [
       "\n",
       "            setTimeout(function() {\n",
       "                var nbb_cell_id = 3;\n",
       "                var nbb_unformatted_code = \"# 1a Enter your solution here\\n\\n# Creates a new column:\\n# Apply lambda function that splits the values in the artist column and returns the index zero\\n\\nart_df[\\\"Name\\\"] = art_df[\\\"Artist\\\"].apply(lambda x: x.split(sep=\\\",\\\")[0])\";\n",
       "                var nbb_formatted_code = \"# 1a Enter your solution here\\n\\n# Creates a new column:\\n# Apply lambda function that splits the values in the artist column and returns the index zero\\n\\nart_df[\\\"Name\\\"] = art_df[\\\"Artist\\\"].apply(lambda x: x.split(sep=\\\",\\\")[0])\";\n",
       "                var nbb_cells = Jupyter.notebook.get_cells();\n",
       "                for (var i = 0; i < nbb_cells.length; ++i) {\n",
       "                    if (nbb_cells[i].input_prompt_number == nbb_cell_id) {\n",
       "                        if (nbb_cells[i].get_text() == nbb_unformatted_code) {\n",
       "                             nbb_cells[i].set_text(nbb_formatted_code);\n",
       "                        }\n",
       "                        break;\n",
       "                    }\n",
       "                }\n",
       "            }, 500);\n",
       "            "
      ],
      "text/plain": [
       "<IPython.core.display.Javascript object>"
      ]
     },
     "metadata": {},
     "output_type": "display_data"
    }
   ],
   "source": [
    "# 1a Enter your solution here\n",
    "\n",
    "# Creates a new column:\n",
    "# Apply lambda function that splits the values in the artist column and returns the index zero\n",
    "\n",
    "art_df[\"Name\"] = art_df[\"Artist\"].apply(lambda x: x.split(sep=\",\")[0])"
   ]
  },
  {
   "cell_type": "code",
   "execution_count": 4,
   "id": "91bf0572",
   "metadata": {},
   "outputs": [
    {
     "data": {
      "text/plain": [
       "array(['Leonardo da Vinci', 'Rembrandt van Rijn', 'Artist Unknown',\n",
       "       'Thomas Gainsborough', 'Georges Seurat', 'Jean-François Millet',\n",
       "       'Itō Jakuchū', 'Katsushika Hokusai', 'Auguste Rodin',\n",
       "       'Vincent van Gogh', 'Michelangelo',\n",
       "       'Joseph Mallord William Turner', 'Hishikawa Moronobu',\n",
       "       'Thomas Ridgeway Gould', 'Giuseppe Arcimboldo',\n",
       "       'Sandro Botticelli', 'Arnold Böcklin', 'Thutmose', 'Édouard Manet',\n",
       "       'Paul Cézanne', 'Johannes Vermeer', 'Tōshūsai Sharaku',\n",
       "       'Pieter Brueghel the Elder', 'John Everett Millais',\n",
       "       'Diego Velázquez', 'Francisco de Goya', 'Tawaraya Sōtatsu',\n",
       "       'Eugène Delacroix'], dtype=object)"
      ]
     },
     "execution_count": 4,
     "metadata": {},
     "output_type": "execute_result"
    },
    {
     "data": {
      "application/javascript": [
       "\n",
       "            setTimeout(function() {\n",
       "                var nbb_cell_id = 4;\n",
       "                var nbb_unformatted_code = \"# Unique values in the new column: 'Name'\\n\\nart_df[\\\"Name\\\"].unique()\";\n",
       "                var nbb_formatted_code = \"# Unique values in the new column: 'Name'\\n\\nart_df[\\\"Name\\\"].unique()\";\n",
       "                var nbb_cells = Jupyter.notebook.get_cells();\n",
       "                for (var i = 0; i < nbb_cells.length; ++i) {\n",
       "                    if (nbb_cells[i].input_prompt_number == nbb_cell_id) {\n",
       "                        if (nbb_cells[i].get_text() == nbb_unformatted_code) {\n",
       "                             nbb_cells[i].set_text(nbb_formatted_code);\n",
       "                        }\n",
       "                        break;\n",
       "                    }\n",
       "                }\n",
       "            }, 500);\n",
       "            "
      ],
      "text/plain": [
       "<IPython.core.display.Javascript object>"
      ]
     },
     "metadata": {},
     "output_type": "display_data"
    }
   ],
   "source": [
    "# Unique values in the new column: 'Name'\n",
    "\n",
    "art_df[\"Name\"].unique()"
   ]
  },
  {
   "cell_type": "code",
   "execution_count": 5,
   "id": "80b31fb5-21dc-4735-ac26-214f1a0f2f37",
   "metadata": {
    "id": "80b31fb5-21dc-4735-ac26-214f1a0f2f37",
    "scrolled": true
   },
   "outputs": [
    {
     "data": {
      "application/javascript": [
       "\n",
       "            setTimeout(function() {\n",
       "                var nbb_cell_id = 5;\n",
       "                var nbb_unformatted_code = \"# 1b Enter your solution here\\n\\n# Creates a new column:\\n# Apply lambda function that splits the values in the artist column and returns the index one\\n\\nart_df[\\\"Date\\\"] = art_df[\\\"Artist\\\"].apply(lambda x: x.split(sep=\\\",\\\")[1])\";\n",
       "                var nbb_formatted_code = \"# 1b Enter your solution here\\n\\n# Creates a new column:\\n# Apply lambda function that splits the values in the artist column and returns the index one\\n\\nart_df[\\\"Date\\\"] = art_df[\\\"Artist\\\"].apply(lambda x: x.split(sep=\\\",\\\")[1])\";\n",
       "                var nbb_cells = Jupyter.notebook.get_cells();\n",
       "                for (var i = 0; i < nbb_cells.length; ++i) {\n",
       "                    if (nbb_cells[i].input_prompt_number == nbb_cell_id) {\n",
       "                        if (nbb_cells[i].get_text() == nbb_unformatted_code) {\n",
       "                             nbb_cells[i].set_text(nbb_formatted_code);\n",
       "                        }\n",
       "                        break;\n",
       "                    }\n",
       "                }\n",
       "            }, 500);\n",
       "            "
      ],
      "text/plain": [
       "<IPython.core.display.Javascript object>"
      ]
     },
     "metadata": {},
     "output_type": "display_data"
    }
   ],
   "source": [
    "# 1b Enter your solution here\n",
    "\n",
    "# Creates a new column:\n",
    "# Apply lambda function that splits the values in the artist column and returns the index one\n",
    "\n",
    "art_df[\"Date\"] = art_df[\"Artist\"].apply(lambda x: x.split(sep=\",\")[1])"
   ]
  },
  {
   "cell_type": "code",
   "execution_count": 6,
   "id": "7d6c4039",
   "metadata": {},
   "outputs": [
    {
     "data": {
      "text/plain": [
       "array([' circa 1487', ' 1642', ' 1000-400 BCE', ' 1770', ' circa 130 BCE',\n",
       "       ' circa 1885', ' 1857', ' 18th century', ' circa 1831', ' 1902',\n",
       "       ' circa 1503', ' circa 1888', ' circa 1504', ' 1839',\n",
       "       ' 17th century', ' circa 1883', ' 196 BCE', ' circa 1563',\n",
       "       ' circa 1850', ' 5th century BCE', ' circa 1485', ' 1883',\n",
       "       ' circa 1345 BCE', ' 1866', ' circa 1899', ' circa 1882',\n",
       "       ' circa 1658', ' 2nd century CE', ' circa 1000 BCE', ' 1794',\n",
       "       ' 1565', ' circa 1490', ' 1852', ' circa 1656', ' 1200 BCE',\n",
       "       ' 1889', ' circa 190 BCE', ' circa 1805', ' 210 BCE',\n",
       "       ' circa 1665', ' 1830'], dtype=object)"
      ]
     },
     "execution_count": 6,
     "metadata": {},
     "output_type": "execute_result"
    },
    {
     "data": {
      "application/javascript": [
       "\n",
       "            setTimeout(function() {\n",
       "                var nbb_cell_id = 6;\n",
       "                var nbb_unformatted_code = \"# Unique values in the new column: 'Date'\\n\\nart_df[\\\"Date\\\"].unique()\";\n",
       "                var nbb_formatted_code = \"# Unique values in the new column: 'Date'\\n\\nart_df[\\\"Date\\\"].unique()\";\n",
       "                var nbb_cells = Jupyter.notebook.get_cells();\n",
       "                for (var i = 0; i < nbb_cells.length; ++i) {\n",
       "                    if (nbb_cells[i].input_prompt_number == nbb_cell_id) {\n",
       "                        if (nbb_cells[i].get_text() == nbb_unformatted_code) {\n",
       "                             nbb_cells[i].set_text(nbb_formatted_code);\n",
       "                        }\n",
       "                        break;\n",
       "                    }\n",
       "                }\n",
       "            }, 500);\n",
       "            "
      ],
      "text/plain": [
       "<IPython.core.display.Javascript object>"
      ]
     },
     "metadata": {},
     "output_type": "display_data"
    }
   ],
   "source": [
    "# Unique values in the new column: 'Date'\n",
    "\n",
    "art_df[\"Date\"].unique()"
   ]
  },
  {
   "cell_type": "code",
   "execution_count": 7,
   "id": "ed48d85c-6f70-4530-9227-42fd0ebeb604",
   "metadata": {
    "id": "ed48d85c-6f70-4530-9227-42fd0ebeb604",
    "scrolled": true
   },
   "outputs": [
    {
     "data": {
      "application/javascript": [
       "\n",
       "            setTimeout(function() {\n",
       "                var nbb_cell_id = 7;\n",
       "                var nbb_unformatted_code = \"# 1c Enter your solution here\\n\\n# Creates a new column:\\n# Apply lambda function that splits the values in the artist column and returns the last index\\n\\nart_df[\\\"Art_type\\\"] = art_df[\\\"Artist\\\"].apply(lambda x: x.split(sep=\\\",\\\")[-1])\";\n",
       "                var nbb_formatted_code = \"# 1c Enter your solution here\\n\\n# Creates a new column:\\n# Apply lambda function that splits the values in the artist column and returns the last index\\n\\nart_df[\\\"Art_type\\\"] = art_df[\\\"Artist\\\"].apply(lambda x: x.split(sep=\\\",\\\")[-1])\";\n",
       "                var nbb_cells = Jupyter.notebook.get_cells();\n",
       "                for (var i = 0; i < nbb_cells.length; ++i) {\n",
       "                    if (nbb_cells[i].input_prompt_number == nbb_cell_id) {\n",
       "                        if (nbb_cells[i].get_text() == nbb_unformatted_code) {\n",
       "                             nbb_cells[i].set_text(nbb_formatted_code);\n",
       "                        }\n",
       "                        break;\n",
       "                    }\n",
       "                }\n",
       "            }, 500);\n",
       "            "
      ],
      "text/plain": [
       "<IPython.core.display.Javascript object>"
      ]
     },
     "metadata": {},
     "output_type": "display_data"
    }
   ],
   "source": [
    "# 1c Enter your solution here\n",
    "\n",
    "# Creates a new column:\n",
    "# Apply lambda function that splits the values in the artist column and returns the last index\n",
    "\n",
    "art_df[\"Art_type\"] = art_df[\"Artist\"].apply(lambda x: x.split(sep=\",\")[-1])"
   ]
  },
  {
   "cell_type": "code",
   "execution_count": 8,
   "id": "b5c493b9",
   "metadata": {},
   "outputs": [
    {
     "data": {
      "text/plain": [
       "array([' Pen and ink on paper', ' Oil on canvas', ' Fired pottery',\n",
       "       ' Marble', ' Dyed silk', ' Woodblock print', ' Bronze',\n",
       "       ' Oil on poplar', ' Color on silk', ' Granodiorite',\n",
       "       ' Tempura on canvas', ' Oil on wood', ' circa 1345 BCE',\n",
       "       ' andesite', ' Oil on wood panel', ' Earthenware',\n",
       "       ' Gold leaf and ink on paper'], dtype=object)"
      ]
     },
     "execution_count": 8,
     "metadata": {},
     "output_type": "execute_result"
    },
    {
     "data": {
      "application/javascript": [
       "\n",
       "            setTimeout(function() {\n",
       "                var nbb_cell_id = 8;\n",
       "                var nbb_unformatted_code = \"# Unique values in the new column: 'Art_type'\\nart_df[\\\"Art_type\\\"].unique()\";\n",
       "                var nbb_formatted_code = \"# Unique values in the new column: 'Art_type'\\nart_df[\\\"Art_type\\\"].unique()\";\n",
       "                var nbb_cells = Jupyter.notebook.get_cells();\n",
       "                for (var i = 0; i < nbb_cells.length; ++i) {\n",
       "                    if (nbb_cells[i].input_prompt_number == nbb_cell_id) {\n",
       "                        if (nbb_cells[i].get_text() == nbb_unformatted_code) {\n",
       "                             nbb_cells[i].set_text(nbb_formatted_code);\n",
       "                        }\n",
       "                        break;\n",
       "                    }\n",
       "                }\n",
       "            }, 500);\n",
       "            "
      ],
      "text/plain": [
       "<IPython.core.display.Javascript object>"
      ]
     },
     "metadata": {},
     "output_type": "display_data"
    }
   ],
   "source": [
    "# Unique values in the new column: 'Art_type'\n",
    "art_df[\"Art_type\"].unique()"
   ]
  },
  {
   "cell_type": "markdown",
   "id": "eeaeba2f",
   "metadata": {},
   "source": [
    "<hr>"
   ]
  },
  {
   "cell_type": "markdown",
   "id": "7a694813-9c95-479a-a12e-3577c1b9d497",
   "metadata": {
    "id": "7a694813-9c95-479a-a12e-3577c1b9d497"
   },
   "source": [
    "### Qs 2:\n",
    "\n",
    "#### The data can be found [here](https://drive.google.com/file/d/1xSfSnIWZEWo9WHIXSRfOKRGcCyZ-iNtk/view?usp=share_link)\n",
    "\n",
    "a.) Write a `Python class`, **`NumericTransformers`**, that can be used to apply the following transformations to columns: `no_of_adults`, `arrival_month` and `no_of_special_requests`\n",
    "\n",
    "    i.) Sigmoid transformation\n",
    "    \n",
    "$$\\sigma(x) = \\frac {1}{1+e^{-x}}$$\n",
    "    \n",
    "    ii.) Cube root transformation\n",
    "    \n",
    "$$x_{transformed} = \\sqrt[3]{x}$$\n",
    "    \n",
    "    \n",
    "```python\n",
    "class NumericTransformers:\n",
    "    \"\"\"This class is used to apply 'Sigmoid' and 'Cube root'\n",
    "    transformations to the input data (Vector).\"\"\"\n",
    "    pass\n",
    "```\n",
    "\n",
    "Create a `new dataframe` and find the **`descriptive summary statistics`** of the newly transformed features for **each transformation**. \\\n",
    "Hint: Use `.describe()`\n",
    "\n",
    "b.) Find the **correlation** between the numeric data . Visualize your result using **Seaborn's heatmap**.\n"
   ]
  },
  {
   "cell_type": "markdown",
   "id": "3af792fd",
   "metadata": {},
   "source": [
    "<hr>"
   ]
  },
  {
   "cell_type": "code",
   "execution_count": 9,
   "id": "ed36a982",
   "metadata": {},
   "outputs": [
    {
     "data": {
      "text/html": [
       "<div>\n",
       "<style scoped>\n",
       "    .dataframe tbody tr th:only-of-type {\n",
       "        vertical-align: middle;\n",
       "    }\n",
       "\n",
       "    .dataframe tbody tr th {\n",
       "        vertical-align: top;\n",
       "    }\n",
       "\n",
       "    .dataframe thead th {\n",
       "        text-align: right;\n",
       "    }\n",
       "</style>\n",
       "<table border=\"1\" class=\"dataframe\">\n",
       "  <thead>\n",
       "    <tr style=\"text-align: right;\">\n",
       "      <th></th>\n",
       "      <th>Booking_ID</th>\n",
       "      <th>no_of_adults</th>\n",
       "      <th>no_of_children</th>\n",
       "      <th>no_of_weekend_nights</th>\n",
       "      <th>no_of_week_nights</th>\n",
       "      <th>type_of_meal_plan</th>\n",
       "      <th>required_car_parking_space</th>\n",
       "      <th>room_type_reserved</th>\n",
       "      <th>lead_time</th>\n",
       "      <th>arrival_year</th>\n",
       "      <th>arrival_month</th>\n",
       "      <th>arrival_date</th>\n",
       "      <th>market_segment_type</th>\n",
       "      <th>repeated_guest</th>\n",
       "      <th>no_of_previous_cancellations</th>\n",
       "      <th>no_of_previous_bookings_not_canceled</th>\n",
       "      <th>avg_price_per_room</th>\n",
       "      <th>no_of_special_requests</th>\n",
       "      <th>booking_status</th>\n",
       "    </tr>\n",
       "  </thead>\n",
       "  <tbody>\n",
       "    <tr>\n",
       "      <th>0</th>\n",
       "      <td>INN00001</td>\n",
       "      <td>2</td>\n",
       "      <td>0</td>\n",
       "      <td>1</td>\n",
       "      <td>2</td>\n",
       "      <td>Meal Plan 1</td>\n",
       "      <td>0</td>\n",
       "      <td>Room_Type 1</td>\n",
       "      <td>224</td>\n",
       "      <td>2017</td>\n",
       "      <td>10</td>\n",
       "      <td>2</td>\n",
       "      <td>Offline</td>\n",
       "      <td>0</td>\n",
       "      <td>0</td>\n",
       "      <td>0</td>\n",
       "      <td>65.00</td>\n",
       "      <td>0</td>\n",
       "      <td>Not_Canceled</td>\n",
       "    </tr>\n",
       "    <tr>\n",
       "      <th>1</th>\n",
       "      <td>INN00002</td>\n",
       "      <td>2</td>\n",
       "      <td>0</td>\n",
       "      <td>2</td>\n",
       "      <td>3</td>\n",
       "      <td>Not Selected</td>\n",
       "      <td>0</td>\n",
       "      <td>Room_Type 1</td>\n",
       "      <td>5</td>\n",
       "      <td>2018</td>\n",
       "      <td>11</td>\n",
       "      <td>6</td>\n",
       "      <td>Online</td>\n",
       "      <td>0</td>\n",
       "      <td>0</td>\n",
       "      <td>0</td>\n",
       "      <td>106.68</td>\n",
       "      <td>1</td>\n",
       "      <td>Not_Canceled</td>\n",
       "    </tr>\n",
       "    <tr>\n",
       "      <th>2</th>\n",
       "      <td>INN00003</td>\n",
       "      <td>1</td>\n",
       "      <td>0</td>\n",
       "      <td>2</td>\n",
       "      <td>1</td>\n",
       "      <td>Meal Plan 1</td>\n",
       "      <td>0</td>\n",
       "      <td>Room_Type 1</td>\n",
       "      <td>1</td>\n",
       "      <td>2018</td>\n",
       "      <td>2</td>\n",
       "      <td>28</td>\n",
       "      <td>Online</td>\n",
       "      <td>0</td>\n",
       "      <td>0</td>\n",
       "      <td>0</td>\n",
       "      <td>60.00</td>\n",
       "      <td>0</td>\n",
       "      <td>Canceled</td>\n",
       "    </tr>\n",
       "    <tr>\n",
       "      <th>3</th>\n",
       "      <td>INN00004</td>\n",
       "      <td>2</td>\n",
       "      <td>0</td>\n",
       "      <td>0</td>\n",
       "      <td>2</td>\n",
       "      <td>Meal Plan 1</td>\n",
       "      <td>0</td>\n",
       "      <td>Room_Type 1</td>\n",
       "      <td>211</td>\n",
       "      <td>2018</td>\n",
       "      <td>5</td>\n",
       "      <td>20</td>\n",
       "      <td>Online</td>\n",
       "      <td>0</td>\n",
       "      <td>0</td>\n",
       "      <td>0</td>\n",
       "      <td>100.00</td>\n",
       "      <td>0</td>\n",
       "      <td>Canceled</td>\n",
       "    </tr>\n",
       "    <tr>\n",
       "      <th>4</th>\n",
       "      <td>INN00005</td>\n",
       "      <td>2</td>\n",
       "      <td>0</td>\n",
       "      <td>1</td>\n",
       "      <td>1</td>\n",
       "      <td>Not Selected</td>\n",
       "      <td>0</td>\n",
       "      <td>Room_Type 1</td>\n",
       "      <td>48</td>\n",
       "      <td>2018</td>\n",
       "      <td>4</td>\n",
       "      <td>11</td>\n",
       "      <td>Online</td>\n",
       "      <td>0</td>\n",
       "      <td>0</td>\n",
       "      <td>0</td>\n",
       "      <td>94.50</td>\n",
       "      <td>0</td>\n",
       "      <td>Canceled</td>\n",
       "    </tr>\n",
       "  </tbody>\n",
       "</table>\n",
       "</div>"
      ],
      "text/plain": [
       "  Booking_ID  no_of_adults  no_of_children  no_of_weekend_nights  \\\n",
       "0   INN00001             2               0                     1   \n",
       "1   INN00002             2               0                     2   \n",
       "2   INN00003             1               0                     2   \n",
       "3   INN00004             2               0                     0   \n",
       "4   INN00005             2               0                     1   \n",
       "\n",
       "   no_of_week_nights type_of_meal_plan  required_car_parking_space  \\\n",
       "0                  2       Meal Plan 1                           0   \n",
       "1                  3      Not Selected                           0   \n",
       "2                  1       Meal Plan 1                           0   \n",
       "3                  2       Meal Plan 1                           0   \n",
       "4                  1      Not Selected                           0   \n",
       "\n",
       "  room_type_reserved  lead_time  arrival_year  arrival_month  arrival_date  \\\n",
       "0        Room_Type 1        224          2017             10             2   \n",
       "1        Room_Type 1          5          2018             11             6   \n",
       "2        Room_Type 1          1          2018              2            28   \n",
       "3        Room_Type 1        211          2018              5            20   \n",
       "4        Room_Type 1         48          2018              4            11   \n",
       "\n",
       "  market_segment_type  repeated_guest  no_of_previous_cancellations  \\\n",
       "0             Offline               0                             0   \n",
       "1              Online               0                             0   \n",
       "2              Online               0                             0   \n",
       "3              Online               0                             0   \n",
       "4              Online               0                             0   \n",
       "\n",
       "   no_of_previous_bookings_not_canceled  avg_price_per_room  \\\n",
       "0                                     0               65.00   \n",
       "1                                     0              106.68   \n",
       "2                                     0               60.00   \n",
       "3                                     0              100.00   \n",
       "4                                     0               94.50   \n",
       "\n",
       "   no_of_special_requests booking_status  \n",
       "0                       0   Not_Canceled  \n",
       "1                       1   Not_Canceled  \n",
       "2                       0       Canceled  \n",
       "3                       0       Canceled  \n",
       "4                       0       Canceled  "
      ]
     },
     "execution_count": 9,
     "metadata": {},
     "output_type": "execute_result"
    },
    {
     "data": {
      "application/javascript": [
       "\n",
       "            setTimeout(function() {\n",
       "                var nbb_cell_id = 9;\n",
       "                var nbb_unformatted_code = \"# Read Hotel reservations data\\ndf_2 = pd.read_csv(\\\"Hotel Reservations.csv\\\")\\n\\n# Copy data\\nhotel_df = df_2.copy()\\n\\n# View first 5 rows\\nhotel_df.head()\";\n",
       "                var nbb_formatted_code = \"# Read Hotel reservations data\\ndf_2 = pd.read_csv(\\\"Hotel Reservations.csv\\\")\\n\\n# Copy data\\nhotel_df = df_2.copy()\\n\\n# View first 5 rows\\nhotel_df.head()\";\n",
       "                var nbb_cells = Jupyter.notebook.get_cells();\n",
       "                for (var i = 0; i < nbb_cells.length; ++i) {\n",
       "                    if (nbb_cells[i].input_prompt_number == nbb_cell_id) {\n",
       "                        if (nbb_cells[i].get_text() == nbb_unformatted_code) {\n",
       "                             nbb_cells[i].set_text(nbb_formatted_code);\n",
       "                        }\n",
       "                        break;\n",
       "                    }\n",
       "                }\n",
       "            }, 500);\n",
       "            "
      ],
      "text/plain": [
       "<IPython.core.display.Javascript object>"
      ]
     },
     "metadata": {},
     "output_type": "display_data"
    }
   ],
   "source": [
    "# Read Hotel reservations data\n",
    "df_2 = pd.read_csv(\"Hotel Reservations.csv\")\n",
    "\n",
    "# Copy data\n",
    "hotel_df = df_2.copy()\n",
    "\n",
    "# View first 5 rows\n",
    "hotel_df.head()"
   ]
  },
  {
   "cell_type": "code",
   "execution_count": 10,
   "id": "c4c74d9e",
   "metadata": {},
   "outputs": [
    {
     "data": {
      "application/javascript": [
       "\n",
       "            setTimeout(function() {\n",
       "                var nbb_cell_id = 10;\n",
       "                var nbb_unformatted_code = \"class NumericTransformers:\\n    \\\"\\\"\\\"This class is used to apply 'Sigmoid' and 'Cube root'\\n    transformations to the input data (Vector).\\\"\\\"\\\"\\n\\n    def __init__(self, *, x: np.ndarray) -> None:\\n        self.x = x.copy()\\n        self.x_cbrt = np.cbrt(x)\\n        self.x_exp = np.exp(-x)\\n\\n    def sigmoid_transformation(self):\\n        \\\"\\\"\\\"This returns the sigmoid tranformation\\\"\\\"\\\"\\n        x_new = 1 / (1 + self.x_exp)\\n        return x_new\\n\\n    def cube_transformation(self):\\n        \\\"\\\"\\\"This returns the cube tranformation\\\"\\\"\\\"\\n        x_new = self.x_cbrt\\n        return x_new\";\n",
       "                var nbb_formatted_code = \"class NumericTransformers:\\n    \\\"\\\"\\\"This class is used to apply 'Sigmoid' and 'Cube root'\\n    transformations to the input data (Vector).\\\"\\\"\\\"\\n\\n    def __init__(self, *, x: np.ndarray) -> None:\\n        self.x = x.copy()\\n        self.x_cbrt = np.cbrt(x)\\n        self.x_exp = np.exp(-x)\\n\\n    def sigmoid_transformation(self):\\n        \\\"\\\"\\\"This returns the sigmoid tranformation\\\"\\\"\\\"\\n        x_new = 1 / (1 + self.x_exp)\\n        return x_new\\n\\n    def cube_transformation(self):\\n        \\\"\\\"\\\"This returns the cube tranformation\\\"\\\"\\\"\\n        x_new = self.x_cbrt\\n        return x_new\";\n",
       "                var nbb_cells = Jupyter.notebook.get_cells();\n",
       "                for (var i = 0; i < nbb_cells.length; ++i) {\n",
       "                    if (nbb_cells[i].input_prompt_number == nbb_cell_id) {\n",
       "                        if (nbb_cells[i].get_text() == nbb_unformatted_code) {\n",
       "                             nbb_cells[i].set_text(nbb_formatted_code);\n",
       "                        }\n",
       "                        break;\n",
       "                    }\n",
       "                }\n",
       "            }, 500);\n",
       "            "
      ],
      "text/plain": [
       "<IPython.core.display.Javascript object>"
      ]
     },
     "metadata": {},
     "output_type": "display_data"
    }
   ],
   "source": [
    "class NumericTransformers:\n",
    "    \"\"\"This class is used to apply 'Sigmoid' and 'Cube root'\n",
    "    transformations to the input data (Vector).\"\"\"\n",
    "\n",
    "    def __init__(self, *, x: np.ndarray) -> None:\n",
    "        self.x = x.copy()\n",
    "        self.x_cbrt = np.cbrt(x)\n",
    "        self.x_exp = np.exp(-x)\n",
    "\n",
    "    def sigmoid_transformation(self):\n",
    "        \"\"\"This returns the sigmoid tranformation\"\"\"\n",
    "        x_new = 1 / (1 + self.x_exp)\n",
    "        return x_new\n",
    "\n",
    "    def cube_transformation(self):\n",
    "        \"\"\"This returns the cube tranformation\"\"\"\n",
    "        x_new = self.x_cbrt\n",
    "        return x_new"
   ]
  },
  {
   "cell_type": "code",
   "execution_count": 11,
   "id": "5712c2ec-da5b-4dd8-b37e-7fdb0ba7927c",
   "metadata": {
    "id": "5712c2ec-da5b-4dd8-b37e-7fdb0ba7927c",
    "scrolled": true
   },
   "outputs": [
    {
     "data": {
      "text/html": [
       "<div>\n",
       "<style scoped>\n",
       "    .dataframe tbody tr th:only-of-type {\n",
       "        vertical-align: middle;\n",
       "    }\n",
       "\n",
       "    .dataframe tbody tr th {\n",
       "        vertical-align: top;\n",
       "    }\n",
       "\n",
       "    .dataframe thead th {\n",
       "        text-align: right;\n",
       "    }\n",
       "</style>\n",
       "<table border=\"1\" class=\"dataframe\">\n",
       "  <thead>\n",
       "    <tr style=\"text-align: right;\">\n",
       "      <th></th>\n",
       "      <th>no_of_adults</th>\n",
       "      <th>arrival_month</th>\n",
       "      <th>no_of_special_requests</th>\n",
       "    </tr>\n",
       "  </thead>\n",
       "  <tbody>\n",
       "    <tr>\n",
       "      <th>count</th>\n",
       "      <td>36275.000000</td>\n",
       "      <td>36275.000000</td>\n",
       "      <td>36275.000000</td>\n",
       "    </tr>\n",
       "    <tr>\n",
       "      <th>mean</th>\n",
       "      <td>0.852203</td>\n",
       "      <td>0.981613</td>\n",
       "      <td>0.627820</td>\n",
       "    </tr>\n",
       "    <tr>\n",
       "      <th>std</th>\n",
       "      <td>0.069484</td>\n",
       "      <td>0.050257</td>\n",
       "      <td>0.149031</td>\n",
       "    </tr>\n",
       "    <tr>\n",
       "      <th>min</th>\n",
       "      <td>0.500000</td>\n",
       "      <td>0.731059</td>\n",
       "      <td>0.500000</td>\n",
       "    </tr>\n",
       "    <tr>\n",
       "      <th>25%</th>\n",
       "      <td>0.880797</td>\n",
       "      <td>0.993307</td>\n",
       "      <td>0.500000</td>\n",
       "    </tr>\n",
       "    <tr>\n",
       "      <th>50%</th>\n",
       "      <td>0.880797</td>\n",
       "      <td>0.999665</td>\n",
       "      <td>0.500000</td>\n",
       "    </tr>\n",
       "    <tr>\n",
       "      <th>75%</th>\n",
       "      <td>0.880797</td>\n",
       "      <td>0.999955</td>\n",
       "      <td>0.731059</td>\n",
       "    </tr>\n",
       "    <tr>\n",
       "      <th>max</th>\n",
       "      <td>0.982014</td>\n",
       "      <td>0.999994</td>\n",
       "      <td>0.993307</td>\n",
       "    </tr>\n",
       "  </tbody>\n",
       "</table>\n",
       "</div>"
      ],
      "text/plain": [
       "       no_of_adults  arrival_month  no_of_special_requests\n",
       "count  36275.000000   36275.000000            36275.000000\n",
       "mean       0.852203       0.981613                0.627820\n",
       "std        0.069484       0.050257                0.149031\n",
       "min        0.500000       0.731059                0.500000\n",
       "25%        0.880797       0.993307                0.500000\n",
       "50%        0.880797       0.999665                0.500000\n",
       "75%        0.880797       0.999955                0.731059\n",
       "max        0.982014       0.999994                0.993307"
      ]
     },
     "execution_count": 11,
     "metadata": {},
     "output_type": "execute_result"
    },
    {
     "data": {
      "application/javascript": [
       "\n",
       "            setTimeout(function() {\n",
       "                var nbb_cell_id = 11;\n",
       "                var nbb_unformatted_code = \"# 2ai Enter your solution here\\n\\n#  Sigmoid transformation on 'no_of_adults'\\nadults = NumericTransformers(x=hotel_df[\\\"no_of_adults\\\"])\\nadults_st = adults.sigmoid_transformation()\\n\\n#  Sigmoid transformation on 'arrival_month'\\narrival_m = NumericTransformers(x=hotel_df[\\\"arrival_month\\\"])\\narrival_st = arrival_m.sigmoid_transformation()\\n\\n#  Sigmoid transformation on 'no_of_special_requests'\\nspecial_requests = NumericTransformers(x=hotel_df[\\\"no_of_special_requests\\\"])\\nspecial_requests_st = special_requests.sigmoid_transformation()\\n\\n# Creating new df of the newly transformed features for 'SIGMOID TRANSFORMATION'\\nsigmoid_data = pd.DataFrame([adults_st, arrival_st, special_requests_st]).T\\n\\n# Checking the descriptive statistics for 'SIGMOID TRANSFORMATIONS'\\nsigmoid_data.describe()\";\n",
       "                var nbb_formatted_code = \"# 2ai Enter your solution here\\n\\n#  Sigmoid transformation on 'no_of_adults'\\nadults = NumericTransformers(x=hotel_df[\\\"no_of_adults\\\"])\\nadults_st = adults.sigmoid_transformation()\\n\\n#  Sigmoid transformation on 'arrival_month'\\narrival_m = NumericTransformers(x=hotel_df[\\\"arrival_month\\\"])\\narrival_st = arrival_m.sigmoid_transformation()\\n\\n#  Sigmoid transformation on 'no_of_special_requests'\\nspecial_requests = NumericTransformers(x=hotel_df[\\\"no_of_special_requests\\\"])\\nspecial_requests_st = special_requests.sigmoid_transformation()\\n\\n# Creating new df of the newly transformed features for 'SIGMOID TRANSFORMATION'\\nsigmoid_data = pd.DataFrame([adults_st, arrival_st, special_requests_st]).T\\n\\n# Checking the descriptive statistics for 'SIGMOID TRANSFORMATIONS'\\nsigmoid_data.describe()\";\n",
       "                var nbb_cells = Jupyter.notebook.get_cells();\n",
       "                for (var i = 0; i < nbb_cells.length; ++i) {\n",
       "                    if (nbb_cells[i].input_prompt_number == nbb_cell_id) {\n",
       "                        if (nbb_cells[i].get_text() == nbb_unformatted_code) {\n",
       "                             nbb_cells[i].set_text(nbb_formatted_code);\n",
       "                        }\n",
       "                        break;\n",
       "                    }\n",
       "                }\n",
       "            }, 500);\n",
       "            "
      ],
      "text/plain": [
       "<IPython.core.display.Javascript object>"
      ]
     },
     "metadata": {},
     "output_type": "display_data"
    }
   ],
   "source": [
    "# 2ai Enter your solution here\n",
    "\n",
    "#  Sigmoid transformation on 'no_of_adults'\n",
    "adults = NumericTransformers(x=hotel_df[\"no_of_adults\"])\n",
    "adults_st = adults.sigmoid_transformation()\n",
    "\n",
    "#  Sigmoid transformation on 'arrival_month'\n",
    "arrival_m = NumericTransformers(x=hotel_df[\"arrival_month\"])\n",
    "arrival_st = arrival_m.sigmoid_transformation()\n",
    "\n",
    "#  Sigmoid transformation on 'no_of_special_requests'\n",
    "special_requests = NumericTransformers(x=hotel_df[\"no_of_special_requests\"])\n",
    "special_requests_st = special_requests.sigmoid_transformation()\n",
    "\n",
    "# Creating new df of the newly transformed features for 'SIGMOID TRANSFORMATION'\n",
    "sigmoid_data = pd.DataFrame([adults_st, arrival_st, special_requests_st]).T\n",
    "\n",
    "# Checking the descriptive statistics for 'SIGMOID TRANSFORMATIONS'\n",
    "sigmoid_data.describe()\n"
   ]
  },
  {
   "cell_type": "code",
   "execution_count": 12,
   "id": "8dd707b6-58a9-4f76-b1b4-a1bb0a55e8ad",
   "metadata": {
    "id": "8dd707b6-58a9-4f76-b1b4-a1bb0a55e8ad"
   },
   "outputs": [
    {
     "data": {
      "text/html": [
       "<div>\n",
       "<style scoped>\n",
       "    .dataframe tbody tr th:only-of-type {\n",
       "        vertical-align: middle;\n",
       "    }\n",
       "\n",
       "    .dataframe tbody tr th {\n",
       "        vertical-align: top;\n",
       "    }\n",
       "\n",
       "    .dataframe thead th {\n",
       "        text-align: right;\n",
       "    }\n",
       "</style>\n",
       "<table border=\"1\" class=\"dataframe\">\n",
       "  <thead>\n",
       "    <tr style=\"text-align: right;\">\n",
       "      <th></th>\n",
       "      <th>no_of_adults</th>\n",
       "      <th>arrival_month</th>\n",
       "      <th>no_of_special_requests</th>\n",
       "    </tr>\n",
       "  </thead>\n",
       "  <tbody>\n",
       "    <tr>\n",
       "      <th>count</th>\n",
       "      <td>36275.000000</td>\n",
       "      <td>36275.000000</td>\n",
       "      <td>36275.000000</td>\n",
       "    </tr>\n",
       "    <tr>\n",
       "      <th>mean</th>\n",
       "      <td>1.211747</td>\n",
       "      <td>1.901298</td>\n",
       "      <td>0.495722</td>\n",
       "    </tr>\n",
       "    <tr>\n",
       "      <th>std</th>\n",
       "      <td>0.142353</td>\n",
       "      <td>0.319375</td>\n",
       "      <td>0.550934</td>\n",
       "    </tr>\n",
       "    <tr>\n",
       "      <th>min</th>\n",
       "      <td>0.000000</td>\n",
       "      <td>1.000000</td>\n",
       "      <td>0.000000</td>\n",
       "    </tr>\n",
       "    <tr>\n",
       "      <th>25%</th>\n",
       "      <td>1.259921</td>\n",
       "      <td>1.709976</td>\n",
       "      <td>0.000000</td>\n",
       "    </tr>\n",
       "    <tr>\n",
       "      <th>50%</th>\n",
       "      <td>1.259921</td>\n",
       "      <td>2.000000</td>\n",
       "      <td>0.000000</td>\n",
       "    </tr>\n",
       "    <tr>\n",
       "      <th>75%</th>\n",
       "      <td>1.259921</td>\n",
       "      <td>2.154435</td>\n",
       "      <td>1.000000</td>\n",
       "    </tr>\n",
       "    <tr>\n",
       "      <th>max</th>\n",
       "      <td>1.587401</td>\n",
       "      <td>2.289428</td>\n",
       "      <td>1.709976</td>\n",
       "    </tr>\n",
       "  </tbody>\n",
       "</table>\n",
       "</div>"
      ],
      "text/plain": [
       "       no_of_adults  arrival_month  no_of_special_requests\n",
       "count  36275.000000   36275.000000            36275.000000\n",
       "mean       1.211747       1.901298                0.495722\n",
       "std        0.142353       0.319375                0.550934\n",
       "min        0.000000       1.000000                0.000000\n",
       "25%        1.259921       1.709976                0.000000\n",
       "50%        1.259921       2.000000                0.000000\n",
       "75%        1.259921       2.154435                1.000000\n",
       "max        1.587401       2.289428                1.709976"
      ]
     },
     "execution_count": 12,
     "metadata": {},
     "output_type": "execute_result"
    },
    {
     "data": {
      "application/javascript": [
       "\n",
       "            setTimeout(function() {\n",
       "                var nbb_cell_id = 12;\n",
       "                var nbb_unformatted_code = \"# 2aii Enter your solution here\\n\\n#  Cube transformation on 'no_of_adults'\\nadults = NumericTransformers(x=hotel_df[\\\"no_of_adults\\\"])\\nadults_ct = adults.cube_transformation()\\n\\n#  Cube transformation on 'arrival_month'\\narrival_m = NumericTransformers(x=hotel_df[\\\"arrival_month\\\"])\\narrival_ct = arrival_m.cube_transformation()\\n\\n#  Cube transformation on 'no_of_special_requests'\\nspecial_requests = NumericTransformers(x=hotel_df[\\\"no_of_special_requests\\\"])\\nspecial_requests_ct = special_requests.cube_transformation()\\n\\n# Creating new df of the newly transformed features for 'CUBIC TRANSFORMATION'\\ncubic_data = pd.DataFrame([adults_ct, arrival_ct, special_requests_ct]).T\\n\\n# Checking the descriptive statistics for 'CUBIC TRANSFORMATIONS'\\ncubic_data.describe()\";\n",
       "                var nbb_formatted_code = \"# 2aii Enter your solution here\\n\\n#  Cube transformation on 'no_of_adults'\\nadults = NumericTransformers(x=hotel_df[\\\"no_of_adults\\\"])\\nadults_ct = adults.cube_transformation()\\n\\n#  Cube transformation on 'arrival_month'\\narrival_m = NumericTransformers(x=hotel_df[\\\"arrival_month\\\"])\\narrival_ct = arrival_m.cube_transformation()\\n\\n#  Cube transformation on 'no_of_special_requests'\\nspecial_requests = NumericTransformers(x=hotel_df[\\\"no_of_special_requests\\\"])\\nspecial_requests_ct = special_requests.cube_transformation()\\n\\n# Creating new df of the newly transformed features for 'CUBIC TRANSFORMATION'\\ncubic_data = pd.DataFrame([adults_ct, arrival_ct, special_requests_ct]).T\\n\\n# Checking the descriptive statistics for 'CUBIC TRANSFORMATIONS'\\ncubic_data.describe()\";\n",
       "                var nbb_cells = Jupyter.notebook.get_cells();\n",
       "                for (var i = 0; i < nbb_cells.length; ++i) {\n",
       "                    if (nbb_cells[i].input_prompt_number == nbb_cell_id) {\n",
       "                        if (nbb_cells[i].get_text() == nbb_unformatted_code) {\n",
       "                             nbb_cells[i].set_text(nbb_formatted_code);\n",
       "                        }\n",
       "                        break;\n",
       "                    }\n",
       "                }\n",
       "            }, 500);\n",
       "            "
      ],
      "text/plain": [
       "<IPython.core.display.Javascript object>"
      ]
     },
     "metadata": {},
     "output_type": "display_data"
    }
   ],
   "source": [
    "# 2aii Enter your solution here\n",
    "\n",
    "#  Cube transformation on 'no_of_adults'\n",
    "adults = NumericTransformers(x=hotel_df[\"no_of_adults\"])\n",
    "adults_ct = adults.cube_transformation()\n",
    "\n",
    "#  Cube transformation on 'arrival_month'\n",
    "arrival_m = NumericTransformers(x=hotel_df[\"arrival_month\"])\n",
    "arrival_ct = arrival_m.cube_transformation()\n",
    "\n",
    "#  Cube transformation on 'no_of_special_requests'\n",
    "special_requests = NumericTransformers(x=hotel_df[\"no_of_special_requests\"])\n",
    "special_requests_ct = special_requests.cube_transformation()\n",
    "\n",
    "# Creating new df of the newly transformed features for 'CUBIC TRANSFORMATION'\n",
    "cubic_data = pd.DataFrame([adults_ct, arrival_ct, special_requests_ct]).T\n",
    "\n",
    "# Checking the descriptive statistics for 'CUBIC TRANSFORMATIONS'\n",
    "cubic_data.describe()"
   ]
  },
  {
   "cell_type": "code",
   "execution_count": 13,
   "id": "f6b0870b-5e9b-4e0a-aacd-953c0618a59b",
   "metadata": {
    "id": "f6b0870b-5e9b-4e0a-aacd-953c0618a59b"
   },
   "outputs": [
    {
     "data": {
      "application/javascript": [
       "\n",
       "            setTimeout(function() {\n",
       "                var nbb_cell_id = 13;\n",
       "                var nbb_unformatted_code = \"# 2b Enter your solution here\\n\\n# Numeric features\\nnum_data = hotel_df.select_dtypes(exclude=\\\"O\\\")\\ncorr_matrix = num_data.corr()\";\n",
       "                var nbb_formatted_code = \"# 2b Enter your solution here\\n\\n# Numeric features\\nnum_data = hotel_df.select_dtypes(exclude=\\\"O\\\")\\ncorr_matrix = num_data.corr()\";\n",
       "                var nbb_cells = Jupyter.notebook.get_cells();\n",
       "                for (var i = 0; i < nbb_cells.length; ++i) {\n",
       "                    if (nbb_cells[i].input_prompt_number == nbb_cell_id) {\n",
       "                        if (nbb_cells[i].get_text() == nbb_unformatted_code) {\n",
       "                             nbb_cells[i].set_text(nbb_formatted_code);\n",
       "                        }\n",
       "                        break;\n",
       "                    }\n",
       "                }\n",
       "            }, 500);\n",
       "            "
      ],
      "text/plain": [
       "<IPython.core.display.Javascript object>"
      ]
     },
     "metadata": {},
     "output_type": "display_data"
    }
   ],
   "source": [
    "# 2b Enter your solution here\n",
    "\n",
    "# Numeric features\n",
    "num_data = hotel_df.select_dtypes(exclude=\"O\")\n",
    "corr_matrix = num_data.corr()"
   ]
  },
  {
   "cell_type": "code",
   "execution_count": 14,
   "id": "015e0881-f01e-4c25-8b03-197bcb8f622b",
   "metadata": {
    "id": "015e0881-f01e-4c25-8b03-197bcb8f622b",
    "scrolled": true
   },
   "outputs": [
    {
     "data": {
      "image/png": "[encoded data removed]",
      "text/plain": [
       "<Figure size 1000x800 with 2 Axes>"
      ]
     },
     "metadata": {},
     "output_type": "display_data"
    },
    {
     "data": {
      "application/javascript": [
       "\n",
       "            setTimeout(function() {\n",
       "                var nbb_cell_id = 14;\n",
       "                var nbb_unformatted_code = \"plt.figure(figsize=[10, 8])\\nsns.heatmap(data=corr_matrix, annot=True, fmt=\\\".2f\\\")\\nplt.title(\\\"HEAT MAP OF NUMERIC FEATURES\\\")\\nplt.show()\";\n",
       "                var nbb_formatted_code = \"plt.figure(figsize=[10, 8])\\nsns.heatmap(data=corr_matrix, annot=True, fmt=\\\".2f\\\")\\nplt.title(\\\"HEAT MAP OF NUMERIC FEATURES\\\")\\nplt.show()\";\n",
       "                var nbb_cells = Jupyter.notebook.get_cells();\n",
       "                for (var i = 0; i < nbb_cells.length; ++i) {\n",
       "                    if (nbb_cells[i].input_prompt_number == nbb_cell_id) {\n",
       "                        if (nbb_cells[i].get_text() == nbb_unformatted_code) {\n",
       "                             nbb_cells[i].set_text(nbb_formatted_code);\n",
       "                        }\n",
       "                        break;\n",
       "                    }\n",
       "                }\n",
       "            }, 500);\n",
       "            "
      ],
      "text/plain": [
       "<IPython.core.display.Javascript object>"
      ]
     },
     "metadata": {},
     "output_type": "display_data"
    }
   ],
   "source": [
    "plt.figure(figsize=[10, 8])\n",
    "sns.heatmap(data=corr_matrix, annot=True, fmt=\".2f\")\n",
    "plt.title(\"HEAT MAP OF NUMERIC FEATURES\")\n",
    "plt.show()"
   ]
  },
  {
   "cell_type": "markdown",
   "id": "a584bf3e-01a4-49c3-ad12-18dd420ffa0b",
   "metadata": {
    "id": "a584bf3e-01a4-49c3-ad12-18dd420ffa0b"
   },
   "source": [
    "### Qs 3:\n",
    "\n",
    "Given the string shown below\n",
    "\n",
    "```python\n",
    "my_string = (\n",
    "    \"You can call me on this number:(+234) 287 576 3098 or 0808 576 8013. The first number is my personal number. \"\n",
    "    \"Kyle Stevens, one of the company’s researchers, called on companies to buy fake URLs so that they can’t \"\n",
    "    \"be used by scammers for example:'www.barclays-supports.com'.\"\n",
    "    \"https://zadarma.com/en/tariffs/numbers/united-states/mobile/ \"\n",
    "    \"This is not even a valid url www.xyz .stutern.com. I tried calling this number:0803 5771 42 but it's invalid! \"\n",
    "    \"Some random number +1-814-300-8859 which I found on this website:\"\n",
    "    \"https://zadarma.com/en/tariffs/numbers/united-states/mobile/ \"\n",
    "    \"https://drive.google.com/file/d/1oP5Xz-Nrze3cK5p56XS2UcxQN1B-kZs9/view?usp=share_link \"\n",
    ")\n",
    "```\n",
    "a.) Write a RegEx pattern that displays all the valid:\n",
    "\n",
    "    i.) URLs\n",
    "\n",
    "    ii.) phone numbers (11 or more digits)\n",
    "\n",
    "b.) Given the array shown below:\n",
    "\n",
    "```python\n",
    "rng = np.random.default_rng(seed=15)\n",
    "A = rng.random(size=(10, 5))\n",
    "```\n",
    "\n",
    "i.) write a code that **normalizes** the array, `A` using:\n",
    "\n",
    "$$\n",
    "x_{new} = \\frac{x_{i} - x_{min}}{x_{max} - x_{min}}\n",
    "$$\n",
    "\n",
    "* Return the **descriptive statistics** of the normalized array.\n",
    "\n",
    "ii.) Create **histogram** of the normalized array, `A`"
   ]
  },
  {
   "cell_type": "markdown",
   "id": "f06c2216",
   "metadata": {},
   "source": [
    "<hr>"
   ]
  },
  {
   "cell_type": "code",
   "execution_count": 15,
   "id": "e03b1e87",
   "metadata": {},
   "outputs": [
    {
     "data": {
      "application/javascript": [
       "\n",
       "            setTimeout(function() {\n",
       "                var nbb_cell_id = 15;\n",
       "                var nbb_unformatted_code = \"my_string = (\\n    \\\"You can call me on this number:(+234) 287 576 3098 or 0808 576 8013. The first number is my personal number. \\\"\\n    \\\"Kyle Stevens, one of the company\\u2019s researchers, called on companies to buy fake URLs so that they can\\u2019t \\\"\\n    \\\"be used by scammers for example:'www.barclays-supports.com'.\\\"\\n    \\\"https://zadarma.com/en/tariffs/numbers/united-states/mobile/ \\\"\\n    \\\"This is not even a valid url www.xyz .stutern.com. I tried calling this number:0803 5771 42 but it's invalid! \\\"\\n    \\\"Some random number +1-814-300-8859 which I found on this website:\\\"\\n    \\\"https://zadarma.com/en/tariffs/numbers/united-states/mobile/ \\\"\\n    \\\"https://drive.google.com/file/d/1oP5Xz-Nrze3cK5p56XS2UcxQN1B-kZs9/view?usp=share_link \\\"\\n)\";\n",
       "                var nbb_formatted_code = \"my_string = (\\n    \\\"You can call me on this number:(+234) 287 576 3098 or 0808 576 8013. The first number is my personal number. \\\"\\n    \\\"Kyle Stevens, one of the company\\u2019s researchers, called on companies to buy fake URLs so that they can\\u2019t \\\"\\n    \\\"be used by scammers for example:'www.barclays-supports.com'.\\\"\\n    \\\"https://zadarma.com/en/tariffs/numbers/united-states/mobile/ \\\"\\n    \\\"This is not even a valid url www.xyz .stutern.com. I tried calling this number:0803 5771 42 but it's invalid! \\\"\\n    \\\"Some random number +1-814-300-8859 which I found on this website:\\\"\\n    \\\"https://zadarma.com/en/tariffs/numbers/united-states/mobile/ \\\"\\n    \\\"https://drive.google.com/file/d/1oP5Xz-Nrze3cK5p56XS2UcxQN1B-kZs9/view?usp=share_link \\\"\\n)\";\n",
       "                var nbb_cells = Jupyter.notebook.get_cells();\n",
       "                for (var i = 0; i < nbb_cells.length; ++i) {\n",
       "                    if (nbb_cells[i].input_prompt_number == nbb_cell_id) {\n",
       "                        if (nbb_cells[i].get_text() == nbb_unformatted_code) {\n",
       "                             nbb_cells[i].set_text(nbb_formatted_code);\n",
       "                        }\n",
       "                        break;\n",
       "                    }\n",
       "                }\n",
       "            }, 500);\n",
       "            "
      ],
      "text/plain": [
       "<IPython.core.display.Javascript object>"
      ]
     },
     "metadata": {},
     "output_type": "display_data"
    }
   ],
   "source": [
    "my_string = (\n",
    "    \"You can call me on this number:(+234) 287 576 3098 or 0808 576 8013. The first number is my personal number. \"\n",
    "    \"Kyle Stevens, one of the company’s researchers, called on companies to buy fake URLs so that they can’t \"\n",
    "    \"be used by scammers for example:'www.barclays-supports.com'.\"\n",
    "    \"https://zadarma.com/en/tariffs/numbers/united-states/mobile/ \"\n",
    "    \"This is not even a valid url www.xyz .stutern.com. I tried calling this number:0803 5771 42 but it's invalid! \"\n",
    "    \"Some random number +1-814-300-8859 which I found on this website:\"\n",
    "    \"https://zadarma.com/en/tariffs/numbers/united-states/mobile/ \"\n",
    "    \"https://drive.google.com/file/d/1oP5Xz-Nrze3cK5p56XS2UcxQN1B-kZs9/view?usp=share_link \"\n",
    ")"
   ]
  },
  {
   "cell_type": "code",
   "execution_count": 16,
   "id": "df783f1e-bd9c-4e14-84d5-22e755b8143d",
   "metadata": {
    "id": "df783f1e-bd9c-4e14-84d5-22e755b8143d"
   },
   "outputs": [
    {
     "data": {
      "text/plain": [
       "['www.barclays-supports.com',\n",
       " 'https://zadarma.com/en/tariffs/numbers/united-states/mobile/',\n",
       " 'https://zadarma.com/en/tariffs/numbers/united-states/mobile/',\n",
       " 'https://drive.google.com/file/d/1oP5Xz-Nrze3cK5p56XS2UcxQN1B-kZs9/view?usp=share_link']"
      ]
     },
     "execution_count": 16,
     "metadata": {},
     "output_type": "execute_result"
    },
    {
     "data": {
      "application/javascript": [
       "\n",
       "            setTimeout(function() {\n",
       "                var nbb_cell_id = 16;\n",
       "                var nbb_unformatted_code = \"# 3ai Enter your solution here\\n\\n# Using regex to find all valid url\\nurl_pattern = r\\\"(\\\\bhttp[s].?\\\\S+\\\" \\\"|www.?\\\\w{4,10}\\\\-*\\\\w*\\\\.*\\\\w*)\\\"\\nvalid_url = re.findall(pattern=url_pattern, string=my_string, flags=re.I)\\nvalid_url\";\n",
       "                var nbb_formatted_code = \"# 3ai Enter your solution here\\n\\n# Using regex to find all valid url\\nurl_pattern = r\\\"(\\\\bhttp[s].?\\\\S+\\\" \\\"|www.?\\\\w{4,10}\\\\-*\\\\w*\\\\.*\\\\w*)\\\"\\nvalid_url = re.findall(pattern=url_pattern, string=my_string, flags=re.I)\\nvalid_url\";\n",
       "                var nbb_cells = Jupyter.notebook.get_cells();\n",
       "                for (var i = 0; i < nbb_cells.length; ++i) {\n",
       "                    if (nbb_cells[i].input_prompt_number == nbb_cell_id) {\n",
       "                        if (nbb_cells[i].get_text() == nbb_unformatted_code) {\n",
       "                             nbb_cells[i].set_text(nbb_formatted_code);\n",
       "                        }\n",
       "                        break;\n",
       "                    }\n",
       "                }\n",
       "            }, 500);\n",
       "            "
      ],
      "text/plain": [
       "<IPython.core.display.Javascript object>"
      ]
     },
     "metadata": {},
     "output_type": "display_data"
    }
   ],
   "source": [
    "# 3ai Enter your solution here\n",
    "\n",
    "# Using regex to find all valid url\n",
    "url_pattern = r\"(\\bhttp[s].?\\S+\" \"|www.?\\w{4,10}\\-*\\w*\\.*\\w*)\"\n",
    "valid_url = re.findall(pattern=url_pattern, string=my_string, flags=re.I)\n",
    "valid_url"
   ]
  },
  {
   "cell_type": "code",
   "execution_count": 17,
   "id": "98c1d71c-8356-4287-8038-86e760fce8ea",
   "metadata": {
    "id": "98c1d71c-8356-4287-8038-86e760fce8ea"
   },
   "outputs": [
    {
     "data": {
      "text/plain": [
       "['(+234) 287 576 3098', '0808 576 8013', '+1-814-300-8859']"
      ]
     },
     "execution_count": 17,
     "metadata": {},
     "output_type": "execute_result"
    },
    {
     "data": {
      "application/javascript": [
       "\n",
       "            setTimeout(function() {\n",
       "                var nbb_cell_id = 17;\n",
       "                var nbb_unformatted_code = \"# 3aii Enter your solution here\\n\\n# Using regex to find all phone numbers of 11 or more digits\\npattern = r\\\"(\\\\(*\\\\+?\\\\d+.?\\\\s*\\\\-*\\\\d{3,4}\\\\s*\\\\-*\\\\d{3,4}\\\\s*\\\\-*\\\\d{3,4})\\\"\\nphone_no = re.compile(pattern=pattern, flags=re.I).findall(string=my_string)\\nphone_no\";\n",
       "                var nbb_formatted_code = \"# 3aii Enter your solution here\\n\\n# Using regex to find all phone numbers of 11 or more digits\\npattern = r\\\"(\\\\(*\\\\+?\\\\d+.?\\\\s*\\\\-*\\\\d{3,4}\\\\s*\\\\-*\\\\d{3,4}\\\\s*\\\\-*\\\\d{3,4})\\\"\\nphone_no = re.compile(pattern=pattern, flags=re.I).findall(string=my_string)\\nphone_no\";\n",
       "                var nbb_cells = Jupyter.notebook.get_cells();\n",
       "                for (var i = 0; i < nbb_cells.length; ++i) {\n",
       "                    if (nbb_cells[i].input_prompt_number == nbb_cell_id) {\n",
       "                        if (nbb_cells[i].get_text() == nbb_unformatted_code) {\n",
       "                             nbb_cells[i].set_text(nbb_formatted_code);\n",
       "                        }\n",
       "                        break;\n",
       "                    }\n",
       "                }\n",
       "            }, 500);\n",
       "            "
      ],
      "text/plain": [
       "<IPython.core.display.Javascript object>"
      ]
     },
     "metadata": {},
     "output_type": "display_data"
    }
   ],
   "source": [
    "# 3aii Enter your solution here\n",
    "\n",
    "# Using regex to find all phone numbers of 11 or more digits\n",
    "pattern = r\"(\\(*\\+?\\d+.?\\s*\\-*\\d{3,4}\\s*\\-*\\d{3,4}\\s*\\-*\\d{3,4})\"\n",
    "phone_no = re.compile(pattern=pattern, flags=re.I).findall(string=my_string)\n",
    "phone_no"
   ]
  },
  {
   "cell_type": "code",
   "execution_count": 18,
   "id": "441eba4d-e7a9-4d79-8b98-3d7c8f8fe8ba",
   "metadata": {
    "id": "441eba4d-e7a9-4d79-8b98-3d7c8f8fe8ba"
   },
   "outputs": [
    {
     "data": {
      "application/javascript": [
       "\n",
       "            setTimeout(function() {\n",
       "                var nbb_cell_id = 18;\n",
       "                var nbb_unformatted_code = \"# 3bi Enter your solution here\\nrng = np.random.default_rng(seed=15)\\nA = rng.random(size=(10, 5))\";\n",
       "                var nbb_formatted_code = \"# 3bi Enter your solution here\\nrng = np.random.default_rng(seed=15)\\nA = rng.random(size=(10, 5))\";\n",
       "                var nbb_cells = Jupyter.notebook.get_cells();\n",
       "                for (var i = 0; i < nbb_cells.length; ++i) {\n",
       "                    if (nbb_cells[i].input_prompt_number == nbb_cell_id) {\n",
       "                        if (nbb_cells[i].get_text() == nbb_unformatted_code) {\n",
       "                             nbb_cells[i].set_text(nbb_formatted_code);\n",
       "                        }\n",
       "                        break;\n",
       "                    }\n",
       "                }\n",
       "            }, 500);\n",
       "            "
      ],
      "text/plain": [
       "<IPython.core.display.Javascript object>"
      ]
     },
     "metadata": {},
     "output_type": "display_data"
    }
   ],
   "source": [
    "# 3bi Enter your solution here\n",
    "rng = np.random.default_rng(seed=15)\n",
    "A = rng.random(size=(10, 5))"
   ]
  },
  {
   "cell_type": "code",
   "execution_count": 19,
   "id": "bb1da207",
   "metadata": {},
   "outputs": [
    {
     "data": {
      "application/javascript": [
       "\n",
       "            setTimeout(function() {\n",
       "                var nbb_cell_id = 19;\n",
       "                var nbb_unformatted_code = \"def normalize(x):\\n    \\\"\\\"\\\"This fuction is used to normalize\\\"\\\"\\\"\\n    x_min = np.min(x)\\n    x_max = np.max(x)\\n    x_new = (x - x_min) / (x_max - x_min)\\n    return x_new\";\n",
       "                var nbb_formatted_code = \"def normalize(x):\\n    \\\"\\\"\\\"This fuction is used to normalize\\\"\\\"\\\"\\n    x_min = np.min(x)\\n    x_max = np.max(x)\\n    x_new = (x - x_min) / (x_max - x_min)\\n    return x_new\";\n",
       "                var nbb_cells = Jupyter.notebook.get_cells();\n",
       "                for (var i = 0; i < nbb_cells.length; ++i) {\n",
       "                    if (nbb_cells[i].input_prompt_number == nbb_cell_id) {\n",
       "                        if (nbb_cells[i].get_text() == nbb_unformatted_code) {\n",
       "                             nbb_cells[i].set_text(nbb_formatted_code);\n",
       "                        }\n",
       "                        break;\n",
       "                    }\n",
       "                }\n",
       "            }, 500);\n",
       "            "
      ],
      "text/plain": [
       "<IPython.core.display.Javascript object>"
      ]
     },
     "metadata": {},
     "output_type": "display_data"
    }
   ],
   "source": [
    "def normalize(x):\n",
    "    \"\"\"This fuction is used to normalize\"\"\"\n",
    "    x_min = np.min(x)\n",
    "    x_max = np.max(x)\n",
    "    x_new = (x - x_min) / (x_max - x_min)\n",
    "    return x_new"
   ]
  },
  {
   "cell_type": "code",
   "execution_count": 20,
   "id": "acf1a7b4",
   "metadata": {},
   "outputs": [
    {
     "data": {
      "text/html": [
       "<div>\n",
       "<style scoped>\n",
       "    .dataframe tbody tr th:only-of-type {\n",
       "        vertical-align: middle;\n",
       "    }\n",
       "\n",
       "    .dataframe tbody tr th {\n",
       "        vertical-align: top;\n",
       "    }\n",
       "\n",
       "    .dataframe thead th {\n",
       "        text-align: right;\n",
       "    }\n",
       "</style>\n",
       "<table border=\"1\" class=\"dataframe\">\n",
       "  <thead>\n",
       "    <tr style=\"text-align: right;\">\n",
       "      <th></th>\n",
       "      <th>0</th>\n",
       "      <th>1</th>\n",
       "      <th>2</th>\n",
       "      <th>3</th>\n",
       "      <th>4</th>\n",
       "    </tr>\n",
       "  </thead>\n",
       "  <tbody>\n",
       "    <tr>\n",
       "      <th>0</th>\n",
       "      <td>0.704076</td>\n",
       "      <td>0.832562</td>\n",
       "      <td>0.340421</td>\n",
       "      <td>0.027678</td>\n",
       "      <td>0.577602</td>\n",
       "    </tr>\n",
       "    <tr>\n",
       "      <th>1</th>\n",
       "      <td>0.133545</td>\n",
       "      <td>0.731248</td>\n",
       "      <td>0.341412</td>\n",
       "      <td>0.457975</td>\n",
       "      <td>0.999724</td>\n",
       "    </tr>\n",
       "    <tr>\n",
       "      <th>2</th>\n",
       "      <td>0.796700</td>\n",
       "      <td>0.861765</td>\n",
       "      <td>0.560394</td>\n",
       "      <td>0.963898</td>\n",
       "      <td>0.000000</td>\n",
       "    </tr>\n",
       "    <tr>\n",
       "      <th>3</th>\n",
       "      <td>0.909155</td>\n",
       "      <td>0.387767</td>\n",
       "      <td>0.222799</td>\n",
       "      <td>0.538763</td>\n",
       "      <td>0.967102</td>\n",
       "    </tr>\n",
       "    <tr>\n",
       "      <th>4</th>\n",
       "      <td>0.326423</td>\n",
       "      <td>0.929447</td>\n",
       "      <td>0.468751</td>\n",
       "      <td>0.990693</td>\n",
       "      <td>0.778703</td>\n",
       "    </tr>\n",
       "    <tr>\n",
       "      <th>5</th>\n",
       "      <td>0.798671</td>\n",
       "      <td>0.358294</td>\n",
       "      <td>0.594505</td>\n",
       "      <td>0.240348</td>\n",
       "      <td>0.816194</td>\n",
       "    </tr>\n",
       "    <tr>\n",
       "      <th>6</th>\n",
       "      <td>0.250764</td>\n",
       "      <td>0.683057</td>\n",
       "      <td>0.059527</td>\n",
       "      <td>0.238594</td>\n",
       "      <td>0.354737</td>\n",
       "    </tr>\n",
       "    <tr>\n",
       "      <th>7</th>\n",
       "      <td>0.160490</td>\n",
       "      <td>0.252610</td>\n",
       "      <td>0.191546</td>\n",
       "      <td>0.022381</td>\n",
       "      <td>0.338815</td>\n",
       "    </tr>\n",
       "    <tr>\n",
       "      <th>8</th>\n",
       "      <td>0.469710</td>\n",
       "      <td>0.416571</td>\n",
       "      <td>0.919950</td>\n",
       "      <td>0.073651</td>\n",
       "      <td>0.632274</td>\n",
       "    </tr>\n",
       "    <tr>\n",
       "      <th>9</th>\n",
       "      <td>0.344941</td>\n",
       "      <td>0.007978</td>\n",
       "      <td>0.787860</td>\n",
       "      <td>0.421441</td>\n",
       "      <td>1.000000</td>\n",
       "    </tr>\n",
       "  </tbody>\n",
       "</table>\n",
       "</div>"
      ],
      "text/plain": [
       "          0         1         2         3         4\n",
       "0  0.704076  0.832562  0.340421  0.027678  0.577602\n",
       "1  0.133545  0.731248  0.341412  0.457975  0.999724\n",
       "2  0.796700  0.861765  0.560394  0.963898  0.000000\n",
       "3  0.909155  0.387767  0.222799  0.538763  0.967102\n",
       "4  0.326423  0.929447  0.468751  0.990693  0.778703\n",
       "5  0.798671  0.358294  0.594505  0.240348  0.816194\n",
       "6  0.250764  0.683057  0.059527  0.238594  0.354737\n",
       "7  0.160490  0.252610  0.191546  0.022381  0.338815\n",
       "8  0.469710  0.416571  0.919950  0.073651  0.632274\n",
       "9  0.344941  0.007978  0.787860  0.421441  1.000000"
      ]
     },
     "execution_count": 20,
     "metadata": {},
     "output_type": "execute_result"
    },
    {
     "data": {
      "application/javascript": [
       "\n",
       "            setTimeout(function() {\n",
       "                var nbb_cell_id = 20;\n",
       "                var nbb_unformatted_code = \"normalized_A = normalize(A)\\ndf_A = pd.DataFrame(normalized_A)\\ndf_A\";\n",
       "                var nbb_formatted_code = \"normalized_A = normalize(A)\\ndf_A = pd.DataFrame(normalized_A)\\ndf_A\";\n",
       "                var nbb_cells = Jupyter.notebook.get_cells();\n",
       "                for (var i = 0; i < nbb_cells.length; ++i) {\n",
       "                    if (nbb_cells[i].input_prompt_number == nbb_cell_id) {\n",
       "                        if (nbb_cells[i].get_text() == nbb_unformatted_code) {\n",
       "                             nbb_cells[i].set_text(nbb_formatted_code);\n",
       "                        }\n",
       "                        break;\n",
       "                    }\n",
       "                }\n",
       "            }, 500);\n",
       "            "
      ],
      "text/plain": [
       "<IPython.core.display.Javascript object>"
      ]
     },
     "metadata": {},
     "output_type": "display_data"
    }
   ],
   "source": [
    "normalized_A = normalize(A)\n",
    "df_A = pd.DataFrame(normalized_A)\n",
    "df_A"
   ]
  },
  {
   "cell_type": "code",
   "execution_count": 21,
   "id": "32f3ff00",
   "metadata": {},
   "outputs": [
    {
     "data": {
      "text/html": [
       "<div>\n",
       "<style scoped>\n",
       "    .dataframe tbody tr th:only-of-type {\n",
       "        vertical-align: middle;\n",
       "    }\n",
       "\n",
       "    .dataframe tbody tr th {\n",
       "        vertical-align: top;\n",
       "    }\n",
       "\n",
       "    .dataframe thead th {\n",
       "        text-align: right;\n",
       "    }\n",
       "</style>\n",
       "<table border=\"1\" class=\"dataframe\">\n",
       "  <thead>\n",
       "    <tr style=\"text-align: right;\">\n",
       "      <th></th>\n",
       "      <th>0</th>\n",
       "      <th>1</th>\n",
       "      <th>2</th>\n",
       "      <th>3</th>\n",
       "      <th>4</th>\n",
       "    </tr>\n",
       "  </thead>\n",
       "  <tbody>\n",
       "    <tr>\n",
       "      <th>count</th>\n",
       "      <td>10.000000</td>\n",
       "      <td>10.000000</td>\n",
       "      <td>10.000000</td>\n",
       "      <td>10.000000</td>\n",
       "      <td>10.000000</td>\n",
       "    </tr>\n",
       "    <tr>\n",
       "      <th>mean</th>\n",
       "      <td>0.489447</td>\n",
       "      <td>0.546130</td>\n",
       "      <td>0.448717</td>\n",
       "      <td>0.397542</td>\n",
       "      <td>0.646515</td>\n",
       "    </tr>\n",
       "    <tr>\n",
       "      <th>std</th>\n",
       "      <td>0.289048</td>\n",
       "      <td>0.304508</td>\n",
       "      <td>0.271435</td>\n",
       "      <td>0.354210</td>\n",
       "      <td>0.333582</td>\n",
       "    </tr>\n",
       "    <tr>\n",
       "      <th>min</th>\n",
       "      <td>0.133545</td>\n",
       "      <td>0.007978</td>\n",
       "      <td>0.059527</td>\n",
       "      <td>0.022381</td>\n",
       "      <td>0.000000</td>\n",
       "    </tr>\n",
       "    <tr>\n",
       "      <th>25%</th>\n",
       "      <td>0.269679</td>\n",
       "      <td>0.365662</td>\n",
       "      <td>0.252205</td>\n",
       "      <td>0.114887</td>\n",
       "      <td>0.410454</td>\n",
       "    </tr>\n",
       "    <tr>\n",
       "      <th>50%</th>\n",
       "      <td>0.407325</td>\n",
       "      <td>0.549814</td>\n",
       "      <td>0.405082</td>\n",
       "      <td>0.330894</td>\n",
       "      <td>0.705488</td>\n",
       "    </tr>\n",
       "    <tr>\n",
       "      <th>75%</th>\n",
       "      <td>0.773544</td>\n",
       "      <td>0.807233</td>\n",
       "      <td>0.585977</td>\n",
       "      <td>0.518566</td>\n",
       "      <td>0.929375</td>\n",
       "    </tr>\n",
       "    <tr>\n",
       "      <th>max</th>\n",
       "      <td>0.909155</td>\n",
       "      <td>0.929447</td>\n",
       "      <td>0.919950</td>\n",
       "      <td>0.990693</td>\n",
       "      <td>1.000000</td>\n",
       "    </tr>\n",
       "  </tbody>\n",
       "</table>\n",
       "</div>"
      ],
      "text/plain": [
       "               0          1          2          3          4\n",
       "count  10.000000  10.000000  10.000000  10.000000  10.000000\n",
       "mean    0.489447   0.546130   0.448717   0.397542   0.646515\n",
       "std     0.289048   0.304508   0.271435   0.354210   0.333582\n",
       "min     0.133545   0.007978   0.059527   0.022381   0.000000\n",
       "25%     0.269679   0.365662   0.252205   0.114887   0.410454\n",
       "50%     0.407325   0.549814   0.405082   0.330894   0.705488\n",
       "75%     0.773544   0.807233   0.585977   0.518566   0.929375\n",
       "max     0.909155   0.929447   0.919950   0.990693   1.000000"
      ]
     },
     "execution_count": 21,
     "metadata": {},
     "output_type": "execute_result"
    },
    {
     "data": {
      "application/javascript": [
       "\n",
       "            setTimeout(function() {\n",
       "                var nbb_cell_id = 21;\n",
       "                var nbb_unformatted_code = \"df_A.describe()\";\n",
       "                var nbb_formatted_code = \"df_A.describe()\";\n",
       "                var nbb_cells = Jupyter.notebook.get_cells();\n",
       "                for (var i = 0; i < nbb_cells.length; ++i) {\n",
       "                    if (nbb_cells[i].input_prompt_number == nbb_cell_id) {\n",
       "                        if (nbb_cells[i].get_text() == nbb_unformatted_code) {\n",
       "                             nbb_cells[i].set_text(nbb_formatted_code);\n",
       "                        }\n",
       "                        break;\n",
       "                    }\n",
       "                }\n",
       "            }, 500);\n",
       "            "
      ],
      "text/plain": [
       "<IPython.core.display.Javascript object>"
      ]
     },
     "metadata": {},
     "output_type": "display_data"
    }
   ],
   "source": [
    "df_A.describe()"
   ]
  },
  {
   "cell_type": "code",
   "execution_count": 22,
   "id": "5d7ae9eb",
   "metadata": {},
   "outputs": [
    {
     "data": {
      "text/plain": [
       "<AxesSubplot: ylabel='Count'>"
      ]
     },
     "execution_count": 22,
     "metadata": {},
     "output_type": "execute_result"
    },
    {
     "data": {
      "image/png": "[encoded data removed]",
      "text/plain": [
       "<Figure size 640x480 with 1 Axes>"
      ]
     },
     "metadata": {},
     "output_type": "display_data"
    },
    {
     "data": {
      "application/javascript": [
       "\n",
       "            setTimeout(function() {\n",
       "                var nbb_cell_id = 22;\n",
       "                var nbb_unformatted_code = \"# 3bii Enter your solution here\\n\\n# Histogram of the normalized array (I don't get the chart)\\nsns.histplot(data=normalized_A)\";\n",
       "                var nbb_formatted_code = \"# 3bii Enter your solution here\\n\\n# Histogram of the normalized array (I don't get the chart)\\nsns.histplot(data=normalized_A)\";\n",
       "                var nbb_cells = Jupyter.notebook.get_cells();\n",
       "                for (var i = 0; i < nbb_cells.length; ++i) {\n",
       "                    if (nbb_cells[i].input_prompt_number == nbb_cell_id) {\n",
       "                        if (nbb_cells[i].get_text() == nbb_unformatted_code) {\n",
       "                             nbb_cells[i].set_text(nbb_formatted_code);\n",
       "                        }\n",
       "                        break;\n",
       "                    }\n",
       "                }\n",
       "            }, 500);\n",
       "            "
      ],
      "text/plain": [
       "<IPython.core.display.Javascript object>"
      ]
     },
     "metadata": {},
     "output_type": "display_data"
    }
   ],
   "source": [
    "# 3bii Enter your solution here\n",
    "\n",
    "# Histogram of the normalized array (I don't get the chart)\n",
    "sns.histplot(data=normalized_A)"
   ]
  },
  {
   "cell_type": "markdown",
   "id": "6351ce1f",
   "metadata": {
    "id": "6a3f7861-637a-4d9a-8f2b-b7294a16a908"
   },
   "source": [
    "<hr>"
   ]
  },
  {
   "cell_type": "markdown",
   "id": "e276adc7-89d9-4e69-8436-9336be6c5304",
   "metadata": {
    "id": "e276adc7-89d9-4e69-8436-9336be6c5304"
   },
   "source": [
    "### Qs 4\n",
    "\n",
    "#### The data can be found [here](https://drive.google.com/file/d/1oP5Xz-Nrze3cK5p56XS2UcxQN1B-kZs9/view?usp=share_link)\n",
    "\n",
    "a.) Clean the following columns: `price`, `SSD(GB)`, `warranty(years)`, `Display(inch)` \\\n",
    "Note: Return numerical values for the cleaned columns with the corresponding unit as the appended to the column name. \\\n",
    "e.g. \\\n",
    "SSD(GB) retuns: \\\n",
    "`512 GB HDD|512 GB SSD`: `512` \\\n",
    "The Display(inch) retuns: \\\n",
    "`38.1 cm (15 inch) Display`: `15`\n",
    "\n",
    "* You might need to create **new columns** with the corresponding **column names**.\n",
    "* **To validate your result, run**:\n",
    "\n",
    "```python\n",
    "df[[\"price\", \"SSD(GB)\", \"warranty(years)\", \"Display(inch)\"]].sample(n=10, random_state=10)\n",
    "```\n",
    "\n",
    "b.) \n",
    "\n",
    "i.) Create a new column called `RAM_type` which extract the type of RAM. \\\n",
    "e.g. \\\n",
    "`32 GB LPDDR5 RAM`: `LPDDR5`\n",
    "\n",
    "ii.) Create a new column called `is_SSD` which checks whether the `SSD` storage is `SSD` or not. It returns True if it's an SSD storage otherwise, False.\n",
    "\n",
    "c.) Using the approriate column, create an new column called `Brand_name` by extracting the brand names. Validate your result by displaying the unique values in `Brand_name`"
   ]
  },
  {
   "cell_type": "code",
   "execution_count": 23,
   "id": "b9377e29-13e6-4a91-9120-07eb2d1a1768",
   "metadata": {
    "id": "b9377e29-13e6-4a91-9120-07eb2d1a1768",
    "scrolled": true
   },
   "outputs": [
    {
     "data": {
      "text/html": [
       "<div>\n",
       "<style scoped>\n",
       "    .dataframe tbody tr th:only-of-type {\n",
       "        vertical-align: middle;\n",
       "    }\n",
       "\n",
       "    .dataframe tbody tr th {\n",
       "        vertical-align: top;\n",
       "    }\n",
       "\n",
       "    .dataframe thead th {\n",
       "        text-align: right;\n",
       "    }\n",
       "</style>\n",
       "<table border=\"1\" class=\"dataframe\">\n",
       "  <thead>\n",
       "    <tr style=\"text-align: right;\">\n",
       "      <th></th>\n",
       "      <th>Unnamed: 0</th>\n",
       "      <th>title</th>\n",
       "      <th>price</th>\n",
       "      <th>discount</th>\n",
       "      <th>Processor</th>\n",
       "      <th>RAM</th>\n",
       "      <th>OS</th>\n",
       "      <th>SSD</th>\n",
       "      <th>Display</th>\n",
       "      <th>In_build_sw</th>\n",
       "      <th>warranty</th>\n",
       "    </tr>\n",
       "  </thead>\n",
       "  <tbody>\n",
       "    <tr>\n",
       "      <th>0</th>\n",
       "      <td>0</td>\n",
       "      <td>DELL Vostro Core i3 11th Gen - (8 GB/1 TB HDD/256 GB SSD/Windows 11 Home) Vostro 3510 Thin and Light L...</td>\n",
       "      <td>₹37,990</td>\n",
       "      <td>₹58,48935% off</td>\n",
       "      <td>Processor: Intel i3-1115G4 (Base- 1.7 GHz &amp; Turbo up to 4.10 GHz) 2 Cores</td>\n",
       "      <td>RAM &amp; Storage: 8GB DDR4 &amp; 1TB HDD + 256GB SSD</td>\n",
       "      <td>Graphics &amp; Keyboard: Integrated &amp; Standard Keyboard</td>\n",
       "      <td>Display: 15.6\" FHD WVA AG Narrow Border</td>\n",
       "      <td>Intel Core i3 Processor (11th Gen)</td>\n",
       "      <td>NaN</td>\n",
       "      <td>8 GB DDR4 RAM</td>\n",
       "    </tr>\n",
       "    <tr>\n",
       "      <th>1</th>\n",
       "      <td>1</td>\n",
       "      <td>HP 14s Intel Core i3 11th Gen - (8 GB/256 GB SSD/Windows 11 Home) 14s - dy2507TU Thin and Light Laptop</td>\n",
       "      <td>₹35,490</td>\n",
       "      <td>₹47,20624% off</td>\n",
       "      <td>Intel Core i3 Processor (11th Gen)</td>\n",
       "      <td>8 GB DDR4 RAM</td>\n",
       "      <td>64 bit Windows 11 Operating System</td>\n",
       "      <td>256 GB SSD</td>\n",
       "      <td>35.56 cm (14 inch) Display</td>\n",
       "      <td>NaN</td>\n",
       "      <td>1 Year Onsite Warranty</td>\n",
       "    </tr>\n",
       "    <tr>\n",
       "      <th>2</th>\n",
       "      <td>2</td>\n",
       "      <td>Lenovo V15 G2 Core i3 11th Gen - (8 GB/512 GB SSD/Windows 11 Home) V15 ITL G2 Laptop</td>\n",
       "      <td>₹33,999</td>\n",
       "      <td>₹59,76043% off</td>\n",
       "      <td>Intel Core i3 Processor (11th Gen)</td>\n",
       "      <td>8 GB DDR4 RAM</td>\n",
       "      <td>64 bit Windows 11 Operating System</td>\n",
       "      <td>512 GB SSD</td>\n",
       "      <td>39.62 cm (15.6 Inch) Display</td>\n",
       "      <td>No</td>\n",
       "      <td>1 Year Onsite Warranty + 1 Year Accidental Damage Protection Add On</td>\n",
       "    </tr>\n",
       "    <tr>\n",
       "      <th>3</th>\n",
       "      <td>3</td>\n",
       "      <td>HP 15s Intel Core i3 12th Gen - (8 GB/512 GB SSD/Windows 11 Home) 15s-fq5007TU Thin and Light Laptop</td>\n",
       "      <td>₹45,490</td>\n",
       "      <td>₹56,26019% off</td>\n",
       "      <td>Intel Core i3 Processor (12th Gen)</td>\n",
       "      <td>8 GB DDR4 RAM</td>\n",
       "      <td>64 bit Windows 11 Operating System</td>\n",
       "      <td>512 GB SSD</td>\n",
       "      <td>39.62 cm (15.6 Inch) Display</td>\n",
       "      <td>Microsoft Office Home &amp; Student 2021</td>\n",
       "      <td>1 Year Onsite Warranty</td>\n",
       "    </tr>\n",
       "    <tr>\n",
       "      <th>4</th>\n",
       "      <td>4</td>\n",
       "      <td>ASUS VivoBook 15 (2022) Core i3 10th Gen - (8 GB/512 GB SSD/Windows 11 Home) X515JA-EJ362WS | X515JA-E...</td>\n",
       "      <td>₹33,990</td>\n",
       "      <td>₹45,99026% off</td>\n",
       "      <td>Intel Core i3 Processor (10th Gen)</td>\n",
       "      <td>8 GB DDR4 RAM</td>\n",
       "      <td>64 bit Windows 11 Operating System</td>\n",
       "      <td>512 GB SSD</td>\n",
       "      <td>39.62 cm (15.6 inch) Display</td>\n",
       "      <td>Office Home and Student 2021</td>\n",
       "      <td>1 Year Onsite Warranty</td>\n",
       "    </tr>\n",
       "  </tbody>\n",
       "</table>\n",
       "</div>"
      ],
      "text/plain": [
       "   Unnamed: 0  \\\n",
       "0           0   \n",
       "1           1   \n",
       "2           2   \n",
       "3           3   \n",
       "4           4   \n",
       "\n",
       "                                                                                                       title  \\\n",
       "0  DELL Vostro Core i3 11th Gen - (8 GB/1 TB HDD/256 GB SSD/Windows 11 Home) Vostro 3510 Thin and Light L...   \n",
       "1     HP 14s Intel Core i3 11th Gen - (8 GB/256 GB SSD/Windows 11 Home) 14s - dy2507TU Thin and Light Laptop   \n",
       "2                       Lenovo V15 G2 Core i3 11th Gen - (8 GB/512 GB SSD/Windows 11 Home) V15 ITL G2 Laptop   \n",
       "3       HP 15s Intel Core i3 12th Gen - (8 GB/512 GB SSD/Windows 11 Home) 15s-fq5007TU Thin and Light Laptop   \n",
       "4  ASUS VivoBook 15 (2022) Core i3 10th Gen - (8 GB/512 GB SSD/Windows 11 Home) X515JA-EJ362WS | X515JA-E...   \n",
       "\n",
       "     price        discount  \\\n",
       "0  ₹37,990  ₹58,48935% off   \n",
       "1  ₹35,490  ₹47,20624% off   \n",
       "2  ₹33,999  ₹59,76043% off   \n",
       "3  ₹45,490  ₹56,26019% off   \n",
       "4  ₹33,990  ₹45,99026% off   \n",
       "\n",
       "                                                                   Processor  \\\n",
       "0  Processor: Intel i3-1115G4 (Base- 1.7 GHz & Turbo up to 4.10 GHz) 2 Cores   \n",
       "1                                         Intel Core i3 Processor (11th Gen)   \n",
       "2                                         Intel Core i3 Processor (11th Gen)   \n",
       "3                                         Intel Core i3 Processor (12th Gen)   \n",
       "4                                         Intel Core i3 Processor (10th Gen)   \n",
       "\n",
       "                                             RAM  \\\n",
       "0  RAM & Storage: 8GB DDR4 & 1TB HDD + 256GB SSD   \n",
       "1                                  8 GB DDR4 RAM   \n",
       "2                                  8 GB DDR4 RAM   \n",
       "3                                  8 GB DDR4 RAM   \n",
       "4                                  8 GB DDR4 RAM   \n",
       "\n",
       "                                                    OS  \\\n",
       "0  Graphics & Keyboard: Integrated & Standard Keyboard   \n",
       "1                   64 bit Windows 11 Operating System   \n",
       "2                   64 bit Windows 11 Operating System   \n",
       "3                   64 bit Windows 11 Operating System   \n",
       "4                   64 bit Windows 11 Operating System   \n",
       "\n",
       "                                       SSD  \\\n",
       "0  Display: 15.6\" FHD WVA AG Narrow Border   \n",
       "1                               256 GB SSD   \n",
       "2                               512 GB SSD   \n",
       "3                               512 GB SSD   \n",
       "4                               512 GB SSD   \n",
       "\n",
       "                              Display                           In_build_sw  \\\n",
       "0  Intel Core i3 Processor (11th Gen)                                   NaN   \n",
       "1          35.56 cm (14 inch) Display                                   NaN   \n",
       "2        39.62 cm (15.6 Inch) Display                                    No   \n",
       "3        39.62 cm (15.6 Inch) Display  Microsoft Office Home & Student 2021   \n",
       "4        39.62 cm (15.6 inch) Display          Office Home and Student 2021   \n",
       "\n",
       "                                                              warranty  \n",
       "0                                                        8 GB DDR4 RAM  \n",
       "1                                               1 Year Onsite Warranty  \n",
       "2  1 Year Onsite Warranty + 1 Year Accidental Damage Protection Add On  \n",
       "3                                               1 Year Onsite Warranty  \n",
       "4                                               1 Year Onsite Warranty  "
      ]
     },
     "execution_count": 23,
     "metadata": {},
     "output_type": "execute_result"
    },
    {
     "data": {
      "application/javascript": [
       "\n",
       "            setTimeout(function() {\n",
       "                var nbb_cell_id = 23;\n",
       "                var nbb_unformatted_code = \"# 4a Enter your solution here\\n\\n# Read data\\ndf_3 = pd.read_csv(\\\"laptops.csv\\\")\\n\\n# Copy data\\nlaptops = df_3.copy()\\n\\n# View first 5 rows\\nlaptops.head()\";\n",
       "                var nbb_formatted_code = \"# 4a Enter your solution here\\n\\n# Read data\\ndf_3 = pd.read_csv(\\\"laptops.csv\\\")\\n\\n# Copy data\\nlaptops = df_3.copy()\\n\\n# View first 5 rows\\nlaptops.head()\";\n",
       "                var nbb_cells = Jupyter.notebook.get_cells();\n",
       "                for (var i = 0; i < nbb_cells.length; ++i) {\n",
       "                    if (nbb_cells[i].input_prompt_number == nbb_cell_id) {\n",
       "                        if (nbb_cells[i].get_text() == nbb_unformatted_code) {\n",
       "                             nbb_cells[i].set_text(nbb_formatted_code);\n",
       "                        }\n",
       "                        break;\n",
       "                    }\n",
       "                }\n",
       "            }, 500);\n",
       "            "
      ],
      "text/plain": [
       "<IPython.core.display.Javascript object>"
      ]
     },
     "metadata": {},
     "output_type": "display_data"
    }
   ],
   "source": [
    "# 4a Enter your solution here\n",
    "\n",
    "# Read data\n",
    "df_3 = pd.read_csv(\"laptops.csv\")\n",
    "\n",
    "# Copy data\n",
    "laptops = df_3.copy()\n",
    "\n",
    "# View first 5 rows\n",
    "laptops.head()"
   ]
  },
  {
   "cell_type": "code",
   "execution_count": null,
   "id": "82899874",
   "metadata": {},
   "outputs": [],
   "source": []
  },
  {
   "cell_type": "code",
   "execution_count": 24,
   "id": "1a59bd39",
   "metadata": {},
   "outputs": [
    {
     "data": {
      "application/javascript": [
       "\n",
       "            setTimeout(function() {\n",
       "                var nbb_cell_id = 24;\n",
       "                var nbb_unformatted_code = \"# Creating a new column 'new_price' from 'price' column removing the prefix(currency symbol, rupee)\\n# Code for the currency symbol is '\\\\u20B9'\\n\\nlaptops[\\\"price(rupee)\\\"] = laptops[\\\"price\\\"].apply(lambda x: x.removeprefix(\\\"\\\\u20B9\\\"))\";\n",
       "                var nbb_formatted_code = \"# Creating a new column 'new_price' from 'price' column removing the prefix(currency symbol, rupee)\\n# Code for the currency symbol is '\\\\u20B9'\\n\\nlaptops[\\\"price(rupee)\\\"] = laptops[\\\"price\\\"].apply(lambda x: x.removeprefix(\\\"\\\\u20B9\\\"))\";\n",
       "                var nbb_cells = Jupyter.notebook.get_cells();\n",
       "                for (var i = 0; i < nbb_cells.length; ++i) {\n",
       "                    if (nbb_cells[i].input_prompt_number == nbb_cell_id) {\n",
       "                        if (nbb_cells[i].get_text() == nbb_unformatted_code) {\n",
       "                             nbb_cells[i].set_text(nbb_formatted_code);\n",
       "                        }\n",
       "                        break;\n",
       "                    }\n",
       "                }\n",
       "            }, 500);\n",
       "            "
      ],
      "text/plain": [
       "<IPython.core.display.Javascript object>"
      ]
     },
     "metadata": {},
     "output_type": "display_data"
    }
   ],
   "source": [
    "# Creating a new column 'new_price' from 'price' column removing the prefix(currency symbol, rupee)\n",
    "# Code for the currency symbol is '\\u20B9'\n",
    "\n",
    "laptops[\"price(rupee)\"] = laptops[\"price\"].apply(lambda x: x.removeprefix(\"\\u20B9\"))"
   ]
  },
  {
   "cell_type": "code",
   "execution_count": 25,
   "id": "604d9170",
   "metadata": {},
   "outputs": [
    {
     "data": {
      "application/javascript": [
       "\n",
       "            setTimeout(function() {\n",
       "                var nbb_cell_id = 25;\n",
       "                var nbb_unformatted_code = \"# Creating a new column 'SSD(GB)' from 'SSD' column extracting some pattern\\n\\nlaptops[\\\"SSD(GB)\\\"] = laptops[\\\"SSD\\\"].str.extract(r\\\"(\\\\d{1,5}\\\\.?\\\\d*)\\\")\";\n",
       "                var nbb_formatted_code = \"# Creating a new column 'SSD(GB)' from 'SSD' column extracting some pattern\\n\\nlaptops[\\\"SSD(GB)\\\"] = laptops[\\\"SSD\\\"].str.extract(r\\\"(\\\\d{1,5}\\\\.?\\\\d*)\\\")\";\n",
       "                var nbb_cells = Jupyter.notebook.get_cells();\n",
       "                for (var i = 0; i < nbb_cells.length; ++i) {\n",
       "                    if (nbb_cells[i].input_prompt_number == nbb_cell_id) {\n",
       "                        if (nbb_cells[i].get_text() == nbb_unformatted_code) {\n",
       "                             nbb_cells[i].set_text(nbb_formatted_code);\n",
       "                        }\n",
       "                        break;\n",
       "                    }\n",
       "                }\n",
       "            }, 500);\n",
       "            "
      ],
      "text/plain": [
       "<IPython.core.display.Javascript object>"
      ]
     },
     "metadata": {},
     "output_type": "display_data"
    }
   ],
   "source": [
    "# Creating a new column 'SSD(GB)' from 'SSD' column extracting some pattern\n",
    "\n",
    "laptops[\"SSD(GB)\"] = laptops[\"SSD\"].str.extract(r\"(\\d{1,5}\\.?\\d*)\")"
   ]
  },
  {
   "cell_type": "code",
   "execution_count": 26,
   "id": "9eb8953c",
   "metadata": {},
   "outputs": [
    {
     "data": {
      "application/javascript": [
       "\n",
       "            setTimeout(function() {\n",
       "                var nbb_cell_id = 26;\n",
       "                var nbb_unformatted_code = \"# Creating a new column 'warranty(years)' from 'warranty' column extracting some pattern\\n\\n\\nlaptops[\\\"warranty(years)\\\"] = laptops[\\\"warranty\\\"].str.extract(r\\\"(\\\\d{1,10}\\\\.?\\\\d*)\\\")\";\n",
       "                var nbb_formatted_code = \"# Creating a new column 'warranty(years)' from 'warranty' column extracting some pattern\\n\\n\\nlaptops[\\\"warranty(years)\\\"] = laptops[\\\"warranty\\\"].str.extract(r\\\"(\\\\d{1,10}\\\\.?\\\\d*)\\\")\";\n",
       "                var nbb_cells = Jupyter.notebook.get_cells();\n",
       "                for (var i = 0; i < nbb_cells.length; ++i) {\n",
       "                    if (nbb_cells[i].input_prompt_number == nbb_cell_id) {\n",
       "                        if (nbb_cells[i].get_text() == nbb_unformatted_code) {\n",
       "                             nbb_cells[i].set_text(nbb_formatted_code);\n",
       "                        }\n",
       "                        break;\n",
       "                    }\n",
       "                }\n",
       "            }, 500);\n",
       "            "
      ],
      "text/plain": [
       "<IPython.core.display.Javascript object>"
      ]
     },
     "metadata": {},
     "output_type": "display_data"
    }
   ],
   "source": [
    "# Creating a new column 'warranty(years)' from 'warranty' column extracting some pattern\n",
    "\n",
    "\n",
    "laptops[\"warranty(years)\"] = laptops[\"warranty\"].str.extract(r\"(\\d{1,10}\\.?\\d*)\")"
   ]
  },
  {
   "cell_type": "code",
   "execution_count": 27,
   "id": "28ab20fe",
   "metadata": {},
   "outputs": [
    {
     "data": {
      "text/html": [
       "<div>\n",
       "<style scoped>\n",
       "    .dataframe tbody tr th:only-of-type {\n",
       "        vertical-align: middle;\n",
       "    }\n",
       "\n",
       "    .dataframe tbody tr th {\n",
       "        vertical-align: top;\n",
       "    }\n",
       "\n",
       "    .dataframe thead th {\n",
       "        text-align: right;\n",
       "    }\n",
       "</style>\n",
       "<table border=\"1\" class=\"dataframe\">\n",
       "  <thead>\n",
       "    <tr style=\"text-align: right;\">\n",
       "      <th></th>\n",
       "      <th>price(rupee)</th>\n",
       "      <th>SSD(GB)</th>\n",
       "      <th>warranty(years)</th>\n",
       "    </tr>\n",
       "  </thead>\n",
       "  <tbody>\n",
       "    <tr>\n",
       "      <th>242</th>\n",
       "      <td>56,340</td>\n",
       "      <td>256</td>\n",
       "      <td>1</td>\n",
       "    </tr>\n",
       "    <tr>\n",
       "      <th>441</th>\n",
       "      <td>58,900</td>\n",
       "      <td>512</td>\n",
       "      <td>1</td>\n",
       "    </tr>\n",
       "    <tr>\n",
       "      <th>260</th>\n",
       "      <td>87,701</td>\n",
       "      <td>512</td>\n",
       "      <td>1</td>\n",
       "    </tr>\n",
       "    <tr>\n",
       "      <th>546</th>\n",
       "      <td>30,490</td>\n",
       "      <td>256</td>\n",
       "      <td>1</td>\n",
       "    </tr>\n",
       "    <tr>\n",
       "      <th>849</th>\n",
       "      <td>24,540</td>\n",
       "      <td>256</td>\n",
       "      <td>1</td>\n",
       "    </tr>\n",
       "    <tr>\n",
       "      <th>264</th>\n",
       "      <td>2,11,990</td>\n",
       "      <td>1</td>\n",
       "      <td>1</td>\n",
       "    </tr>\n",
       "    <tr>\n",
       "      <th>768</th>\n",
       "      <td>61,890</td>\n",
       "      <td>1</td>\n",
       "      <td>1</td>\n",
       "    </tr>\n",
       "    <tr>\n",
       "      <th>790</th>\n",
       "      <td>1,03,990</td>\n",
       "      <td>512</td>\n",
       "      <td>1</td>\n",
       "    </tr>\n",
       "    <tr>\n",
       "      <th>293</th>\n",
       "      <td>74,890</td>\n",
       "      <td>NaN</td>\n",
       "      <td>5</td>\n",
       "    </tr>\n",
       "    <tr>\n",
       "      <th>442</th>\n",
       "      <td>1,15,736</td>\n",
       "      <td>1</td>\n",
       "      <td>1</td>\n",
       "    </tr>\n",
       "  </tbody>\n",
       "</table>\n",
       "</div>"
      ],
      "text/plain": [
       "    price(rupee) SSD(GB) warranty(years)\n",
       "242       56,340     256               1\n",
       "441       58,900     512               1\n",
       "260       87,701     512               1\n",
       "546       30,490     256               1\n",
       "849       24,540     256               1\n",
       "264     2,11,990       1               1\n",
       "768       61,890       1               1\n",
       "790     1,03,990     512               1\n",
       "293       74,890     NaN               5\n",
       "442     1,15,736       1               1"
      ]
     },
     "execution_count": 27,
     "metadata": {},
     "output_type": "execute_result"
    },
    {
     "data": {
      "application/javascript": [
       "\n",
       "            setTimeout(function() {\n",
       "                var nbb_cell_id = 27;\n",
       "                var nbb_unformatted_code = \"# Validate result\\n\\nlaptops[[\\\"price(rupee)\\\", \\\"SSD(GB)\\\", \\\"warranty(years)\\\"]].sample(n=10, random_state=10)\";\n",
       "                var nbb_formatted_code = \"# Validate result\\n\\nlaptops[[\\\"price(rupee)\\\", \\\"SSD(GB)\\\", \\\"warranty(years)\\\"]].sample(n=10, random_state=10)\";\n",
       "                var nbb_cells = Jupyter.notebook.get_cells();\n",
       "                for (var i = 0; i < nbb_cells.length; ++i) {\n",
       "                    if (nbb_cells[i].input_prompt_number == nbb_cell_id) {\n",
       "                        if (nbb_cells[i].get_text() == nbb_unformatted_code) {\n",
       "                             nbb_cells[i].set_text(nbb_formatted_code);\n",
       "                        }\n",
       "                        break;\n",
       "                    }\n",
       "                }\n",
       "            }, 500);\n",
       "            "
      ],
      "text/plain": [
       "<IPython.core.display.Javascript object>"
      ]
     },
     "metadata": {},
     "output_type": "display_data"
    }
   ],
   "source": [
    "# Validate result\n",
    "\n",
    "laptops[[\"price(rupee)\", \"SSD(GB)\", \"warranty(years)\"]].sample(n=10, random_state=10)"
   ]
  },
  {
   "cell_type": "code",
   "execution_count": null,
   "id": "4ea247ee",
   "metadata": {},
   "outputs": [],
   "source": []
  },
  {
   "cell_type": "code",
   "execution_count": 28,
   "id": "315980f2-d047-4213-ba28-231774b5fb37",
   "metadata": {
    "id": "315980f2-d047-4213-ba28-231774b5fb37",
    "scrolled": true
   },
   "outputs": [
    {
     "data": {
      "text/plain": [
       "array(['DDR4', 'LPDDR4', 'DDR5', 'LPDDR5', nan, 'HDR ', 'DDR3', 'LPDDR3'],\n",
       "      dtype=object)"
      ]
     },
     "execution_count": 28,
     "metadata": {},
     "output_type": "execute_result"
    },
    {
     "data": {
      "application/javascript": [
       "\n",
       "            setTimeout(function() {\n",
       "                var nbb_cell_id = 28;\n",
       "                var nbb_unformatted_code = \"# 4bi Enter your solution here\\n\\n# Creating a new column 'RAM_type' from 'RAM' column extracting some pattern\\nlaptops[\\\"RAM_type\\\"] = laptops[\\\"RAM\\\"].str.extract(r\\\"(\\\\DDR.?|LPDDR.?)\\\")\\n\\n# Validate result\\nlaptops[\\\"RAM_type\\\"].unique()\";\n",
       "                var nbb_formatted_code = \"# 4bi Enter your solution here\\n\\n# Creating a new column 'RAM_type' from 'RAM' column extracting some pattern\\nlaptops[\\\"RAM_type\\\"] = laptops[\\\"RAM\\\"].str.extract(r\\\"(\\\\DDR.?|LPDDR.?)\\\")\\n\\n# Validate result\\nlaptops[\\\"RAM_type\\\"].unique()\";\n",
       "                var nbb_cells = Jupyter.notebook.get_cells();\n",
       "                for (var i = 0; i < nbb_cells.length; ++i) {\n",
       "                    if (nbb_cells[i].input_prompt_number == nbb_cell_id) {\n",
       "                        if (nbb_cells[i].get_text() == nbb_unformatted_code) {\n",
       "                             nbb_cells[i].set_text(nbb_formatted_code);\n",
       "                        }\n",
       "                        break;\n",
       "                    }\n",
       "                }\n",
       "            }, 500);\n",
       "            "
      ],
      "text/plain": [
       "<IPython.core.display.Javascript object>"
      ]
     },
     "metadata": {},
     "output_type": "display_data"
    }
   ],
   "source": [
    "# 4bi Enter your solution here\n",
    "\n",
    "# Creating a new column 'RAM_type' from 'RAM' column extracting some pattern\n",
    "laptops[\"RAM_type\"] = laptops[\"RAM\"].str.extract(r\"(\\DDR.?|LPDDR.?)\")\n",
    "\n",
    "# Validate result\n",
    "laptops[\"RAM_type\"].unique()"
   ]
  },
  {
   "cell_type": "code",
   "execution_count": 29,
   "id": "9925e6f6",
   "metadata": {},
   "outputs": [
    {
     "name": "stderr",
     "output_type": "stream",
     "text": [
      "C:\\Users\\Akinbade Adenike\\AppData\\Local\\Temp\\ipykernel_8856\\644210857.py:2: UserWarning: This pattern is interpreted as a regular expression, and has match groups. To actually get the groups, use str.extract.\n",
      "  laptops[\"is_SSD\"] = laptops[\"SSD\"].str.contains(r\"(\\SSD)\")\n"
     ]
    },
    {
     "data": {
      "text/plain": [
       "array([False,  True])"
      ]
     },
     "execution_count": 29,
     "metadata": {},
     "output_type": "execute_result"
    },
    {
     "data": {
      "application/javascript": [
       "\n",
       "            setTimeout(function() {\n",
       "                var nbb_cell_id = 29;\n",
       "                var nbb_unformatted_code = \"# Creating a new column 'is_SSD' from 'SSD' returns boolean value if it contains the pattern or not\\nlaptops[\\\"is_SSD\\\"] = laptops[\\\"SSD\\\"].str.contains(r\\\"(\\\\SSD)\\\")\\n\\n# Validate result\\nlaptops[\\\"is_SSD\\\"].unique()\";\n",
       "                var nbb_formatted_code = \"# Creating a new column 'is_SSD' from 'SSD' returns boolean value if it contains the pattern or not\\nlaptops[\\\"is_SSD\\\"] = laptops[\\\"SSD\\\"].str.contains(r\\\"(\\\\SSD)\\\")\\n\\n# Validate result\\nlaptops[\\\"is_SSD\\\"].unique()\";\n",
       "                var nbb_cells = Jupyter.notebook.get_cells();\n",
       "                for (var i = 0; i < nbb_cells.length; ++i) {\n",
       "                    if (nbb_cells[i].input_prompt_number == nbb_cell_id) {\n",
       "                        if (nbb_cells[i].get_text() == nbb_unformatted_code) {\n",
       "                             nbb_cells[i].set_text(nbb_formatted_code);\n",
       "                        }\n",
       "                        break;\n",
       "                    }\n",
       "                }\n",
       "            }, 500);\n",
       "            "
      ],
      "text/plain": [
       "<IPython.core.display.Javascript object>"
      ]
     },
     "metadata": {},
     "output_type": "display_data"
    }
   ],
   "source": [
    "# Creating a new column 'is_SSD' from 'SSD' returns boolean value if it contains the pattern or not\n",
    "laptops[\"is_SSD\"] = laptops[\"SSD\"].str.contains(r\"(\\SSD)\")\n",
    "\n",
    "# Validate result\n",
    "laptops[\"is_SSD\"].unique()"
   ]
  },
  {
   "cell_type": "code",
   "execution_count": 30,
   "id": "f6507f32-02e5-4418-a025-0d02b8092fad",
   "metadata": {
    "id": "f6507f32-02e5-4418-a025-0d02b8092fad",
    "scrolled": true
   },
   "outputs": [
    {
     "data": {
      "text/plain": [
       "array(['DELL', 'HP', 'Lenovo', 'ASUS', 'RedmiBook', 'acer', 'Infinix',\n",
       "       'APPLE', 'MSI', 'SAMSUNG', 'realme', 'ALIENWARE', 'GIGABYTE',\n",
       "       'Avita', 'Nokia', 'Vaio', 'Mi', 'LG', 'Ultimus'], dtype=object)"
      ]
     },
     "execution_count": 30,
     "metadata": {},
     "output_type": "execute_result"
    },
    {
     "data": {
      "application/javascript": [
       "\n",
       "            setTimeout(function() {\n",
       "                var nbb_cell_id = 30;\n",
       "                var nbb_unformatted_code = \"# 4ci Enter your solution here\\n\\n# Creating a new column 'brand_name' from 'title' column extracting the brand names\\nlaptops[\\\"brand_name\\\"] = laptops[\\\"title\\\"].str.extract(r\\\"(\\\\w*)\\\")\\n\\n# Validate result\\nlaptops[\\\"brand_name\\\"].unique()\";\n",
       "                var nbb_formatted_code = \"# 4ci Enter your solution here\\n\\n# Creating a new column 'brand_name' from 'title' column extracting the brand names\\nlaptops[\\\"brand_name\\\"] = laptops[\\\"title\\\"].str.extract(r\\\"(\\\\w*)\\\")\\n\\n# Validate result\\nlaptops[\\\"brand_name\\\"].unique()\";\n",
       "                var nbb_cells = Jupyter.notebook.get_cells();\n",
       "                for (var i = 0; i < nbb_cells.length; ++i) {\n",
       "                    if (nbb_cells[i].input_prompt_number == nbb_cell_id) {\n",
       "                        if (nbb_cells[i].get_text() == nbb_unformatted_code) {\n",
       "                             nbb_cells[i].set_text(nbb_formatted_code);\n",
       "                        }\n",
       "                        break;\n",
       "                    }\n",
       "                }\n",
       "            }, 500);\n",
       "            "
      ],
      "text/plain": [
       "<IPython.core.display.Javascript object>"
      ]
     },
     "metadata": {},
     "output_type": "display_data"
    }
   ],
   "source": [
    "# 4ci Enter your solution here\n",
    "\n",
    "# Creating a new column 'brand_name' from 'title' column extracting the brand names\n",
    "laptops[\"brand_name\"] = laptops[\"title\"].str.extract(r\"(\\w*)\")\n",
    "\n",
    "# Validate result\n",
    "laptops[\"brand_name\"].unique()"
   ]
  },
  {
   "cell_type": "code",
   "execution_count": 31,
   "id": "ba1616f3",
   "metadata": {},
   "outputs": [
    {
     "data": {
      "text/html": [
       "<div>\n",
       "<style scoped>\n",
       "    .dataframe tbody tr th:only-of-type {\n",
       "        vertical-align: middle;\n",
       "    }\n",
       "\n",
       "    .dataframe tbody tr th {\n",
       "        vertical-align: top;\n",
       "    }\n",
       "\n",
       "    .dataframe thead th {\n",
       "        text-align: right;\n",
       "    }\n",
       "</style>\n",
       "<table border=\"1\" class=\"dataframe\">\n",
       "  <thead>\n",
       "    <tr style=\"text-align: right;\">\n",
       "      <th></th>\n",
       "      <th>Unnamed: 0</th>\n",
       "      <th>title</th>\n",
       "      <th>price</th>\n",
       "      <th>discount</th>\n",
       "      <th>Processor</th>\n",
       "      <th>RAM</th>\n",
       "      <th>OS</th>\n",
       "      <th>SSD</th>\n",
       "      <th>Display</th>\n",
       "      <th>In_build_sw</th>\n",
       "      <th>warranty</th>\n",
       "      <th>price(rupee)</th>\n",
       "      <th>SSD(GB)</th>\n",
       "      <th>warranty(years)</th>\n",
       "      <th>RAM_type</th>\n",
       "      <th>is_SSD</th>\n",
       "      <th>brand_name</th>\n",
       "    </tr>\n",
       "  </thead>\n",
       "  <tbody>\n",
       "    <tr>\n",
       "      <th>0</th>\n",
       "      <td>0</td>\n",
       "      <td>DELL Vostro Core i3 11th Gen - (8 GB/1 TB HDD/256 GB SSD/Windows 11 Home) Vostro 3510 Thin and Light L...</td>\n",
       "      <td>₹37,990</td>\n",
       "      <td>₹58,48935% off</td>\n",
       "      <td>Processor: Intel i3-1115G4 (Base- 1.7 GHz &amp; Turbo up to 4.10 GHz) 2 Cores</td>\n",
       "      <td>RAM &amp; Storage: 8GB DDR4 &amp; 1TB HDD + 256GB SSD</td>\n",
       "      <td>Graphics &amp; Keyboard: Integrated &amp; Standard Keyboard</td>\n",
       "      <td>Display: 15.6\" FHD WVA AG Narrow Border</td>\n",
       "      <td>Intel Core i3 Processor (11th Gen)</td>\n",
       "      <td>NaN</td>\n",
       "      <td>8 GB DDR4 RAM</td>\n",
       "      <td>37,990</td>\n",
       "      <td>15.6</td>\n",
       "      <td>8</td>\n",
       "      <td>DDR4</td>\n",
       "      <td>False</td>\n",
       "      <td>DELL</td>\n",
       "    </tr>\n",
       "    <tr>\n",
       "      <th>1</th>\n",
       "      <td>1</td>\n",
       "      <td>HP 14s Intel Core i3 11th Gen - (8 GB/256 GB SSD/Windows 11 Home) 14s - dy2507TU Thin and Light Laptop</td>\n",
       "      <td>₹35,490</td>\n",
       "      <td>₹47,20624% off</td>\n",
       "      <td>Intel Core i3 Processor (11th Gen)</td>\n",
       "      <td>8 GB DDR4 RAM</td>\n",
       "      <td>64 bit Windows 11 Operating System</td>\n",
       "      <td>256 GB SSD</td>\n",
       "      <td>35.56 cm (14 inch) Display</td>\n",
       "      <td>NaN</td>\n",
       "      <td>1 Year Onsite Warranty</td>\n",
       "      <td>35,490</td>\n",
       "      <td>256</td>\n",
       "      <td>1</td>\n",
       "      <td>DDR4</td>\n",
       "      <td>True</td>\n",
       "      <td>HP</td>\n",
       "    </tr>\n",
       "  </tbody>\n",
       "</table>\n",
       "</div>"
      ],
      "text/plain": [
       "   Unnamed: 0  \\\n",
       "0           0   \n",
       "1           1   \n",
       "\n",
       "                                                                                                       title  \\\n",
       "0  DELL Vostro Core i3 11th Gen - (8 GB/1 TB HDD/256 GB SSD/Windows 11 Home) Vostro 3510 Thin and Light L...   \n",
       "1     HP 14s Intel Core i3 11th Gen - (8 GB/256 GB SSD/Windows 11 Home) 14s - dy2507TU Thin and Light Laptop   \n",
       "\n",
       "     price        discount  \\\n",
       "0  ₹37,990  ₹58,48935% off   \n",
       "1  ₹35,490  ₹47,20624% off   \n",
       "\n",
       "                                                                   Processor  \\\n",
       "0  Processor: Intel i3-1115G4 (Base- 1.7 GHz & Turbo up to 4.10 GHz) 2 Cores   \n",
       "1                                         Intel Core i3 Processor (11th Gen)   \n",
       "\n",
       "                                             RAM  \\\n",
       "0  RAM & Storage: 8GB DDR4 & 1TB HDD + 256GB SSD   \n",
       "1                                  8 GB DDR4 RAM   \n",
       "\n",
       "                                                    OS  \\\n",
       "0  Graphics & Keyboard: Integrated & Standard Keyboard   \n",
       "1                   64 bit Windows 11 Operating System   \n",
       "\n",
       "                                       SSD  \\\n",
       "0  Display: 15.6\" FHD WVA AG Narrow Border   \n",
       "1                               256 GB SSD   \n",
       "\n",
       "                              Display In_build_sw                warranty  \\\n",
       "0  Intel Core i3 Processor (11th Gen)         NaN           8 GB DDR4 RAM   \n",
       "1          35.56 cm (14 inch) Display         NaN  1 Year Onsite Warranty   \n",
       "\n",
       "  price(rupee) SSD(GB) warranty(years) RAM_type  is_SSD brand_name  \n",
       "0       37,990    15.6               8     DDR4   False       DELL  \n",
       "1       35,490     256               1     DDR4    True         HP  "
      ]
     },
     "execution_count": 31,
     "metadata": {},
     "output_type": "execute_result"
    },
    {
     "data": {
      "application/javascript": [
       "\n",
       "            setTimeout(function() {\n",
       "                var nbb_cell_id = 31;\n",
       "                var nbb_unformatted_code = \"laptops.head(2)\";\n",
       "                var nbb_formatted_code = \"laptops.head(2)\";\n",
       "                var nbb_cells = Jupyter.notebook.get_cells();\n",
       "                for (var i = 0; i < nbb_cells.length; ++i) {\n",
       "                    if (nbb_cells[i].input_prompt_number == nbb_cell_id) {\n",
       "                        if (nbb_cells[i].get_text() == nbb_unformatted_code) {\n",
       "                             nbb_cells[i].set_text(nbb_formatted_code);\n",
       "                        }\n",
       "                        break;\n",
       "                    }\n",
       "                }\n",
       "            }, 500);\n",
       "            "
      ],
      "text/plain": [
       "<IPython.core.display.Javascript object>"
      ]
     },
     "metadata": {},
     "output_type": "display_data"
    }
   ],
   "source": [
    "laptops.head(2)"
   ]
  },
  {
   "cell_type": "markdown",
   "id": "464ea1b9",
   "metadata": {},
   "source": [
    "<hr>"
   ]
  },
  {
   "cell_type": "code",
   "execution_count": null,
   "id": "5525c191",
   "metadata": {},
   "outputs": [],
   "source": []
  }
 ],
 "metadata": {
  "colab": {
   "provenance": []
  },
  "kernelspec": {
   "display_name": "Python 3 (ipykernel)",
   "language": "python",
   "name": "python3"
  },
  "language_info": {
   "codemirror_mode": {
    "name": "ipython",
    "version": 3
   },
   "file_extension": ".py",
   "mimetype": "text/x-python",
   "name": "python",
   "nbconvert_exporter": "python",
   "pygments_lexer": "ipython3",
   "version": "3.9.16"
  }
 },
 "nbformat": 4,
 "nbformat_minor": 5
}
